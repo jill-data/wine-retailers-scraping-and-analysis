{
 "cells": [
  {
   "cell_type": "code",
   "execution_count": 245,
   "metadata": {},
   "outputs": [],
   "source": [
    "#import packages\n",
    "import pandas as pd\n",
    "import numpy as np\n",
    "import matplotlib.pyplot as plt\n",
    "import seaborn as sns\n",
    "from sklearn.impute import SimpleImputer"
   ]
  },
  {
   "cell_type": "code",
   "execution_count": 246,
   "metadata": {},
   "outputs": [
    {
     "data": {
      "text/html": [
       "<div>\n",
       "<style scoped>\n",
       "    .dataframe tbody tr th:only-of-type {\n",
       "        vertical-align: middle;\n",
       "    }\n",
       "\n",
       "    .dataframe tbody tr th {\n",
       "        vertical-align: top;\n",
       "    }\n",
       "\n",
       "    .dataframe thead th {\n",
       "        text-align: right;\n",
       "    }\n",
       "</style>\n",
       "<table border=\"1\" class=\"dataframe\">\n",
       "  <thead>\n",
       "    <tr style=\"text-align: right;\">\n",
       "      <th></th>\n",
       "      <th>wine_type</th>\n",
       "      <th>size (cL)</th>\n",
       "      <th>name</th>\n",
       "      <th>price</th>\n",
       "      <th>rating</th>\n",
       "      <th>num_review</th>\n",
       "      <th>country</th>\n",
       "      <th>abv</th>\n",
       "      <th>year</th>\n",
       "      <th>url</th>\n",
       "    </tr>\n",
       "  </thead>\n",
       "  <tbody>\n",
       "    <tr>\n",
       "      <th>0</th>\n",
       "      <td>white</td>\n",
       "      <td>75.0</td>\n",
       "      <td>McGuigan Black Label Shiraz</td>\n",
       "      <td>6.75</td>\n",
       "      <td>3.6</td>\n",
       "      <td>13</td>\n",
       "      <td>Australia</td>\n",
       "      <td>12.5</td>\n",
       "      <td>2021</td>\n",
       "      <td>https://groceries.morrisons.com/products/mcgui...</td>\n",
       "    </tr>\n",
       "    <tr>\n",
       "      <th>1</th>\n",
       "      <td>white</td>\n",
       "      <td>75.0</td>\n",
       "      <td>Morrisons The Best Touraine Rose</td>\n",
       "      <td>8.00</td>\n",
       "      <td>3.0</td>\n",
       "      <td>4</td>\n",
       "      <td>France</td>\n",
       "      <td>12.5</td>\n",
       "      <td>NaN</td>\n",
       "      <td>https://groceries.morrisons.com/products/morri...</td>\n",
       "    </tr>\n",
       "    <tr>\n",
       "      <th>2</th>\n",
       "      <td>white</td>\n",
       "      <td>75.0</td>\n",
       "      <td>McGuigan Black Label Merlot</td>\n",
       "      <td>6.75</td>\n",
       "      <td>4.2</td>\n",
       "      <td>13</td>\n",
       "      <td>Australia</td>\n",
       "      <td>12.5</td>\n",
       "      <td>2021</td>\n",
       "      <td>https://groceries.morrisons.com/products/mcgui...</td>\n",
       "    </tr>\n",
       "    <tr>\n",
       "      <th>3</th>\n",
       "      <td>white</td>\n",
       "      <td>75.0</td>\n",
       "      <td>Morrisons The Best South African Sauvignon Blanc</td>\n",
       "      <td>7.50</td>\n",
       "      <td>4.0</td>\n",
       "      <td>9</td>\n",
       "      <td>Western Cape</td>\n",
       "      <td>12.5</td>\n",
       "      <td>2021</td>\n",
       "      <td>https://groceries.morrisons.com/products/morri...</td>\n",
       "    </tr>\n",
       "    <tr>\n",
       "      <th>4</th>\n",
       "      <td>white</td>\n",
       "      <td>75.0</td>\n",
       "      <td>Hardys Nottage Hill Chardonnay</td>\n",
       "      <td>6.75</td>\n",
       "      <td>3.4</td>\n",
       "      <td>5</td>\n",
       "      <td>Australia</td>\n",
       "      <td>13.5</td>\n",
       "      <td>2017</td>\n",
       "      <td>https://groceries.morrisons.com/products/hardy...</td>\n",
       "    </tr>\n",
       "  </tbody>\n",
       "</table>\n",
       "</div>"
      ],
      "text/plain": [
       "  wine_type  size (cL)                                              name  \\\n",
       "0     white       75.0                       McGuigan Black Label Shiraz   \n",
       "1     white       75.0                  Morrisons The Best Touraine Rose   \n",
       "2     white       75.0                       McGuigan Black Label Merlot   \n",
       "3     white       75.0  Morrisons The Best South African Sauvignon Blanc   \n",
       "4     white       75.0                    Hardys Nottage Hill Chardonnay   \n",
       "\n",
       "   price  rating  num_review       country   abv  year  \\\n",
       "0   6.75     3.6          13     Australia  12.5  2021   \n",
       "1   8.00     3.0           4        France  12.5   NaN   \n",
       "2   6.75     4.2          13     Australia  12.5  2021   \n",
       "3   7.50     4.0           9  Western Cape  12.5  2021   \n",
       "4   6.75     3.4           5     Australia  13.5  2017   \n",
       "\n",
       "                                                 url  \n",
       "0  https://groceries.morrisons.com/products/mcgui...  \n",
       "1  https://groceries.morrisons.com/products/morri...  \n",
       "2  https://groceries.morrisons.com/products/mcgui...  \n",
       "3  https://groceries.morrisons.com/products/morri...  \n",
       "4  https://groceries.morrisons.com/products/hardy...  "
      ]
     },
     "execution_count": 246,
     "metadata": {},
     "output_type": "execute_result"
    }
   ],
   "source": [
    "path = \"morrissons_listings.csv\"\n",
    "morrisons = pd.read_csv(path, sep = \",\")\n",
    "morrisons.head()"
   ]
  },
  {
   "cell_type": "code",
   "execution_count": 247,
   "metadata": {},
   "outputs": [
    {
     "name": "stdout",
     "output_type": "stream",
     "text": [
      "<class 'pandas.core.frame.DataFrame'>\n",
      "RangeIndex: 518 entries, 0 to 517\n",
      "Data columns (total 10 columns):\n",
      " #   Column      Non-Null Count  Dtype  \n",
      "---  ------      --------------  -----  \n",
      " 0   wine_type   518 non-null    object \n",
      " 1   size (cL)   518 non-null    float64\n",
      " 2   name        518 non-null    object \n",
      " 3   price       518 non-null    float64\n",
      " 4   rating      518 non-null    float64\n",
      " 5   num_review  518 non-null    int64  \n",
      " 6   country     496 non-null    object \n",
      " 7   abv         509 non-null    float64\n",
      " 8   year        416 non-null    object \n",
      " 9   url         518 non-null    object \n",
      "dtypes: float64(4), int64(1), object(5)\n",
      "memory usage: 40.6+ KB\n"
     ]
    }
   ],
   "source": [
    "morrisons.info()"
   ]
  },
  {
   "cell_type": "code",
   "execution_count": 248,
   "metadata": {},
   "outputs": [],
   "source": [
    "# rename column to size for ease of use\n",
    "morrisons.rename(columns={\"size (cL)\" : \"size\"}, inplace=True)"
   ]
  },
  {
   "cell_type": "code",
   "execution_count": 249,
   "metadata": {},
   "outputs": [
    {
     "data": {
      "text/plain": [
       "array(['Australia', 'France', 'Western Cape', 'New Zealand', 'Italy',\n",
       "       'Chile', 'South Africa', 'Hungary', 'unknown', 'Spain',\n",
       "       'California', 'Produce of the EU', 'United States', 'Austria',\n",
       "       'Portugal', 'Western Australia', 'Germany', 'Argentina', 'U',\n",
       "       'Marlborough', 'United Kingdom', 'Bulgaria',\n",
       "       'Moldova (Republic Of)', 'USA', 'Valle Central', 'Bordeaux',\n",
       "       'Greece', 'Cahors', 'Scotland', ': Portugal',\n",
       "       'the Island of Madeira'], dtype=object)"
      ]
     },
     "execution_count": 249,
     "metadata": {},
     "output_type": "execute_result"
    }
   ],
   "source": [
    "morrisons[\"country\"].fillna(\"unknown\" , inplace=True)\n",
    "morrisons['country'] = morrisons['country'].str.replace(\"U \",\"unknown\")\n",
    "morrisons['country'] = morrisons['country'].str.replace(\"British\",\"United Kingdom\")\n",
    "morrisons['country'] = morrisons['country'].str.replace(\"England\",\"United Kingdom\")\n",
    "morrisons[\"country\"].unique()"
   ]
  },
  {
   "cell_type": "code",
   "execution_count": 250,
   "metadata": {},
   "outputs": [
    {
     "data": {
      "text/plain": [
       "array(['2021', nan, '2017', '2019', '2020', 'Non Vintage', '2015', '2012',\n",
       "       '2018', '2016', '2014', '2013', '2022'], dtype=object)"
      ]
     },
     "execution_count": 250,
     "metadata": {},
     "output_type": "execute_result"
    }
   ],
   "source": [
    "# Uniform value for all Non-Vintage years\n",
    "morrisons['year'] = morrisons['year'].str.replace(\"NV\",\"Non Vintage\")\n",
    "morrisons['year'].unique()"
   ]
  },
  {
   "cell_type": "code",
   "execution_count": 251,
   "metadata": {},
   "outputs": [
    {
     "name": "stdout",
     "output_type": "stream",
     "text": [
      "True\n",
      "     wine_type  size                                 name  price  rating  \\\n",
      "256  sparkling  75.0             La Gioiosa Prosecco Brut   10.0     4.7   \n",
      "338        red  75.0                     Apothic Red Wine    9.5     4.7   \n",
      "418        red  75.0                   Yellow Tail Malbec    7.0     4.6   \n",
      "449        red  75.0  Apothic Cabernet Sauvignon Red Wine   10.0     0.0   \n",
      "\n",
      "     num_review        country   abv         year  \\\n",
      "256           7          Italy  11.0  Non Vintage   \n",
      "338         208  United States  13.5         2019   \n",
      "418           7      Australia  13.5         2019   \n",
      "449           0  United States  13.5         2019   \n",
      "\n",
      "                                                   url  \n",
      "256  https://groceries.morrisons.com/products/la-gi...  \n",
      "338  https://groceries.morrisons.com/products/apoth...  \n",
      "418  https://groceries.morrisons.com/products/yello...  \n",
      "449  https://groceries.morrisons.com/products/apoth...  \n"
     ]
    }
   ],
   "source": [
    "#find duplicate rows\n",
    "dups = morrisons.duplicated() #checks each row of the dataset and returns TRUE or FALSE depending on whether it is a duplicate\n",
    "print(dups.any()) #returns TRUE if there is any value in dups that is equal to TRUE\n",
    "print(morrisons[dups]) #returns the problematic row"
   ]
  },
  {
   "cell_type": "code",
   "execution_count": 252,
   "metadata": {},
   "outputs": [
    {
     "name": "stdout",
     "output_type": "stream",
     "text": [
      "<class 'pandas.core.frame.DataFrame'>\n",
      "RangeIndex: 518 entries, 0 to 517\n",
      "Data columns (total 10 columns):\n",
      " #   Column      Non-Null Count  Dtype  \n",
      "---  ------      --------------  -----  \n",
      " 0   wine_type   518 non-null    object \n",
      " 1   size        518 non-null    float64\n",
      " 2   name        518 non-null    object \n",
      " 3   price       518 non-null    float64\n",
      " 4   rating      518 non-null    float64\n",
      " 5   num_review  518 non-null    int64  \n",
      " 6   country     518 non-null    object \n",
      " 7   abv         509 non-null    float64\n",
      " 8   year        416 non-null    object \n",
      " 9   url         518 non-null    object \n",
      "dtypes: float64(4), int64(1), object(5)\n",
      "memory usage: 40.6+ KB\n"
     ]
    }
   ],
   "source": [
    "morrisons.info()"
   ]
  },
  {
   "cell_type": "markdown",
   "metadata": {},
   "source": [
    "Use the function `.unique()` to take a look at the values taken on by `education`, `years_since_promotion`, and `exit`."
   ]
  },
  {
   "cell_type": "code",
   "execution_count": 253,
   "metadata": {},
   "outputs": [
    {
     "data": {
      "text/plain": [
       "wine_type     False\n",
       "size          False\n",
       "name          False\n",
       "price         False\n",
       "rating        False\n",
       "num_review    False\n",
       "country       False\n",
       "abv            True\n",
       "year           True\n",
       "url           False\n",
       "dtype: bool"
      ]
     },
     "execution_count": 253,
     "metadata": {},
     "output_type": "execute_result"
    }
   ],
   "source": [
    "morrisons.isna().any()"
   ]
  },
  {
   "cell_type": "code",
   "execution_count": 254,
   "metadata": {},
   "outputs": [
    {
     "data": {
      "text/plain": [
       "wine_type       0\n",
       "size            0\n",
       "name            0\n",
       "price           0\n",
       "rating          0\n",
       "num_review      0\n",
       "country         0\n",
       "abv             9\n",
       "year          102\n",
       "url             0\n",
       "dtype: int64"
      ]
     },
     "execution_count": 254,
     "metadata": {},
     "output_type": "execute_result"
    }
   ],
   "source": [
    "morrisons.isna().sum()"
   ]
  },
  {
   "cell_type": "code",
   "execution_count": 255,
   "metadata": {},
   "outputs": [
    {
     "data": {
      "text/plain": [
       "wine_type       5\n",
       "size            9\n",
       "name          490\n",
       "price          81\n",
       "rating         35\n",
       "num_review     29\n",
       "country        31\n",
       "abv            28\n",
       "year           12\n",
       "url           501\n",
       "dtype: int64"
      ]
     },
     "execution_count": 255,
     "metadata": {},
     "output_type": "execute_result"
    }
   ],
   "source": [
    "morrisons.nunique()"
   ]
  },
  {
   "cell_type": "code",
   "execution_count": 256,
   "metadata": {
    "scrolled": true
   },
   "outputs": [
    {
     "data": {
      "text/plain": [
       "array([3.6, 3. , 4.2, 4. , 3.4, 4.1, 2.8, 3.7, 3.8, 4.8, 2.3, 4.4, 0. ,\n",
       "       5. , 3.5, 4.3, 4.7, 4.5, 3.3, 1. , 2.9, 2.7, 3.2, 4.6, 2. , 2.5,\n",
       "       2.6, 4.9, 1.7, 3.9, 2.4, 1.3, 2.2, 1.8, 3.1])"
      ]
     },
     "execution_count": 256,
     "metadata": {},
     "output_type": "execute_result"
    },
    {
     "data": {
      "image/png": "[encoded data removed]",
      "text/plain": [
       "<Figure size 504x504 with 1 Axes>"
      ]
     },
     "metadata": {},
     "output_type": "display_data"
    }
   ],
   "source": [
    "# Histogram plots for rating\n",
    "sns.set(rc={\"figure.figsize\":(7,7)})\n",
    "\n",
    "sns.histplot(morrisons[\"rating\"])\n",
    "morrisons[\"rating\"].unique()"
   ]
  },
  {
   "cell_type": "code",
   "execution_count": 257,
   "metadata": {},
   "outputs": [
    {
     "data": {
      "text/plain": [
       "array([ 13,   4,   9,   5,   7,   3,  11,   0,   1,   6,   2,   8,  10,\n",
       "        34,  16,  15,  39,  12,  31,  18, 208,  17,  23,  14,  29,  44,\n",
       "        48,  19,  33], dtype=int64)"
      ]
     },
     "execution_count": 257,
     "metadata": {},
     "output_type": "execute_result"
    },
    {
     "data": {
      "image/png": "[encoded data removed]",
      "text/plain": [
       "<Figure size 504x504 with 1 Axes>"
      ]
     },
     "metadata": {},
     "output_type": "display_data"
    }
   ],
   "source": [
    "# Histogram plots for number of reviews\n",
    "sns.set(rc={\"figure.figsize\":(7,7)})\n",
    "\n",
    "sns.histplot(morrisons[\"num_review\"], kde=False, bins=5)\n",
    "morrisons[\"num_review\"].unique()"
   ]
  },
  {
   "cell_type": "code",
   "execution_count": 258,
   "metadata": {},
   "outputs": [
    {
     "data": {
      "text/plain": [
       "array(['white', 'rose', 'sparkling', 'red', 'fortified_and_other'],\n",
       "      dtype=object)"
      ]
     },
     "execution_count": 258,
     "metadata": {},
     "output_type": "execute_result"
    },
    {
     "data": {
      "image/png": "[encoded data removed]",
      "text/plain": [
       "<Figure size 504x504 with 1 Axes>"
      ]
     },
     "metadata": {},
     "output_type": "display_data"
    }
   ],
   "source": [
    "# Histogram plots for wine type\n",
    "sns.set(rc={\"figure.figsize\":(7,7)})\n",
    "\n",
    "sns.histplot(morrisons[\"wine_type\"])\n",
    "morrisons[\"wine_type\"].unique()"
   ]
  },
  {
   "cell_type": "code",
   "execution_count": 259,
   "metadata": {},
   "outputs": [
    {
     "data": {
      "text/plain": [
       "array([ 75. ,  18.7, 225. ,  37.5, 100. , 150. ,  20. ,  70. ,  12.5])"
      ]
     },
     "execution_count": 259,
     "metadata": {},
     "output_type": "execute_result"
    },
    {
     "data": {
      "image/png": "[encoded data removed]",
      "text/plain": [
       "<Figure size 504x504 with 1 Axes>"
      ]
     },
     "metadata": {},
     "output_type": "display_data"
    }
   ],
   "source": [
    "# Histogram plots for size\n",
    "sns.set(rc={\"figure.figsize\":(7,7)})\n",
    "\n",
    "sns.histplot(morrisons[\"size\"], kde=False, bins=5)\n",
    "morrisons[\"size\"].unique()"
   ]
  },
  {
   "cell_type": "code",
   "execution_count": 260,
   "metadata": {},
   "outputs": [
    {
     "data": {
      "text/plain": [
       "<AxesSubplot:xlabel='abv', ylabel='Count'>"
      ]
     },
     "execution_count": 260,
     "metadata": {},
     "output_type": "execute_result"
    },
    {
     "data": {
      "image/png": "[encoded data removed]",
      "text/plain": [
       "<Figure size 504x504 with 1 Axes>"
      ]
     },
     "metadata": {},
     "output_type": "display_data"
    }
   ],
   "source": [
    "# Histogram plot of ABV\n",
    "\n",
    "sns.set(rc={\"figure.figsize\":(7,7)})\n",
    "\n",
    "sns.histplot(morrisons[\"abv\"], kde=False,bins=5)"
   ]
  },
  {
   "cell_type": "code",
   "execution_count": 261,
   "metadata": {},
   "outputs": [
    {
     "data": {
      "text/plain": [
       "0"
      ]
     },
     "execution_count": 261,
     "metadata": {},
     "output_type": "execute_result"
    }
   ],
   "source": [
    "morrisons.describe()\n",
    "\n",
    "# Compute % of missing values\n",
    "morrisons[\"abv\"].isna().sum()/len(morrisons[\"abv\"])*100\n",
    "\n",
    "# As the % of missing values is very small, we will drop the rows having abv value as NA\n",
    "morrisons.dropna(subset = [\"abv\"], inplace=True)\n",
    "\n",
    "morrisons[\"abv\"].isna().sum()\n"
   ]
  },
  {
   "cell_type": "code",
   "execution_count": 262,
   "metadata": {},
   "outputs": [
    {
     "data": {
      "text/plain": [
       "<AxesSubplot:xlabel='year', ylabel='Count'>"
      ]
     },
     "execution_count": 262,
     "metadata": {},
     "output_type": "execute_result"
    },
    {
     "data": {
      "image/png": "[encoded data removed]",
      "text/plain": [
       "<Figure size 720x720 with 1 Axes>"
      ]
     },
     "metadata": {},
     "output_type": "display_data"
    }
   ],
   "source": [
    "# Histogram plot of year\n",
    "\n",
    "morrisons[\"year\"].isna().sum()/len(morrisons[\"year\"])*100\n",
    "sns.set(rc={\"figure.figsize\":(10,10)})\n",
    "\n",
    "sns.histplot(morrisons[\"year\"], bins=30)\n",
    "\n",
    "# As only 5% is missing, we will keep it as is and can use other column values for analysis "
   ]
  },
  {
   "cell_type": "code",
   "execution_count": 263,
   "metadata": {},
   "outputs": [],
   "source": [
    "morrisons = morrisons.reset_index()"
   ]
  },
  {
   "cell_type": "code",
   "execution_count": 264,
   "metadata": {},
   "outputs": [
    {
     "name": "stdout",
     "output_type": "stream",
     "text": [
      "<class 'pandas.core.frame.DataFrame'>\n",
      "RangeIndex: 509 entries, 0 to 508\n",
      "Data columns (total 1 columns):\n",
      " #   Column  Non-Null Count  Dtype  \n",
      "---  ------  --------------  -----  \n",
      " 0   year    309 non-null    float64\n",
      "dtypes: float64(1)\n",
      "memory usage: 4.1 KB\n"
     ]
    }
   ],
   "source": [
    "year2 = morrisons[\"year\"].apply(pd.to_numeric, errors = \"coerce\")\n",
    "# Feature Engineering\n",
    "\n",
    "morrisons2 = pd.DataFrame(year2)\n",
    "morrisons2.info()\n",
    "morrisons.loc[:, \"age\"] = 2022 - morrisons2['year']"
   ]
  },
  {
   "cell_type": "code",
   "execution_count": 265,
   "metadata": {},
   "outputs": [],
   "source": [
    "# Creating a column with ratings >5\n",
    "for i, num in enumerate(morrisons[\"num_review\"]):\n",
    "    if num > 5:\n",
    "        morrisons.loc[i, \"score\"] = morrisons.loc[i, \"rating\"]\n",
    "    else:\n",
    "        morrisons.loc[i, \"score\"] = 0"
   ]
  },
  {
   "cell_type": "code",
   "execution_count": 266,
   "metadata": {},
   "outputs": [
    {
     "name": "stdout",
     "output_type": "stream",
     "text": [
      "<class 'pandas.core.frame.DataFrame'>\n",
      "RangeIndex: 509 entries, 0 to 508\n",
      "Data columns (total 13 columns):\n",
      " #   Column      Non-Null Count  Dtype  \n",
      "---  ------      --------------  -----  \n",
      " 0   index       509 non-null    int64  \n",
      " 1   wine_type   509 non-null    object \n",
      " 2   size        509 non-null    float64\n",
      " 3   name        509 non-null    object \n",
      " 4   price       509 non-null    float64\n",
      " 5   rating      509 non-null    float64\n",
      " 6   num_review  509 non-null    int64  \n",
      " 7   country     509 non-null    object \n",
      " 8   abv         509 non-null    float64\n",
      " 9   year        412 non-null    object \n",
      " 10  url         509 non-null    object \n",
      " 11  age         309 non-null    float64\n",
      " 12  score       509 non-null    float64\n",
      "dtypes: float64(6), int64(2), object(5)\n",
      "memory usage: 51.8+ KB\n"
     ]
    }
   ],
   "source": [
    "morrisons.info()"
   ]
  },
  {
   "cell_type": "code",
   "execution_count": 267,
   "metadata": {},
   "outputs": [],
   "source": [
    "# Impute size to most frequent value\n",
    "\n",
    "impute = SimpleImputer(missing_values=np.nan, strategy=\"most_frequent\")\n",
    "morrisons[[\"size\"]]=impute.fit_transform(morrisons[[\"size\"]])\n",
    "\n",
    "\n",
    "# To scale size\n",
    "for i, size in enumerate(morrisons[\"size\"]):\n",
    "    morrisons.loc[i, \"scaledprice\"] = morrisons.loc[i, \"price\"] * 75 / size\n",
    "\n",
    "morrisons.loc[morrisons[\"size\"] != 75, [\"size\", \"price\", \"scaledprice\"]]\n",
    "\n",
    "# Creating a new column log price as it is skewed\n",
    "morrisons.loc[:, \"logprice\"] = np.log10(morrisons.loc[:,\"scaledprice\"])"
   ]
  },
  {
   "cell_type": "code",
   "execution_count": 268,
   "metadata": {},
   "outputs": [
    {
     "data": {
      "text/html": [
       "<div>\n",
       "<style scoped>\n",
       "    .dataframe tbody tr th:only-of-type {\n",
       "        vertical-align: middle;\n",
       "    }\n",
       "\n",
       "    .dataframe tbody tr th {\n",
       "        vertical-align: top;\n",
       "    }\n",
       "\n",
       "    .dataframe thead th {\n",
       "        text-align: right;\n",
       "    }\n",
       "</style>\n",
       "<table border=\"1\" class=\"dataframe\">\n",
       "  <thead>\n",
       "    <tr style=\"text-align: right;\">\n",
       "      <th></th>\n",
       "      <th>index</th>\n",
       "      <th>wine_type</th>\n",
       "      <th>size</th>\n",
       "      <th>name</th>\n",
       "      <th>price</th>\n",
       "      <th>rating</th>\n",
       "      <th>num_review</th>\n",
       "      <th>country</th>\n",
       "      <th>abv</th>\n",
       "      <th>year</th>\n",
       "      <th>url</th>\n",
       "      <th>age</th>\n",
       "      <th>score</th>\n",
       "      <th>scaledprice</th>\n",
       "      <th>logprice</th>\n",
       "      <th>countrycode</th>\n",
       "    </tr>\n",
       "  </thead>\n",
       "  <tbody>\n",
       "    <tr>\n",
       "      <th>0</th>\n",
       "      <td>0</td>\n",
       "      <td>white</td>\n",
       "      <td>75.0</td>\n",
       "      <td>McGuigan Black Label Shiraz</td>\n",
       "      <td>6.75</td>\n",
       "      <td>3.6</td>\n",
       "      <td>13</td>\n",
       "      <td>Australia</td>\n",
       "      <td>12.5</td>\n",
       "      <td>2021</td>\n",
       "      <td>https://groceries.morrisons.com/products/mcgui...</td>\n",
       "      <td>1.0</td>\n",
       "      <td>3.6</td>\n",
       "      <td>6.75</td>\n",
       "      <td>0.829304</td>\n",
       "      <td>AUS</td>\n",
       "    </tr>\n",
       "    <tr>\n",
       "      <th>1</th>\n",
       "      <td>1</td>\n",
       "      <td>white</td>\n",
       "      <td>75.0</td>\n",
       "      <td>Morrisons The Best Touraine Rose</td>\n",
       "      <td>8.00</td>\n",
       "      <td>3.0</td>\n",
       "      <td>4</td>\n",
       "      <td>France</td>\n",
       "      <td>12.5</td>\n",
       "      <td>NaN</td>\n",
       "      <td>https://groceries.morrisons.com/products/morri...</td>\n",
       "      <td>NaN</td>\n",
       "      <td>0.0</td>\n",
       "      <td>8.00</td>\n",
       "      <td>0.903090</td>\n",
       "      <td>FRA</td>\n",
       "    </tr>\n",
       "    <tr>\n",
       "      <th>2</th>\n",
       "      <td>2</td>\n",
       "      <td>white</td>\n",
       "      <td>75.0</td>\n",
       "      <td>McGuigan Black Label Merlot</td>\n",
       "      <td>6.75</td>\n",
       "      <td>4.2</td>\n",
       "      <td>13</td>\n",
       "      <td>Australia</td>\n",
       "      <td>12.5</td>\n",
       "      <td>2021</td>\n",
       "      <td>https://groceries.morrisons.com/products/mcgui...</td>\n",
       "      <td>1.0</td>\n",
       "      <td>4.2</td>\n",
       "      <td>6.75</td>\n",
       "      <td>0.829304</td>\n",
       "      <td>AUS</td>\n",
       "    </tr>\n",
       "    <tr>\n",
       "      <th>3</th>\n",
       "      <td>3</td>\n",
       "      <td>white</td>\n",
       "      <td>75.0</td>\n",
       "      <td>Morrisons The Best South African Sauvignon Blanc</td>\n",
       "      <td>7.50</td>\n",
       "      <td>4.0</td>\n",
       "      <td>9</td>\n",
       "      <td>Western Cape</td>\n",
       "      <td>12.5</td>\n",
       "      <td>2021</td>\n",
       "      <td>https://groceries.morrisons.com/products/morri...</td>\n",
       "      <td>1.0</td>\n",
       "      <td>4.0</td>\n",
       "      <td>7.50</td>\n",
       "      <td>0.875061</td>\n",
       "      <td>unknown</td>\n",
       "    </tr>\n",
       "    <tr>\n",
       "      <th>4</th>\n",
       "      <td>4</td>\n",
       "      <td>white</td>\n",
       "      <td>75.0</td>\n",
       "      <td>Hardys Nottage Hill Chardonnay</td>\n",
       "      <td>6.75</td>\n",
       "      <td>3.4</td>\n",
       "      <td>5</td>\n",
       "      <td>Australia</td>\n",
       "      <td>13.5</td>\n",
       "      <td>2017</td>\n",
       "      <td>https://groceries.morrisons.com/products/hardy...</td>\n",
       "      <td>5.0</td>\n",
       "      <td>0.0</td>\n",
       "      <td>6.75</td>\n",
       "      <td>0.829304</td>\n",
       "      <td>AUS</td>\n",
       "    </tr>\n",
       "  </tbody>\n",
       "</table>\n",
       "</div>"
      ],
      "text/plain": [
       "   index wine_type  size                                              name  \\\n",
       "0      0     white  75.0                       McGuigan Black Label Shiraz   \n",
       "1      1     white  75.0                  Morrisons The Best Touraine Rose   \n",
       "2      2     white  75.0                       McGuigan Black Label Merlot   \n",
       "3      3     white  75.0  Morrisons The Best South African Sauvignon Blanc   \n",
       "4      4     white  75.0                    Hardys Nottage Hill Chardonnay   \n",
       "\n",
       "   price  rating  num_review       country   abv  year  \\\n",
       "0   6.75     3.6          13     Australia  12.5  2021   \n",
       "1   8.00     3.0           4        France  12.5   NaN   \n",
       "2   6.75     4.2          13     Australia  12.5  2021   \n",
       "3   7.50     4.0           9  Western Cape  12.5  2021   \n",
       "4   6.75     3.4           5     Australia  13.5  2017   \n",
       "\n",
       "                                                 url  age  score  scaledprice  \\\n",
       "0  https://groceries.morrisons.com/products/mcgui...  1.0    3.6         6.75   \n",
       "1  https://groceries.morrisons.com/products/morri...  NaN    0.0         8.00   \n",
       "2  https://groceries.morrisons.com/products/mcgui...  1.0    4.2         6.75   \n",
       "3  https://groceries.morrisons.com/products/morri...  1.0    4.0         7.50   \n",
       "4  https://groceries.morrisons.com/products/hardy...  5.0    0.0         6.75   \n",
       "\n",
       "   logprice countrycode  \n",
       "0  0.829304         AUS  \n",
       "1  0.903090         FRA  \n",
       "2  0.829304         AUS  \n",
       "3  0.875061     unknown  \n",
       "4  0.829304         AUS  "
      ]
     },
     "execution_count": 268,
     "metadata": {},
     "output_type": "execute_result"
    }
   ],
   "source": [
    "# creating country codes\n",
    "import pycountry\n",
    "\n",
    "# create a dict f country name and their codes \n",
    "countries = {}\n",
    "for country in pycountry.countries:\n",
    "    countries[country.name] = country.alpha_3\n",
    "\n",
    "morrisons[\"countrycode\"] = [countries.get(c, \"unknown\") for c in morrisons[\"country\"]]\n",
    "morrisons.head()"
   ]
  },
  {
   "cell_type": "code",
   "execution_count": 269,
   "metadata": {},
   "outputs": [
    {
     "data": {
      "text/plain": [
       "<AxesSubplot:>"
      ]
     },
     "execution_count": 269,
     "metadata": {},
     "output_type": "execute_result"
    },
    {
     "data": {
      "image/png": "[encoded data removed]",
      "text/plain": [
       "<Figure size 504x504 with 1 Axes>"
      ]
     },
     "metadata": {},
     "output_type": "display_data"
    }
   ],
   "source": [
    "# price visualisation (log plot of price as the data is skewed)\n",
    "sns.set(rc={\"figure.figsize\":(7,7)})\n",
    "\n",
    "sns.boxplot(data=np.log10(morrisons[\"scaledprice\"]), color= \"red\")"
   ]
  },
  {
   "cell_type": "code",
   "execution_count": 270,
   "metadata": {},
   "outputs": [
    {
     "data": {
      "text/plain": [
       "<AxesSubplot:xlabel='Count', ylabel='country'>"
      ]
     },
     "execution_count": 270,
     "metadata": {},
     "output_type": "execute_result"
    },
    {
     "data": {
      "image/png": "[encoded data removed]",
      "text/plain": [
       "<Figure size 720x720 with 1 Axes>"
      ]
     },
     "metadata": {},
     "output_type": "display_data"
    }
   ],
   "source": [
    "# Countries visualisation\n",
    "sns.set(rc={\"figure.figsize\":(10,10)})\n",
    "\n",
    "sns.histplot(data=morrisons, y=\"country\", hue=\"country\")"
   ]
  },
  {
   "cell_type": "code",
   "execution_count": 271,
   "metadata": {},
   "outputs": [
    {
     "data": {
      "text/plain": [
       "<AxesSubplot:xlabel='wine_type', ylabel='num_review'>"
      ]
     },
     "execution_count": 271,
     "metadata": {},
     "output_type": "execute_result"
    },
    {
     "data": {
      "image/png": "[encoded data removed]",
      "text/plain": [
       "<Figure size 720x720 with 1 Axes>"
      ]
     },
     "metadata": {},
     "output_type": "display_data"
    }
   ],
   "source": [
    "# Countries visualisation\n",
    "\n",
    "sns.set(rc={\"figure.figsize\":(10,10)})\n",
    "\n",
    "sns.histplot(data=morrisons, x = \"wine_type\", y=\"num_review\", hue=\"wine_type\")"
   ]
  },
  {
   "cell_type": "code",
   "execution_count": 272,
   "metadata": {},
   "outputs": [
    {
     "data": {
      "text/plain": [
       "<AxesSubplot:xlabel='wine_type', ylabel='logprice'>"
      ]
     },
     "execution_count": 272,
     "metadata": {},
     "output_type": "execute_result"
    },
    {
     "data": {
      "image/png": "[encoded data removed]",
      "text/plain": [
       "<Figure size 720x504 with 1 Axes>"
      ]
     },
     "metadata": {},
     "output_type": "display_data"
    }
   ],
   "source": [
    "# plot wine type vs price\n",
    "\n",
    "sns.set(rc={\"figure.figsize\":(10,7)})\n",
    "\n",
    "sns.boxplot(\n",
    "    data=morrisons,\n",
    "    x=\"wine_type\", y=\"logprice\", hue=\"wine_type\"\n",
    ")"
   ]
  },
  {
   "cell_type": "code",
   "execution_count": 273,
   "metadata": {},
   "outputs": [
    {
     "data": {
      "text/plain": [
       "<seaborn.axisgrid.FacetGrid at 0x12be2176220>"
      ]
     },
     "execution_count": 273,
     "metadata": {},
     "output_type": "execute_result"
    },
    {
     "data": {
      "image/png": "[encoded data removed]",
      "text/plain": [
       "<Figure size 864x288 with 1 Axes>"
      ]
     },
     "metadata": {},
     "output_type": "display_data"
    }
   ],
   "source": [
    "# plot country vs review ratings\n",
    "\n",
    "sns.catplot(data=morrisons.loc[morrisons[\"countrycode\"]!=\"unknown\"], x=\"countrycode\", y=\"score\", height=4, aspect=3)"
   ]
  },
  {
   "cell_type": "code",
   "execution_count": 274,
   "metadata": {},
   "outputs": [
    {
     "data": {
      "text/plain": [
       "Text(0.5, 0, 'LogPrice')"
      ]
     },
     "execution_count": 274,
     "metadata": {},
     "output_type": "execute_result"
    },
    {
     "data": {
      "image/png": "[encoded data removed]",
      "text/plain": [
       "<Figure size 720x504 with 1 Axes>"
      ]
     },
     "metadata": {},
     "output_type": "display_data"
    }
   ],
   "source": [
    "# Plot log price vs age and rating\n",
    "\n",
    "from mpl_toolkits import mplot3d\n",
    "\n",
    "fig = plt.figure()\n",
    "ax = plt.axes(projection='3d')\n",
    "\n",
    "ax.plot3D(morrisons[\"score\"], morrisons[\"age\"], morrisons[\"logprice\"], '.')\n",
    "ax.set_xlabel(\"Rating\")\n",
    "ax.set_ylabel(\"Age\")\n",
    "ax.set_zlabel(\"LogPrice\")"
   ]
  },
  {
   "cell_type": "code",
   "execution_count": 275,
   "metadata": {},
   "outputs": [
    {
     "data": {
      "text/html": [
       "<div>\n",
       "<style scoped>\n",
       "    .dataframe tbody tr th:only-of-type {\n",
       "        vertical-align: middle;\n",
       "    }\n",
       "\n",
       "    .dataframe tbody tr th {\n",
       "        vertical-align: top;\n",
       "    }\n",
       "\n",
       "    .dataframe thead th {\n",
       "        text-align: right;\n",
       "    }\n",
       "</style>\n",
       "<table border=\"1\" class=\"dataframe\">\n",
       "  <thead>\n",
       "    <tr style=\"text-align: right;\">\n",
       "      <th></th>\n",
       "      <th>index</th>\n",
       "      <th>wine_type</th>\n",
       "      <th>size</th>\n",
       "      <th>name</th>\n",
       "      <th>price</th>\n",
       "      <th>rating</th>\n",
       "      <th>num_review</th>\n",
       "      <th>country</th>\n",
       "      <th>abv</th>\n",
       "      <th>year</th>\n",
       "      <th>url</th>\n",
       "      <th>age</th>\n",
       "      <th>score</th>\n",
       "      <th>scaledprice</th>\n",
       "      <th>logprice</th>\n",
       "      <th>countrycode</th>\n",
       "    </tr>\n",
       "  </thead>\n",
       "  <tbody>\n",
       "    <tr>\n",
       "      <th>0</th>\n",
       "      <td>0</td>\n",
       "      <td>white</td>\n",
       "      <td>75.0</td>\n",
       "      <td>McGuigan Black Label Shiraz</td>\n",
       "      <td>6.75</td>\n",
       "      <td>3.6</td>\n",
       "      <td>13</td>\n",
       "      <td>Australia</td>\n",
       "      <td>12.5</td>\n",
       "      <td>2021</td>\n",
       "      <td>https://groceries.morrisons.com/products/mcgui...</td>\n",
       "      <td>1.0</td>\n",
       "      <td>3.6</td>\n",
       "      <td>6.75</td>\n",
       "      <td>0.829304</td>\n",
       "      <td>AUS</td>\n",
       "    </tr>\n",
       "    <tr>\n",
       "      <th>1</th>\n",
       "      <td>1</td>\n",
       "      <td>white</td>\n",
       "      <td>75.0</td>\n",
       "      <td>Morrisons The Best Touraine Rose</td>\n",
       "      <td>8.00</td>\n",
       "      <td>3.0</td>\n",
       "      <td>4</td>\n",
       "      <td>France</td>\n",
       "      <td>12.5</td>\n",
       "      <td>NaN</td>\n",
       "      <td>https://groceries.morrisons.com/products/morri...</td>\n",
       "      <td>NaN</td>\n",
       "      <td>0.0</td>\n",
       "      <td>8.00</td>\n",
       "      <td>0.903090</td>\n",
       "      <td>FRA</td>\n",
       "    </tr>\n",
       "    <tr>\n",
       "      <th>2</th>\n",
       "      <td>2</td>\n",
       "      <td>white</td>\n",
       "      <td>75.0</td>\n",
       "      <td>McGuigan Black Label Merlot</td>\n",
       "      <td>6.75</td>\n",
       "      <td>4.2</td>\n",
       "      <td>13</td>\n",
       "      <td>Australia</td>\n",
       "      <td>12.5</td>\n",
       "      <td>2021</td>\n",
       "      <td>https://groceries.morrisons.com/products/mcgui...</td>\n",
       "      <td>1.0</td>\n",
       "      <td>4.2</td>\n",
       "      <td>6.75</td>\n",
       "      <td>0.829304</td>\n",
       "      <td>AUS</td>\n",
       "    </tr>\n",
       "    <tr>\n",
       "      <th>3</th>\n",
       "      <td>3</td>\n",
       "      <td>white</td>\n",
       "      <td>75.0</td>\n",
       "      <td>Morrisons The Best South African Sauvignon Blanc</td>\n",
       "      <td>7.50</td>\n",
       "      <td>4.0</td>\n",
       "      <td>9</td>\n",
       "      <td>Western Cape</td>\n",
       "      <td>12.5</td>\n",
       "      <td>2021</td>\n",
       "      <td>https://groceries.morrisons.com/products/morri...</td>\n",
       "      <td>1.0</td>\n",
       "      <td>4.0</td>\n",
       "      <td>7.50</td>\n",
       "      <td>0.875061</td>\n",
       "      <td>unknown</td>\n",
       "    </tr>\n",
       "    <tr>\n",
       "      <th>4</th>\n",
       "      <td>4</td>\n",
       "      <td>white</td>\n",
       "      <td>75.0</td>\n",
       "      <td>Hardys Nottage Hill Chardonnay</td>\n",
       "      <td>6.75</td>\n",
       "      <td>3.4</td>\n",
       "      <td>5</td>\n",
       "      <td>Australia</td>\n",
       "      <td>13.5</td>\n",
       "      <td>2017</td>\n",
       "      <td>https://groceries.morrisons.com/products/hardy...</td>\n",
       "      <td>5.0</td>\n",
       "      <td>0.0</td>\n",
       "      <td>6.75</td>\n",
       "      <td>0.829304</td>\n",
       "      <td>AUS</td>\n",
       "    </tr>\n",
       "  </tbody>\n",
       "</table>\n",
       "</div>"
      ],
      "text/plain": [
       "   index wine_type  size                                              name  \\\n",
       "0      0     white  75.0                       McGuigan Black Label Shiraz   \n",
       "1      1     white  75.0                  Morrisons The Best Touraine Rose   \n",
       "2      2     white  75.0                       McGuigan Black Label Merlot   \n",
       "3      3     white  75.0  Morrisons The Best South African Sauvignon Blanc   \n",
       "4      4     white  75.0                    Hardys Nottage Hill Chardonnay   \n",
       "\n",
       "   price  rating  num_review       country   abv  year  \\\n",
       "0   6.75     3.6          13     Australia  12.5  2021   \n",
       "1   8.00     3.0           4        France  12.5   NaN   \n",
       "2   6.75     4.2          13     Australia  12.5  2021   \n",
       "3   7.50     4.0           9  Western Cape  12.5  2021   \n",
       "4   6.75     3.4           5     Australia  13.5  2017   \n",
       "\n",
       "                                                 url  age  score  scaledprice  \\\n",
       "0  https://groceries.morrisons.com/products/mcgui...  1.0    3.6         6.75   \n",
       "1  https://groceries.morrisons.com/products/morri...  NaN    0.0         8.00   \n",
       "2  https://groceries.morrisons.com/products/mcgui...  1.0    4.2         6.75   \n",
       "3  https://groceries.morrisons.com/products/morri...  1.0    4.0         7.50   \n",
       "4  https://groceries.morrisons.com/products/hardy...  5.0    0.0         6.75   \n",
       "\n",
       "   logprice countrycode  \n",
       "0  0.829304         AUS  \n",
       "1  0.903090         FRA  \n",
       "2  0.829304         AUS  \n",
       "3  0.875061     unknown  \n",
       "4  0.829304         AUS  "
      ]
     },
     "execution_count": 275,
     "metadata": {},
     "output_type": "execute_result"
    }
   ],
   "source": [
    "morrisons.head()"
   ]
  },
  {
   "cell_type": "code",
   "execution_count": 276,
   "metadata": {},
   "outputs": [
    {
     "data": {
      "text/html": [
       "<div>\n",
       "<style scoped>\n",
       "    .dataframe tbody tr th:only-of-type {\n",
       "        vertical-align: middle;\n",
       "    }\n",
       "\n",
       "    .dataframe tbody tr th {\n",
       "        vertical-align: top;\n",
       "    }\n",
       "\n",
       "    .dataframe thead th {\n",
       "        text-align: right;\n",
       "    }\n",
       "</style>\n",
       "<table border=\"1\" class=\"dataframe\">\n",
       "  <thead>\n",
       "    <tr style=\"text-align: right;\">\n",
       "      <th></th>\n",
       "      <th>name</th>\n",
       "      <th>wine_type</th>\n",
       "      <th>country</th>\n",
       "      <th>year</th>\n",
       "      <th>price</th>\n",
       "      <th>scaledprice</th>\n",
       "      <th>score</th>\n",
       "      <th>num_review</th>\n",
       "      <th>abv</th>\n",
       "      <th>size</th>\n",
       "      <th>age</th>\n",
       "      <th>logprice</th>\n",
       "    </tr>\n",
       "  </thead>\n",
       "  <tbody>\n",
       "    <tr>\n",
       "      <th>0</th>\n",
       "      <td>McGuigan Black Label Shiraz</td>\n",
       "      <td>white</td>\n",
       "      <td>Australia</td>\n",
       "      <td>2021</td>\n",
       "      <td>6.75</td>\n",
       "      <td>6.75</td>\n",
       "      <td>3.6</td>\n",
       "      <td>13</td>\n",
       "      <td>12.5</td>\n",
       "      <td>75.0</td>\n",
       "      <td>1.0</td>\n",
       "      <td>0.829304</td>\n",
       "    </tr>\n",
       "    <tr>\n",
       "      <th>1</th>\n",
       "      <td>Morrisons The Best Touraine Rose</td>\n",
       "      <td>white</td>\n",
       "      <td>France</td>\n",
       "      <td>NaN</td>\n",
       "      <td>8.00</td>\n",
       "      <td>8.00</td>\n",
       "      <td>0.0</td>\n",
       "      <td>4</td>\n",
       "      <td>12.5</td>\n",
       "      <td>75.0</td>\n",
       "      <td>NaN</td>\n",
       "      <td>0.903090</td>\n",
       "    </tr>\n",
       "    <tr>\n",
       "      <th>2</th>\n",
       "      <td>McGuigan Black Label Merlot</td>\n",
       "      <td>white</td>\n",
       "      <td>Australia</td>\n",
       "      <td>2021</td>\n",
       "      <td>6.75</td>\n",
       "      <td>6.75</td>\n",
       "      <td>4.2</td>\n",
       "      <td>13</td>\n",
       "      <td>12.5</td>\n",
       "      <td>75.0</td>\n",
       "      <td>1.0</td>\n",
       "      <td>0.829304</td>\n",
       "    </tr>\n",
       "    <tr>\n",
       "      <th>3</th>\n",
       "      <td>Morrisons The Best South African Sauvignon Blanc</td>\n",
       "      <td>white</td>\n",
       "      <td>Western Cape</td>\n",
       "      <td>2021</td>\n",
       "      <td>7.50</td>\n",
       "      <td>7.50</td>\n",
       "      <td>4.0</td>\n",
       "      <td>9</td>\n",
       "      <td>12.5</td>\n",
       "      <td>75.0</td>\n",
       "      <td>1.0</td>\n",
       "      <td>0.875061</td>\n",
       "    </tr>\n",
       "    <tr>\n",
       "      <th>4</th>\n",
       "      <td>Hardys Nottage Hill Chardonnay</td>\n",
       "      <td>white</td>\n",
       "      <td>Australia</td>\n",
       "      <td>2017</td>\n",
       "      <td>6.75</td>\n",
       "      <td>6.75</td>\n",
       "      <td>0.0</td>\n",
       "      <td>5</td>\n",
       "      <td>13.5</td>\n",
       "      <td>75.0</td>\n",
       "      <td>5.0</td>\n",
       "      <td>0.829304</td>\n",
       "    </tr>\n",
       "    <tr>\n",
       "      <th>5</th>\n",
       "      <td>McGuigan Black Label Pinot Grigio</td>\n",
       "      <td>white</td>\n",
       "      <td>Australia</td>\n",
       "      <td>2021</td>\n",
       "      <td>6.75</td>\n",
       "      <td>6.75</td>\n",
       "      <td>4.1</td>\n",
       "      <td>7</td>\n",
       "      <td>11.5</td>\n",
       "      <td>75.0</td>\n",
       "      <td>1.0</td>\n",
       "      <td>0.829304</td>\n",
       "    </tr>\n",
       "    <tr>\n",
       "      <th>6</th>\n",
       "      <td>McGuigan Black Label Chardonnay</td>\n",
       "      <td>white</td>\n",
       "      <td>Australia</td>\n",
       "      <td>2021</td>\n",
       "      <td>6.75</td>\n",
       "      <td>6.75</td>\n",
       "      <td>0.0</td>\n",
       "      <td>4</td>\n",
       "      <td>12.5</td>\n",
       "      <td>75.0</td>\n",
       "      <td>1.0</td>\n",
       "      <td>0.829304</td>\n",
       "    </tr>\n",
       "    <tr>\n",
       "      <th>7</th>\n",
       "      <td>Morrisons The Best Marlborough Sauvignon Blanc</td>\n",
       "      <td>white</td>\n",
       "      <td>New Zealand</td>\n",
       "      <td>2019</td>\n",
       "      <td>9.00</td>\n",
       "      <td>9.00</td>\n",
       "      <td>0.0</td>\n",
       "      <td>3</td>\n",
       "      <td>12.5</td>\n",
       "      <td>75.0</td>\n",
       "      <td>3.0</td>\n",
       "      <td>0.954243</td>\n",
       "    </tr>\n",
       "    <tr>\n",
       "      <th>8</th>\n",
       "      <td>Veluti Pinot Grigio</td>\n",
       "      <td>white</td>\n",
       "      <td>Italy</td>\n",
       "      <td>2020</td>\n",
       "      <td>6.25</td>\n",
       "      <td>6.25</td>\n",
       "      <td>3.8</td>\n",
       "      <td>13</td>\n",
       "      <td>12.5</td>\n",
       "      <td>75.0</td>\n",
       "      <td>2.0</td>\n",
       "      <td>0.795880</td>\n",
       "    </tr>\n",
       "    <tr>\n",
       "      <th>9</th>\n",
       "      <td>The Ned Sauvignon Blanc</td>\n",
       "      <td>white</td>\n",
       "      <td>New Zealand</td>\n",
       "      <td>2020</td>\n",
       "      <td>10.00</td>\n",
       "      <td>10.00</td>\n",
       "      <td>0.0</td>\n",
       "      <td>4</td>\n",
       "      <td>13.0</td>\n",
       "      <td>75.0</td>\n",
       "      <td>2.0</td>\n",
       "      <td>1.000000</td>\n",
       "    </tr>\n",
       "    <tr>\n",
       "      <th>10</th>\n",
       "      <td>Mud House Chile Sauvignon Blanc</td>\n",
       "      <td>white</td>\n",
       "      <td>Chile</td>\n",
       "      <td>2021</td>\n",
       "      <td>5.99</td>\n",
       "      <td>5.99</td>\n",
       "      <td>0.0</td>\n",
       "      <td>3</td>\n",
       "      <td>12.5</td>\n",
       "      <td>75.0</td>\n",
       "      <td>1.0</td>\n",
       "      <td>0.777427</td>\n",
       "    </tr>\n",
       "    <tr>\n",
       "      <th>11</th>\n",
       "      <td>Mud House Marlborough Sauvignon Blanc</td>\n",
       "      <td>white</td>\n",
       "      <td>New Zealand</td>\n",
       "      <td>2020</td>\n",
       "      <td>9.00</td>\n",
       "      <td>9.00</td>\n",
       "      <td>4.4</td>\n",
       "      <td>11</td>\n",
       "      <td>12.5</td>\n",
       "      <td>75.0</td>\n",
       "      <td>2.0</td>\n",
       "      <td>0.954243</td>\n",
       "    </tr>\n",
       "    <tr>\n",
       "      <th>12</th>\n",
       "      <td>Rosemount Diamond Selection Chardonnay</td>\n",
       "      <td>white</td>\n",
       "      <td>Australia</td>\n",
       "      <td>2019</td>\n",
       "      <td>5.49</td>\n",
       "      <td>5.49</td>\n",
       "      <td>0.0</td>\n",
       "      <td>4</td>\n",
       "      <td>12.5</td>\n",
       "      <td>75.0</td>\n",
       "      <td>3.0</td>\n",
       "      <td>0.739572</td>\n",
       "    </tr>\n",
       "    <tr>\n",
       "      <th>13</th>\n",
       "      <td>Klein St Sauvignon Blanc</td>\n",
       "      <td>white</td>\n",
       "      <td>South Africa</td>\n",
       "      <td>2021</td>\n",
       "      <td>6.00</td>\n",
       "      <td>6.00</td>\n",
       "      <td>0.0</td>\n",
       "      <td>0</td>\n",
       "      <td>12.5</td>\n",
       "      <td>75.0</td>\n",
       "      <td>1.0</td>\n",
       "      <td>0.778151</td>\n",
       "    </tr>\n",
       "    <tr>\n",
       "      <th>14</th>\n",
       "      <td>Hardys Bankside Chardonnay</td>\n",
       "      <td>white</td>\n",
       "      <td>Australia</td>\n",
       "      <td>2017</td>\n",
       "      <td>6.50</td>\n",
       "      <td>6.50</td>\n",
       "      <td>0.0</td>\n",
       "      <td>5</td>\n",
       "      <td>12.5</td>\n",
       "      <td>75.0</td>\n",
       "      <td>5.0</td>\n",
       "      <td>0.812913</td>\n",
       "    </tr>\n",
       "    <tr>\n",
       "      <th>15</th>\n",
       "      <td>I Heart Pinot Grigio</td>\n",
       "      <td>white</td>\n",
       "      <td>Hungary</td>\n",
       "      <td>Non Vintage</td>\n",
       "      <td>6.00</td>\n",
       "      <td>6.00</td>\n",
       "      <td>0.0</td>\n",
       "      <td>1</td>\n",
       "      <td>12.0</td>\n",
       "      <td>75.0</td>\n",
       "      <td>NaN</td>\n",
       "      <td>0.778151</td>\n",
       "    </tr>\n",
       "    <tr>\n",
       "      <th>16</th>\n",
       "      <td>Primo Vere Pinot Grigio</td>\n",
       "      <td>white</td>\n",
       "      <td>Italy</td>\n",
       "      <td>2020</td>\n",
       "      <td>6.75</td>\n",
       "      <td>6.75</td>\n",
       "      <td>3.8</td>\n",
       "      <td>9</td>\n",
       "      <td>12.5</td>\n",
       "      <td>75.0</td>\n",
       "      <td>2.0</td>\n",
       "      <td>0.829304</td>\n",
       "    </tr>\n",
       "    <tr>\n",
       "      <th>17</th>\n",
       "      <td>Jam Shed Chardonnay Australia</td>\n",
       "      <td>white</td>\n",
       "      <td>Australia</td>\n",
       "      <td>2020</td>\n",
       "      <td>6.00</td>\n",
       "      <td>6.00</td>\n",
       "      <td>0.0</td>\n",
       "      <td>3</td>\n",
       "      <td>13.5</td>\n",
       "      <td>75.0</td>\n",
       "      <td>2.0</td>\n",
       "      <td>0.778151</td>\n",
       "    </tr>\n",
       "    <tr>\n",
       "      <th>18</th>\n",
       "      <td>Morrisons The Best Trentino Pinot Grigio</td>\n",
       "      <td>white</td>\n",
       "      <td>Italy</td>\n",
       "      <td>2015</td>\n",
       "      <td>7.25</td>\n",
       "      <td>7.25</td>\n",
       "      <td>3.5</td>\n",
       "      <td>6</td>\n",
       "      <td>12.5</td>\n",
       "      <td>75.0</td>\n",
       "      <td>7.0</td>\n",
       "      <td>0.860338</td>\n",
       "    </tr>\n",
       "    <tr>\n",
       "      <th>19</th>\n",
       "      <td>Wolf Blass Vineyards Chardonnay</td>\n",
       "      <td>white</td>\n",
       "      <td>Australia</td>\n",
       "      <td>2012</td>\n",
       "      <td>6.50</td>\n",
       "      <td>6.50</td>\n",
       "      <td>0.0</td>\n",
       "      <td>3</td>\n",
       "      <td>13.0</td>\n",
       "      <td>75.0</td>\n",
       "      <td>10.0</td>\n",
       "      <td>0.812913</td>\n",
       "    </tr>\n",
       "  </tbody>\n",
       "</table>\n",
       "</div>"
      ],
      "text/plain": [
       "                                                name wine_type       country  \\\n",
       "0                        McGuigan Black Label Shiraz     white     Australia   \n",
       "1                   Morrisons The Best Touraine Rose     white        France   \n",
       "2                        McGuigan Black Label Merlot     white     Australia   \n",
       "3   Morrisons The Best South African Sauvignon Blanc     white  Western Cape   \n",
       "4                     Hardys Nottage Hill Chardonnay     white     Australia   \n",
       "5                  McGuigan Black Label Pinot Grigio     white     Australia   \n",
       "6                    McGuigan Black Label Chardonnay     white     Australia   \n",
       "7     Morrisons The Best Marlborough Sauvignon Blanc     white   New Zealand   \n",
       "8                                Veluti Pinot Grigio     white         Italy   \n",
       "9                            The Ned Sauvignon Blanc     white   New Zealand   \n",
       "10                   Mud House Chile Sauvignon Blanc     white         Chile   \n",
       "11             Mud House Marlborough Sauvignon Blanc     white   New Zealand   \n",
       "12            Rosemount Diamond Selection Chardonnay     white     Australia   \n",
       "13                          Klein St Sauvignon Blanc     white  South Africa   \n",
       "14                        Hardys Bankside Chardonnay     white     Australia   \n",
       "15                              I Heart Pinot Grigio     white       Hungary   \n",
       "16                           Primo Vere Pinot Grigio     white         Italy   \n",
       "17                     Jam Shed Chardonnay Australia     white     Australia   \n",
       "18          Morrisons The Best Trentino Pinot Grigio     white         Italy   \n",
       "19                   Wolf Blass Vineyards Chardonnay     white     Australia   \n",
       "\n",
       "           year  price  scaledprice  score  num_review   abv  size   age  \\\n",
       "0          2021   6.75         6.75    3.6          13  12.5  75.0   1.0   \n",
       "1           NaN   8.00         8.00    0.0           4  12.5  75.0   NaN   \n",
       "2          2021   6.75         6.75    4.2          13  12.5  75.0   1.0   \n",
       "3          2021   7.50         7.50    4.0           9  12.5  75.0   1.0   \n",
       "4          2017   6.75         6.75    0.0           5  13.5  75.0   5.0   \n",
       "5          2021   6.75         6.75    4.1           7  11.5  75.0   1.0   \n",
       "6          2021   6.75         6.75    0.0           4  12.5  75.0   1.0   \n",
       "7          2019   9.00         9.00    0.0           3  12.5  75.0   3.0   \n",
       "8          2020   6.25         6.25    3.8          13  12.5  75.0   2.0   \n",
       "9          2020  10.00        10.00    0.0           4  13.0  75.0   2.0   \n",
       "10         2021   5.99         5.99    0.0           3  12.5  75.0   1.0   \n",
       "11         2020   9.00         9.00    4.4          11  12.5  75.0   2.0   \n",
       "12         2019   5.49         5.49    0.0           4  12.5  75.0   3.0   \n",
       "13         2021   6.00         6.00    0.0           0  12.5  75.0   1.0   \n",
       "14         2017   6.50         6.50    0.0           5  12.5  75.0   5.0   \n",
       "15  Non Vintage   6.00         6.00    0.0           1  12.0  75.0   NaN   \n",
       "16         2020   6.75         6.75    3.8           9  12.5  75.0   2.0   \n",
       "17         2020   6.00         6.00    0.0           3  13.5  75.0   2.0   \n",
       "18         2015   7.25         7.25    3.5           6  12.5  75.0   7.0   \n",
       "19         2012   6.50         6.50    0.0           3  13.0  75.0  10.0   \n",
       "\n",
       "    logprice  \n",
       "0   0.829304  \n",
       "1   0.903090  \n",
       "2   0.829304  \n",
       "3   0.875061  \n",
       "4   0.829304  \n",
       "5   0.829304  \n",
       "6   0.829304  \n",
       "7   0.954243  \n",
       "8   0.795880  \n",
       "9   1.000000  \n",
       "10  0.777427  \n",
       "11  0.954243  \n",
       "12  0.739572  \n",
       "13  0.778151  \n",
       "14  0.812913  \n",
       "15  0.778151  \n",
       "16  0.829304  \n",
       "17  0.778151  \n",
       "18  0.860338  \n",
       "19  0.812913  "
      ]
     },
     "execution_count": 276,
     "metadata": {},
     "output_type": "execute_result"
    }
   ],
   "source": [
    "morrisons_to_merge = morrisons[['name', 'wine_type', 'country', 'year','price','scaledprice', 'score', 'num_review', 'abv', 'size','age','logprice']]\n",
    "morrisons_to_merge.head(20)\n"
   ]
  },
  {
   "cell_type": "code",
   "execution_count": 277,
   "metadata": {},
   "outputs": [
    {
     "name": "stderr",
     "output_type": "stream",
     "text": [
      "C:\\Users\\aparn\\AppData\\Local\\Temp\\ipykernel_28156\\3801794974.py:2: SettingWithCopyWarning: \n",
      "A value is trying to be set on a copy of a slice from a DataFrame\n",
      "\n",
      "See the caveats in the documentation: https://pandas.pydata.org/pandas-docs/stable/user_guide/indexing.html#returning-a-view-versus-a-copy\n",
      "  morrisons_to_merge.rename(columns={'size' : 'size (cL)'}, inplace=True)\n"
     ]
    },
    {
     "data": {
      "text/html": [
       "<div>\n",
       "<style scoped>\n",
       "    .dataframe tbody tr th:only-of-type {\n",
       "        vertical-align: middle;\n",
       "    }\n",
       "\n",
       "    .dataframe tbody tr th {\n",
       "        vertical-align: top;\n",
       "    }\n",
       "\n",
       "    .dataframe thead th {\n",
       "        text-align: right;\n",
       "    }\n",
       "</style>\n",
       "<table border=\"1\" class=\"dataframe\">\n",
       "  <thead>\n",
       "    <tr style=\"text-align: right;\">\n",
       "      <th></th>\n",
       "      <th>name</th>\n",
       "      <th>wine_type</th>\n",
       "      <th>country</th>\n",
       "      <th>year</th>\n",
       "      <th>price</th>\n",
       "      <th>scaledprice</th>\n",
       "      <th>score</th>\n",
       "      <th>num_review</th>\n",
       "      <th>abv</th>\n",
       "      <th>size (cL)</th>\n",
       "      <th>age</th>\n",
       "      <th>logprice</th>\n",
       "    </tr>\n",
       "  </thead>\n",
       "  <tbody>\n",
       "    <tr>\n",
       "      <th>0</th>\n",
       "      <td>McGuigan Black Label Shiraz</td>\n",
       "      <td>white</td>\n",
       "      <td>Australia</td>\n",
       "      <td>2021</td>\n",
       "      <td>6.75</td>\n",
       "      <td>6.75</td>\n",
       "      <td>3.6</td>\n",
       "      <td>13</td>\n",
       "      <td>12.5</td>\n",
       "      <td>75.0</td>\n",
       "      <td>1.0</td>\n",
       "      <td>0.829304</td>\n",
       "    </tr>\n",
       "    <tr>\n",
       "      <th>1</th>\n",
       "      <td>Morrisons The Best Touraine Rose</td>\n",
       "      <td>white</td>\n",
       "      <td>France</td>\n",
       "      <td>NaN</td>\n",
       "      <td>8.00</td>\n",
       "      <td>8.00</td>\n",
       "      <td>0.0</td>\n",
       "      <td>4</td>\n",
       "      <td>12.5</td>\n",
       "      <td>75.0</td>\n",
       "      <td>NaN</td>\n",
       "      <td>0.903090</td>\n",
       "    </tr>\n",
       "    <tr>\n",
       "      <th>2</th>\n",
       "      <td>McGuigan Black Label Merlot</td>\n",
       "      <td>white</td>\n",
       "      <td>Australia</td>\n",
       "      <td>2021</td>\n",
       "      <td>6.75</td>\n",
       "      <td>6.75</td>\n",
       "      <td>4.2</td>\n",
       "      <td>13</td>\n",
       "      <td>12.5</td>\n",
       "      <td>75.0</td>\n",
       "      <td>1.0</td>\n",
       "      <td>0.829304</td>\n",
       "    </tr>\n",
       "    <tr>\n",
       "      <th>3</th>\n",
       "      <td>Morrisons The Best South African Sauvignon Blanc</td>\n",
       "      <td>white</td>\n",
       "      <td>Western Cape</td>\n",
       "      <td>2021</td>\n",
       "      <td>7.50</td>\n",
       "      <td>7.50</td>\n",
       "      <td>4.0</td>\n",
       "      <td>9</td>\n",
       "      <td>12.5</td>\n",
       "      <td>75.0</td>\n",
       "      <td>1.0</td>\n",
       "      <td>0.875061</td>\n",
       "    </tr>\n",
       "    <tr>\n",
       "      <th>4</th>\n",
       "      <td>Hardys Nottage Hill Chardonnay</td>\n",
       "      <td>white</td>\n",
       "      <td>Australia</td>\n",
       "      <td>2017</td>\n",
       "      <td>6.75</td>\n",
       "      <td>6.75</td>\n",
       "      <td>0.0</td>\n",
       "      <td>5</td>\n",
       "      <td>13.5</td>\n",
       "      <td>75.0</td>\n",
       "      <td>5.0</td>\n",
       "      <td>0.829304</td>\n",
       "    </tr>\n",
       "  </tbody>\n",
       "</table>\n",
       "</div>"
      ],
      "text/plain": [
       "                                               name wine_type       country  \\\n",
       "0                       McGuigan Black Label Shiraz     white     Australia   \n",
       "1                  Morrisons The Best Touraine Rose     white        France   \n",
       "2                       McGuigan Black Label Merlot     white     Australia   \n",
       "3  Morrisons The Best South African Sauvignon Blanc     white  Western Cape   \n",
       "4                    Hardys Nottage Hill Chardonnay     white     Australia   \n",
       "\n",
       "   year  price  scaledprice  score  num_review   abv  size (cL)  age  logprice  \n",
       "0  2021   6.75         6.75    3.6          13  12.5       75.0  1.0  0.829304  \n",
       "1   NaN   8.00         8.00    0.0           4  12.5       75.0  NaN  0.903090  \n",
       "2  2021   6.75         6.75    4.2          13  12.5       75.0  1.0  0.829304  \n",
       "3  2021   7.50         7.50    4.0           9  12.5       75.0  1.0  0.875061  \n",
       "4  2017   6.75         6.75    0.0           5  13.5       75.0  5.0  0.829304  "
      ]
     },
     "execution_count": 277,
     "metadata": {},
     "output_type": "execute_result"
    }
   ],
   "source": [
    "# rename column to size for ease of use\n",
    "morrisons_to_merge.rename(columns={'size' : 'size (cL)'}, inplace=True)\n",
    "morrisons_to_merge.head()"
   ]
  },
  {
   "cell_type": "code",
   "execution_count": 279,
   "metadata": {},
   "outputs": [],
   "source": [
    "morrisons_to_merge.to_csv('morrissons_to_merge.csv')"
   ]
  }
 ],
 "metadata": {
  "kernelspec": {
   "display_name": "Python 3.9.12 ('base')",
   "language": "python",
   "name": "python3"
  },
  "language_info": {
   "codemirror_mode": {
    "name": "ipython",
    "version": 3
   },
   "file_extension": ".py",
   "mimetype": "text/x-python",
   "name": "python",
   "nbconvert_exporter": "python",
   "pygments_lexer": "ipython3",
   "version": "3.9.12"
  },
  "vscode": {
   "interpreter": {
    "hash": "d71a953461ef8512bf8c46eb6fc2f9e581b856ead0007056e27a33224d52d358"
   }
  }
 },
 "nbformat": 4,
 "nbformat_minor": 4
}
