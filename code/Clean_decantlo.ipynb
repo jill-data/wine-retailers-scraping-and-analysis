{
 "cells": [
  {
   "cell_type": "code",
   "execution_count": 168,
   "metadata": {},
   "outputs": [],
   "source": [
    "# Import necessary packages\n",
    "import pandas as pd\n",
    "import numpy as np\n",
    "import matplotlib.pyplot as plt\n",
    "import seaborn as sns\n",
    "from sklearn.impute import SimpleImputer\n"
   ]
  },
  {
   "cell_type": "code",
   "execution_count": 169,
   "metadata": {},
   "outputs": [
    {
     "data": {
      "text/html": [
       "<div>\n",
       "<style scoped>\n",
       "    .dataframe tbody tr th:only-of-type {\n",
       "        vertical-align: middle;\n",
       "    }\n",
       "\n",
       "    .dataframe tbody tr th {\n",
       "        vertical-align: top;\n",
       "    }\n",
       "\n",
       "    .dataframe thead th {\n",
       "        text-align: right;\n",
       "    }\n",
       "</style>\n",
       "<table border=\"1\" class=\"dataframe\">\n",
       "  <thead>\n",
       "    <tr style=\"text-align: right;\">\n",
       "      <th></th>\n",
       "      <th>rating</th>\n",
       "      <th>num_review</th>\n",
       "      <th>wine_type</th>\n",
       "      <th>size (cL)</th>\n",
       "      <th>name</th>\n",
       "      <th>price</th>\n",
       "      <th>country</th>\n",
       "      <th>abv</th>\n",
       "      <th>year</th>\n",
       "      <th>url</th>\n",
       "    </tr>\n",
       "  </thead>\n",
       "  <tbody>\n",
       "    <tr>\n",
       "      <th>0</th>\n",
       "      <td>4.9</td>\n",
       "      <td>52</td>\n",
       "      <td>white</td>\n",
       "      <td>75.0</td>\n",
       "      <td>Enate Chardonnay 234</td>\n",
       "      <td>10.55</td>\n",
       "      <td>Spain</td>\n",
       "      <td>13.5</td>\n",
       "      <td>2021.0</td>\n",
       "      <td>https://www.decantalo.com/uk/en/enate-chardonn...</td>\n",
       "    </tr>\n",
       "    <tr>\n",
       "      <th>1</th>\n",
       "      <td>4.8</td>\n",
       "      <td>26</td>\n",
       "      <td>white</td>\n",
       "      <td>75.0</td>\n",
       "      <td>José Pariente Verdejo</td>\n",
       "      <td>11.33</td>\n",
       "      <td>Spain</td>\n",
       "      <td>13.0</td>\n",
       "      <td>2021.0</td>\n",
       "      <td>https://www.decantalo.com/uk/en/jose-pariente-...</td>\n",
       "    </tr>\n",
       "    <tr>\n",
       "      <th>2</th>\n",
       "      <td>4.8</td>\n",
       "      <td>15</td>\n",
       "      <td>white</td>\n",
       "      <td>75.0</td>\n",
       "      <td>The Flower and the Bee</td>\n",
       "      <td>10.85</td>\n",
       "      <td>Spain</td>\n",
       "      <td>13.0</td>\n",
       "      <td>2021.0</td>\n",
       "      <td>https://www.decantalo.com/uk/en/the-flower-and...</td>\n",
       "    </tr>\n",
       "    <tr>\n",
       "      <th>3</th>\n",
       "      <td>5.0</td>\n",
       "      <td>2</td>\n",
       "      <td>white</td>\n",
       "      <td>75.0</td>\n",
       "      <td>Can Sumoi Xarel·lo</td>\n",
       "      <td>13.64</td>\n",
       "      <td>Spain</td>\n",
       "      <td>14.0</td>\n",
       "      <td>2021.0</td>\n",
       "      <td>https://www.decantalo.com/uk/en/can-sumoi-xare...</td>\n",
       "    </tr>\n",
       "    <tr>\n",
       "      <th>4</th>\n",
       "      <td>4.8</td>\n",
       "      <td>6</td>\n",
       "      <td>white</td>\n",
       "      <td>75.0</td>\n",
       "      <td>Martín Codax Albariño</td>\n",
       "      <td>13.73</td>\n",
       "      <td>Spain</td>\n",
       "      <td>12.0</td>\n",
       "      <td>2021.0</td>\n",
       "      <td>https://www.decantalo.com/uk/en/martin-codax-a...</td>\n",
       "    </tr>\n",
       "  </tbody>\n",
       "</table>\n",
       "</div>"
      ],
      "text/plain": [
       "   rating  num_review wine_type  size (cL)                    name  price  \\\n",
       "0     4.9          52     white       75.0    Enate Chardonnay 234  10.55   \n",
       "1     4.8          26     white       75.0   José Pariente Verdejo  11.33   \n",
       "2     4.8          15     white       75.0  The Flower and the Bee  10.85   \n",
       "3     5.0           2     white       75.0      Can Sumoi Xarel·lo  13.64   \n",
       "4     4.8           6     white       75.0   Martín Codax Albariño  13.73   \n",
       "\n",
       "  country   abv    year                                                url  \n",
       "0   Spain  13.5  2021.0  https://www.decantalo.com/uk/en/enate-chardonn...  \n",
       "1   Spain  13.0  2021.0  https://www.decantalo.com/uk/en/jose-pariente-...  \n",
       "2   Spain  13.0  2021.0  https://www.decantalo.com/uk/en/the-flower-and...  \n",
       "3   Spain  14.0  2021.0  https://www.decantalo.com/uk/en/can-sumoi-xare...  \n",
       "4   Spain  12.0  2021.0  https://www.decantalo.com/uk/en/martin-codax-a...  "
      ]
     },
     "execution_count": 169,
     "metadata": {},
     "output_type": "execute_result"
    }
   ],
   "source": [
    "# Load dataset into a dataframe\n",
    "decantalo = pd.read_csv(r\"data\\scrapped\\decantalo_listings.csv\")\n",
    "decantalo.head()"
   ]
  },
  {
   "cell_type": "code",
   "execution_count": 170,
   "metadata": {},
   "outputs": [],
   "source": [
    "# Rename the column name for convenience\n",
    "decantalo.rename(columns={\"size (cL)\" : \"size\"}, inplace=True)"
   ]
  },
  {
   "cell_type": "code",
   "execution_count": 171,
   "metadata": {},
   "outputs": [
    {
     "name": "stdout",
     "output_type": "stream",
     "text": [
      "<class 'pandas.core.frame.DataFrame'>\n",
      "RangeIndex: 7259 entries, 0 to 7258\n",
      "Data columns (total 10 columns):\n",
      " #   Column      Non-Null Count  Dtype  \n",
      "---  ------      --------------  -----  \n",
      " 0   rating      7259 non-null   float64\n",
      " 1   num_review  7259 non-null   int64  \n",
      " 2   wine_type   7259 non-null   object \n",
      " 3   size        7128 non-null   float64\n",
      " 4   name        7259 non-null   object \n",
      " 5   price       7259 non-null   object \n",
      " 6   country     7216 non-null   object \n",
      " 7   abv         7244 non-null   float64\n",
      " 8   year        6863 non-null   float64\n",
      " 9   url         7259 non-null   object \n",
      "dtypes: float64(4), int64(1), object(5)\n",
      "memory usage: 567.2+ KB\n"
     ]
    }
   ],
   "source": [
    "# Check types of all variables\n",
    "decantalo.info()"
   ]
  },
  {
   "cell_type": "code",
   "execution_count": 172,
   "metadata": {},
   "outputs": [
    {
     "data": {
      "text/plain": [
       "rating        False\n",
       "num_review    False\n",
       "wine_type     False\n",
       "size           True\n",
       "name          False\n",
       "price         False\n",
       "country        True\n",
       "abv            True\n",
       "year           True\n",
       "url           False\n",
       "dtype: bool"
      ]
     },
     "execution_count": 172,
     "metadata": {},
     "output_type": "execute_result"
    }
   ],
   "source": [
    "# Check for na values\n",
    "decantalo.isna().any()"
   ]
  },
  {
   "cell_type": "code",
   "execution_count": 173,
   "metadata": {},
   "outputs": [
    {
     "data": {
      "text/plain": [
       "rating          0\n",
       "num_review      0\n",
       "wine_type       0\n",
       "size          131\n",
       "name            0\n",
       "price           0\n",
       "country        43\n",
       "abv            15\n",
       "year          396\n",
       "url             0\n",
       "dtype: int64"
      ]
     },
     "execution_count": 173,
     "metadata": {},
     "output_type": "execute_result"
    }
   ],
   "source": [
    "# Count NA values\n",
    "decantalo.isna().sum()"
   ]
  },
  {
   "cell_type": "code",
   "execution_count": 174,
   "metadata": {},
   "outputs": [
    {
     "data": {
      "text/plain": [
       "rating          19\n",
       "num_review      43\n",
       "wine_type        7\n",
       "size             4\n",
       "name          6498\n",
       "price         1533\n",
       "country         21\n",
       "abv             96\n",
       "year            25\n",
       "url           7247\n",
       "dtype: int64"
      ]
     },
     "execution_count": 174,
     "metadata": {},
     "output_type": "execute_result"
    }
   ],
   "source": [
    "# Check number of unique values in all columns\n",
    "decantalo.nunique()"
   ]
  },
  {
   "cell_type": "code",
   "execution_count": 175,
   "metadata": {},
   "outputs": [
    {
     "data": {
      "text/plain": [
       "array([4.9, 4.8, 5. , 4.4, 0. , 4.7, 4.5, 4.2, 4.6, 4. , 3. , 3.5, 3.8,\n",
       "       4.3, 2. , 4.1, 1. , 3.7, 3.9])"
      ]
     },
     "execution_count": 175,
     "metadata": {},
     "output_type": "execute_result"
    },
    {
     "data": {
      "image/png": "[encoded data removed]",
      "text/plain": [
       "<Figure size 432x432 with 1 Axes>"
      ]
     },
     "metadata": {},
     "output_type": "display_data"
    }
   ],
   "source": [
    "# Histogram plots for rating\n",
    "sns.set(rc={\"figure.figsize\":(6,6)})\n",
    "\n",
    "sns.histplot(decantalo[\"rating\"])\n",
    "decantalo[\"rating\"].unique()"
   ]
  },
  {
   "cell_type": "code",
   "execution_count": 176,
   "metadata": {},
   "outputs": [
    {
     "data": {
      "text/plain": [
       "array([52, 26, 15,  2,  6, 23, 25,  8, 14,  0,  7, 11,  9,  1, 18,  3, 34,\n",
       "        4, 16, 12,  5, 19, 13, 10, 21, 17, 27, 31, 47, 44, 22, 35, 78, 94,\n",
       "       57, 30, 73, 33, 40, 20, 24, 38, 50], dtype=int64)"
      ]
     },
     "execution_count": 176,
     "metadata": {},
     "output_type": "execute_result"
    },
    {
     "data": {
      "image/png": "[encoded data removed]",
      "text/plain": [
       "<Figure size 432x432 with 1 Axes>"
      ]
     },
     "metadata": {},
     "output_type": "display_data"
    }
   ],
   "source": [
    "# Histogram plots for number of reviews\n",
    "sns.set(rc={\"figure.figsize\":(6,6)})\n",
    "\n",
    "sns.histplot(decantalo[\"num_review\"], kde=False, bins=5)\n",
    "decantalo[\"num_review\"].unique()"
   ]
  },
  {
   "cell_type": "code",
   "execution_count": 177,
   "metadata": {},
   "outputs": [
    {
     "data": {
      "text/plain": [
       "array(['white', 'rose', 'fortified and sherry', 'red', 'sweet', 'orange',\n",
       "       'vermouth'], dtype=object)"
      ]
     },
     "execution_count": 177,
     "metadata": {},
     "output_type": "execute_result"
    },
    {
     "data": {
      "image/png": "[encoded data removed]",
      "text/plain": [
       "<Figure size 432x432 with 1 Axes>"
      ]
     },
     "metadata": {},
     "output_type": "display_data"
    }
   ],
   "source": [
    "# Histogram plots for wine type\n",
    "sns.set(rc={\"figure.figsize\":(6,6)})\n",
    "\n",
    "sns.histplot(decantalo[\"wine_type\"])\n",
    "decantalo[\"wine_type\"].unique()"
   ]
  },
  {
   "cell_type": "code",
   "execution_count": 178,
   "metadata": {},
   "outputs": [
    {
     "data": {
      "text/plain": [
       "array([75., 50., 62., nan, 70.])"
      ]
     },
     "execution_count": 178,
     "metadata": {},
     "output_type": "execute_result"
    },
    {
     "data": {
      "image/png": "[encoded data removed]",
      "text/plain": [
       "<Figure size 432x432 with 1 Axes>"
      ]
     },
     "metadata": {},
     "output_type": "display_data"
    }
   ],
   "source": [
    "# Histogram plots for size\n",
    "sns.set(rc={\"figure.figsize\":(6,6)})\n",
    "\n",
    "sns.histplot(decantalo[\"size\"], kde=False, bins=5)\n",
    "decantalo[\"size\"].unique()"
   ]
  },
  {
   "cell_type": "code",
   "execution_count": 179,
   "metadata": {},
   "outputs": [
    {
     "name": "stdout",
     "output_type": "stream",
     "text": [
      "<class 'pandas.core.frame.DataFrame'>\n",
      "RangeIndex: 7259 entries, 0 to 7258\n",
      "Data columns (total 10 columns):\n",
      " #   Column      Non-Null Count  Dtype  \n",
      "---  ------      --------------  -----  \n",
      " 0   rating      7259 non-null   float64\n",
      " 1   num_review  7259 non-null   int64  \n",
      " 2   wine_type   7259 non-null   object \n",
      " 3   size        7128 non-null   float64\n",
      " 4   name        7259 non-null   object \n",
      " 5   price       5828 non-null   float64\n",
      " 6   country     7216 non-null   object \n",
      " 7   abv         7244 non-null   float64\n",
      " 8   year        6863 non-null   float64\n",
      " 9   url         7259 non-null   object \n",
      "dtypes: float64(5), int64(1), object(4)\n",
      "memory usage: 567.2+ KB\n"
     ]
    }
   ],
   "source": [
    "# As info showed that price is of type object, it indicates there might be non-numerical values in it. \n",
    "# Converting the column to float and any non numeric value to Nan. We will handle Nan later\n",
    "decantalo[\"price\"] = decantalo[\"price\"].apply(pd.to_numeric, errors = \"coerce\")\n",
    "decantalo.info()"
   ]
  },
  {
   "cell_type": "code",
   "execution_count": 180,
   "metadata": {},
   "outputs": [
    {
     "data": {
      "text/plain": [
       "array(['Spain', 'France', 'Portugal', 'Italy', 'Germany', 'Argentina',\n",
       "       'Greece', 'unknown', 'South Africa', 'Austria', 'Hungary',\n",
       "       'Slovenia', 'Chile', 'New Zealand', 'Croatia', 'United States',\n",
       "       'Australia', 'Peru', 'Uruguay', 'Lebanon', 'Israel',\n",
       "       'Czech Republic'], dtype=object)"
      ]
     },
     "execution_count": 180,
     "metadata": {},
     "output_type": "execute_result"
    }
   ],
   "source": [
    "# Fix missing countries to unknown value\n",
    "decantalo[\"country\"].fillna(\"unknown\" , inplace=True)\n",
    "decantalo[\"country\"].unique()"
   ]
  },
  {
   "cell_type": "code",
   "execution_count": 181,
   "metadata": {},
   "outputs": [
    {
     "data": {
      "text/plain": [
       "<AxesSubplot:xlabel='abv', ylabel='Count'>"
      ]
     },
     "execution_count": 181,
     "metadata": {},
     "output_type": "execute_result"
    },
    {
     "data": {
      "image/png": "[encoded data removed]",
      "text/plain": [
       "<Figure size 432x432 with 1 Axes>"
      ]
     },
     "metadata": {},
     "output_type": "display_data"
    }
   ],
   "source": [
    "# Histogram plot of ABV\n",
    "\n",
    "sns.set(rc={\"figure.figsize\":(6,6)})\n",
    "\n",
    "sns.histplot(decantalo[\"abv\"], kde=False,bins=5)\n",
    "\n"
   ]
  },
  {
   "cell_type": "code",
   "execution_count": 182,
   "metadata": {},
   "outputs": [
    {
     "data": {
      "text/plain": [
       "0"
      ]
     },
     "execution_count": 182,
     "metadata": {},
     "output_type": "execute_result"
    }
   ],
   "source": [
    "decantalo.describe()\n",
    "# max value of abv doesn't make sense \n",
    "# DRopping abv values above 100\n",
    "\n",
    "indices = decantalo[decantalo[\"abv\"] > 100].index\n",
    "decantalo.drop(indices, inplace=True)\n",
    "\n",
    "# checking if the value is removed\n",
    "decantalo.describe()\n",
    "\n",
    "# Compute % of missing values\n",
    "decantalo[\"abv\"].isna().sum()/len(decantalo[\"abv\"])*100\n",
    "\n",
    "# As the % of missing values is very small, we will drop the rows having abv value as NA\n",
    "decantalo.dropna(subset = [\"abv\"], inplace=True)\n",
    "\n",
    "decantalo[\"abv\"].isna().sum()\n",
    "\n",
    "\n"
   ]
  },
  {
   "cell_type": "code",
   "execution_count": 183,
   "metadata": {},
   "outputs": [
    {
     "data": {
      "text/plain": [
       "<AxesSubplot:xlabel='year', ylabel='Count'>"
      ]
     },
     "execution_count": 183,
     "metadata": {},
     "output_type": "execute_result"
    },
    {
     "data": {
      "image/png": "[encoded data removed]",
      "text/plain": [
       "<Figure size 504x504 with 1 Axes>"
      ]
     },
     "metadata": {},
     "output_type": "display_data"
    }
   ],
   "source": [
    "# Histogram plot of year\n",
    "\n",
    "decantalo[\"year\"].isna().sum()/len(decantalo[\"year\"])*100\n",
    "sns.set(rc={\"figure.figsize\":(7,7)})\n",
    "\n",
    "sns.histplot(decantalo[\"year\"], bins=30)\n",
    "\n",
    "# As only 5% is missing, we will keep it as is and can use other column values for analysis \n",
    "\n",
    "\n",
    "\n",
    "\n"
   ]
  },
  {
   "cell_type": "code",
   "execution_count": 184,
   "metadata": {},
   "outputs": [],
   "source": [
    "# Feature Engineering\n",
    "\n",
    "decantalo = decantalo.reset_index()\n",
    "\n",
    "# Find age\n",
    "decantalo.loc[:, \"age\"] = 2022 - decantalo[\"year\"]\n",
    "\n",
    "# # one hot encoding of wine_type (after merge)\n",
    "# pd.get_dummies(decantalo, drop_first=True, columns=[\"wine_type\"])\n",
    "\n",
    "# Creating a column with ratings >5\n",
    "for i, num in enumerate(decantalo[\"num_review\"]):\n",
    "    if num > 5:\n",
    "        decantalo.loc[i, \"score\"] = decantalo.loc[i, \"rating\"]\n",
    "    else:\n",
    "        decantalo.loc[i, \"score\"] = 0\n",
    "\n",
    "\n"
   ]
  },
  {
   "cell_type": "code",
   "execution_count": 185,
   "metadata": {},
   "outputs": [
    {
     "name": "stderr",
     "output_type": "stream",
     "text": [
      "c:\\Users\\Soumya\\anaconda3\\Anaconda\\lib\\site-packages\\sklearn\\impute\\_base.py:49: FutureWarning: Unlike other reduction functions (e.g. `skew`, `kurtosis`), the default behavior of `mode` typically preserves the axis it acts along. In SciPy 1.11.0, this behavior will change: the default value of `keepdims` will become False, the `axis` over which the statistic is taken will be eliminated, and the value None will no longer be accepted. Set `keepdims` to True or False to avoid this warning.\n",
      "  mode = stats.mode(array)\n"
     ]
    }
   ],
   "source": [
    "# Impute size to most frequent value\n",
    "\n",
    "impute = SimpleImputer(missing_values=np.nan, strategy=\"most_frequent\")\n",
    "decantalo[[\"size\"]]=impute.fit_transform(decantalo[[\"size\"]])\n",
    "\n",
    "\n",
    "# To scale size\n",
    "for i, size in enumerate(decantalo[\"size\"]):\n",
    "    decantalo.loc[i, \"scaledprice\"] = decantalo.loc[i, \"price\"] * 75 / size\n",
    "\n",
    "decantalo.loc[decantalo[\"size\"] != 75, [\"size\", \"price\", \"scaledprice\"]]\n",
    "\n",
    "# Creating a new column log price as it is skewed\n",
    "decantalo.loc[:, \"logprice\"] = np.log10(decantalo.loc[:,\"scaledprice\"])\n",
    "\n",
    "\n",
    "\n"
   ]
  },
  {
   "cell_type": "code",
   "execution_count": 186,
   "metadata": {},
   "outputs": [
    {
     "data": {
      "text/html": [
       "<div>\n",
       "<style scoped>\n",
       "    .dataframe tbody tr th:only-of-type {\n",
       "        vertical-align: middle;\n",
       "    }\n",
       "\n",
       "    .dataframe tbody tr th {\n",
       "        vertical-align: top;\n",
       "    }\n",
       "\n",
       "    .dataframe thead th {\n",
       "        text-align: right;\n",
       "    }\n",
       "</style>\n",
       "<table border=\"1\" class=\"dataframe\">\n",
       "  <thead>\n",
       "    <tr style=\"text-align: right;\">\n",
       "      <th></th>\n",
       "      <th>index</th>\n",
       "      <th>rating</th>\n",
       "      <th>num_review</th>\n",
       "      <th>wine_type</th>\n",
       "      <th>size</th>\n",
       "      <th>name</th>\n",
       "      <th>price</th>\n",
       "      <th>country</th>\n",
       "      <th>abv</th>\n",
       "      <th>year</th>\n",
       "      <th>url</th>\n",
       "      <th>age</th>\n",
       "      <th>score</th>\n",
       "      <th>scaledprice</th>\n",
       "      <th>logprice</th>\n",
       "      <th>countrycode</th>\n",
       "    </tr>\n",
       "  </thead>\n",
       "  <tbody>\n",
       "    <tr>\n",
       "      <th>0</th>\n",
       "      <td>0</td>\n",
       "      <td>4.9</td>\n",
       "      <td>52</td>\n",
       "      <td>white</td>\n",
       "      <td>75.0</td>\n",
       "      <td>Enate Chardonnay 234</td>\n",
       "      <td>10.55</td>\n",
       "      <td>Spain</td>\n",
       "      <td>13.5</td>\n",
       "      <td>2021.0</td>\n",
       "      <td>https://www.decantalo.com/uk/en/enate-chardonn...</td>\n",
       "      <td>1.0</td>\n",
       "      <td>4.9</td>\n",
       "      <td>10.55</td>\n",
       "      <td>1.023252</td>\n",
       "      <td>ESP</td>\n",
       "    </tr>\n",
       "    <tr>\n",
       "      <th>1</th>\n",
       "      <td>1</td>\n",
       "      <td>4.8</td>\n",
       "      <td>26</td>\n",
       "      <td>white</td>\n",
       "      <td>75.0</td>\n",
       "      <td>José Pariente Verdejo</td>\n",
       "      <td>11.33</td>\n",
       "      <td>Spain</td>\n",
       "      <td>13.0</td>\n",
       "      <td>2021.0</td>\n",
       "      <td>https://www.decantalo.com/uk/en/jose-pariente-...</td>\n",
       "      <td>1.0</td>\n",
       "      <td>4.8</td>\n",
       "      <td>11.33</td>\n",
       "      <td>1.054230</td>\n",
       "      <td>ESP</td>\n",
       "    </tr>\n",
       "    <tr>\n",
       "      <th>2</th>\n",
       "      <td>2</td>\n",
       "      <td>4.8</td>\n",
       "      <td>15</td>\n",
       "      <td>white</td>\n",
       "      <td>75.0</td>\n",
       "      <td>The Flower and the Bee</td>\n",
       "      <td>10.85</td>\n",
       "      <td>Spain</td>\n",
       "      <td>13.0</td>\n",
       "      <td>2021.0</td>\n",
       "      <td>https://www.decantalo.com/uk/en/the-flower-and...</td>\n",
       "      <td>1.0</td>\n",
       "      <td>4.8</td>\n",
       "      <td>10.85</td>\n",
       "      <td>1.035430</td>\n",
       "      <td>ESP</td>\n",
       "    </tr>\n",
       "    <tr>\n",
       "      <th>3</th>\n",
       "      <td>3</td>\n",
       "      <td>5.0</td>\n",
       "      <td>2</td>\n",
       "      <td>white</td>\n",
       "      <td>75.0</td>\n",
       "      <td>Can Sumoi Xarel·lo</td>\n",
       "      <td>13.64</td>\n",
       "      <td>Spain</td>\n",
       "      <td>14.0</td>\n",
       "      <td>2021.0</td>\n",
       "      <td>https://www.decantalo.com/uk/en/can-sumoi-xare...</td>\n",
       "      <td>1.0</td>\n",
       "      <td>0.0</td>\n",
       "      <td>13.64</td>\n",
       "      <td>1.134814</td>\n",
       "      <td>ESP</td>\n",
       "    </tr>\n",
       "    <tr>\n",
       "      <th>4</th>\n",
       "      <td>4</td>\n",
       "      <td>4.8</td>\n",
       "      <td>6</td>\n",
       "      <td>white</td>\n",
       "      <td>75.0</td>\n",
       "      <td>Martín Codax Albariño</td>\n",
       "      <td>13.73</td>\n",
       "      <td>Spain</td>\n",
       "      <td>12.0</td>\n",
       "      <td>2021.0</td>\n",
       "      <td>https://www.decantalo.com/uk/en/martin-codax-a...</td>\n",
       "      <td>1.0</td>\n",
       "      <td>4.8</td>\n",
       "      <td>13.73</td>\n",
       "      <td>1.137671</td>\n",
       "      <td>ESP</td>\n",
       "    </tr>\n",
       "  </tbody>\n",
       "</table>\n",
       "</div>"
      ],
      "text/plain": [
       "   index  rating  num_review wine_type  size                    name  price  \\\n",
       "0      0     4.9          52     white  75.0    Enate Chardonnay 234  10.55   \n",
       "1      1     4.8          26     white  75.0   José Pariente Verdejo  11.33   \n",
       "2      2     4.8          15     white  75.0  The Flower and the Bee  10.85   \n",
       "3      3     5.0           2     white  75.0      Can Sumoi Xarel·lo  13.64   \n",
       "4      4     4.8           6     white  75.0   Martín Codax Albariño  13.73   \n",
       "\n",
       "  country   abv    year                                                url  \\\n",
       "0   Spain  13.5  2021.0  https://www.decantalo.com/uk/en/enate-chardonn...   \n",
       "1   Spain  13.0  2021.0  https://www.decantalo.com/uk/en/jose-pariente-...   \n",
       "2   Spain  13.0  2021.0  https://www.decantalo.com/uk/en/the-flower-and...   \n",
       "3   Spain  14.0  2021.0  https://www.decantalo.com/uk/en/can-sumoi-xare...   \n",
       "4   Spain  12.0  2021.0  https://www.decantalo.com/uk/en/martin-codax-a...   \n",
       "\n",
       "   age  score  scaledprice  logprice countrycode  \n",
       "0  1.0    4.9        10.55  1.023252         ESP  \n",
       "1  1.0    4.8        11.33  1.054230         ESP  \n",
       "2  1.0    4.8        10.85  1.035430         ESP  \n",
       "3  1.0    0.0        13.64  1.134814         ESP  \n",
       "4  1.0    4.8        13.73  1.137671         ESP  "
      ]
     },
     "execution_count": 186,
     "metadata": {},
     "output_type": "execute_result"
    }
   ],
   "source": [
    "# creating country codes\n",
    "import pycountry\n",
    "\n",
    "# create a dict f country name and their codes \n",
    "countries = {}\n",
    "for country in pycountry.countries:\n",
    "    countries[country.name] = country.alpha_3\n",
    "\n",
    "decantalo[\"countrycode\"] = [countries.get(c, \"unknown\") for c in decantalo[\"country\"]]\n",
    "decantalo.head()"
   ]
  },
  {
   "cell_type": "code",
   "execution_count": 187,
   "metadata": {},
   "outputs": [
    {
     "data": {
      "text/plain": [
       "<AxesSubplot:>"
      ]
     },
     "execution_count": 187,
     "metadata": {},
     "output_type": "execute_result"
    },
    {
     "data": {
      "image/png": "[encoded data removed]",
      "text/plain": [
       "<Figure size 504x504 with 1 Axes>"
      ]
     },
     "metadata": {},
     "output_type": "display_data"
    }
   ],
   "source": [
    "# price visualisation (log plot of price as the data is skewed)\n",
    "sns.set(rc={\"figure.figsize\":(7,7)})\n",
    "\n",
    "sns.boxplot(data=np.log10(decantalo[\"scaledprice\"]), color= \"red\")\n"
   ]
  },
  {
   "cell_type": "code",
   "execution_count": 188,
   "metadata": {},
   "outputs": [
    {
     "data": {
      "text/plain": [
       "<AxesSubplot:xlabel='Count', ylabel='country'>"
      ]
     },
     "execution_count": 188,
     "metadata": {},
     "output_type": "execute_result"
    },
    {
     "data": {
      "image/png": "[encoded data removed]",
      "text/plain": [
       "<Figure size 720x720 with 1 Axes>"
      ]
     },
     "metadata": {},
     "output_type": "display_data"
    }
   ],
   "source": [
    "# Countries visualisation\n",
    "sns.set(rc={\"figure.figsize\":(10,10)})\n",
    "\n",
    "sns.histplot(data=decantalo, y=\"country\", hue=\"country\")\n"
   ]
  },
  {
   "cell_type": "code",
   "execution_count": 189,
   "metadata": {},
   "outputs": [
    {
     "data": {
      "text/plain": [
       "<AxesSubplot:xlabel='wine_type', ylabel='logprice'>"
      ]
     },
     "execution_count": 189,
     "metadata": {},
     "output_type": "execute_result"
    },
    {
     "data": {
      "image/png": "[encoded data removed]",
      "text/plain": [
       "<Figure size 720x504 with 1 Axes>"
      ]
     },
     "metadata": {},
     "output_type": "display_data"
    }
   ],
   "source": [
    "# plot wine type vs price\n",
    "\n",
    "sns.set(rc={\"figure.figsize\":(10,7)})\n",
    "\n",
    "sns.boxplot(\n",
    "    data=decantalo,\n",
    "    x=\"wine_type\", y=\"logprice\", hue=\"wine_type\"\n",
    ")"
   ]
  },
  {
   "cell_type": "code",
   "execution_count": 190,
   "metadata": {},
   "outputs": [
    {
     "data": {
      "text/plain": [
       "<seaborn.axisgrid.FacetGrid at 0x2c7d4372100>"
      ]
     },
     "execution_count": 190,
     "metadata": {},
     "output_type": "execute_result"
    },
    {
     "data": {
      "image/png": "[encoded data removed]",
      "text/plain": [
       "<Figure size 864x288 with 1 Axes>"
      ]
     },
     "metadata": {},
     "output_type": "display_data"
    }
   ],
   "source": [
    "# plot country vs review ratings\n",
    "\n",
    "sns.catplot(data=decantalo.loc[decantalo[\"countrycode\"]!=\"unknown\"], x=\"countrycode\", y=\"score\", height=4, aspect=3)"
   ]
  },
  {
   "cell_type": "code",
   "execution_count": 191,
   "metadata": {},
   "outputs": [
    {
     "data": {
      "text/plain": [
       "Text(0.5, 0, 'LogPrice')"
      ]
     },
     "execution_count": 191,
     "metadata": {},
     "output_type": "execute_result"
    },
    {
     "data": {
      "image/png": "[encoded data removed]",
      "text/plain": [
       "<Figure size 720x504 with 1 Axes>"
      ]
     },
     "metadata": {},
     "output_type": "display_data"
    }
   ],
   "source": [
    "# Plot log price vs age and rating\n",
    "\n",
    "from mpl_toolkits import mplot3d\n",
    "\n",
    "fig = plt.figure()\n",
    "ax = plt.axes(projection='3d')\n",
    "\n",
    "ax.plot3D(decantalo[\"score\"], decantalo[\"age\"], decantalo[\"logprice\"], '.')\n",
    "ax.set_xlabel(\"Rating\")\n",
    "ax.set_ylabel(\"Age\")\n",
    "ax.set_zlabel(\"LogPrice\")"
   ]
  },
  {
   "cell_type": "code",
   "execution_count": 192,
   "metadata": {},
   "outputs": [
    {
     "data": {
      "text/html": [
       "<div>\n",
       "<style scoped>\n",
       "    .dataframe tbody tr th:only-of-type {\n",
       "        vertical-align: middle;\n",
       "    }\n",
       "\n",
       "    .dataframe tbody tr th {\n",
       "        vertical-align: top;\n",
       "    }\n",
       "\n",
       "    .dataframe thead th {\n",
       "        text-align: right;\n",
       "    }\n",
       "</style>\n",
       "<table border=\"1\" class=\"dataframe\">\n",
       "  <thead>\n",
       "    <tr style=\"text-align: right;\">\n",
       "      <th></th>\n",
       "      <th>year</th>\n",
       "      <th>count</th>\n",
       "    </tr>\n",
       "  </thead>\n",
       "  <tbody>\n",
       "    <tr>\n",
       "      <th>0</th>\n",
       "      <td>2020.0</td>\n",
       "      <td>1527</td>\n",
       "    </tr>\n",
       "    <tr>\n",
       "      <th>1</th>\n",
       "      <td>2019.0</td>\n",
       "      <td>1484</td>\n",
       "    </tr>\n",
       "    <tr>\n",
       "      <th>2</th>\n",
       "      <td>2021.0</td>\n",
       "      <td>1338</td>\n",
       "    </tr>\n",
       "    <tr>\n",
       "      <th>3</th>\n",
       "      <td>2018.0</td>\n",
       "      <td>1064</td>\n",
       "    </tr>\n",
       "    <tr>\n",
       "      <th>4</th>\n",
       "      <td>2017.0</td>\n",
       "      <td>604</td>\n",
       "    </tr>\n",
       "  </tbody>\n",
       "</table>\n",
       "</div>"
      ],
      "text/plain": [
       "     year  count\n",
       "0  2020.0   1527\n",
       "1  2019.0   1484\n",
       "2  2021.0   1338\n",
       "3  2018.0   1064\n",
       "4  2017.0    604"
      ]
     },
     "execution_count": 192,
     "metadata": {},
     "output_type": "execute_result"
    }
   ],
   "source": [
    "# Plot top 5 frequent years\n",
    "topyear =decantalo.loc[:, \"year\"].value_counts().sort_values(ascending=False)\n",
    "top =topyear.iloc[0:5]\n",
    "topy =pd.DataFrame({'year':top.index, 'count':top.values})\n",
    "topy\n",
    "\n",
    "\n"
   ]
  },
  {
   "cell_type": "code",
   "execution_count": 193,
   "metadata": {},
   "outputs": [
    {
     "data": {
      "text/plain": [
       "<AxesSubplot:xlabel='year', ylabel='count'>"
      ]
     },
     "execution_count": 193,
     "metadata": {},
     "output_type": "execute_result"
    },
    {
     "data": {
      "image/png": "[encoded data removed]",
      "text/plain": [
       "<Figure size 432x432 with 1 Axes>"
      ]
     },
     "metadata": {},
     "output_type": "display_data"
    }
   ],
   "source": [
    "sns.set(rc={\"figure.figsize\":(6,6)})\n",
    "sns.barplot(data=topy, x= \"year\", y = \"count\")\n",
    "\n"
   ]
  },
  {
   "cell_type": "code",
   "execution_count": 194,
   "metadata": {},
   "outputs": [
    {
     "data": {
      "text/html": [
       "<div>\n",
       "<style scoped>\n",
       "    .dataframe tbody tr th:only-of-type {\n",
       "        vertical-align: middle;\n",
       "    }\n",
       "\n",
       "    .dataframe tbody tr th {\n",
       "        vertical-align: top;\n",
       "    }\n",
       "\n",
       "    .dataframe thead th {\n",
       "        text-align: right;\n",
       "    }\n",
       "</style>\n",
       "<table border=\"1\" class=\"dataframe\">\n",
       "  <thead>\n",
       "    <tr style=\"text-align: right;\">\n",
       "      <th></th>\n",
       "      <th>index</th>\n",
       "      <th>rating</th>\n",
       "      <th>num_review</th>\n",
       "      <th>wine_type</th>\n",
       "      <th>size</th>\n",
       "      <th>name</th>\n",
       "      <th>price</th>\n",
       "      <th>country</th>\n",
       "      <th>abv</th>\n",
       "      <th>year</th>\n",
       "      <th>url</th>\n",
       "      <th>age</th>\n",
       "      <th>score</th>\n",
       "      <th>scaledprice</th>\n",
       "      <th>logprice</th>\n",
       "      <th>countrycode</th>\n",
       "    </tr>\n",
       "  </thead>\n",
       "  <tbody>\n",
       "    <tr>\n",
       "      <th>0</th>\n",
       "      <td>0</td>\n",
       "      <td>4.9</td>\n",
       "      <td>52</td>\n",
       "      <td>white</td>\n",
       "      <td>75.0</td>\n",
       "      <td>Enate Chardonnay 234</td>\n",
       "      <td>10.55</td>\n",
       "      <td>Spain</td>\n",
       "      <td>13.5</td>\n",
       "      <td>2021.0</td>\n",
       "      <td>https://www.decantalo.com/uk/en/enate-chardonn...</td>\n",
       "      <td>1.0</td>\n",
       "      <td>4.9</td>\n",
       "      <td>10.55</td>\n",
       "      <td>1.023252</td>\n",
       "      <td>ESP</td>\n",
       "    </tr>\n",
       "    <tr>\n",
       "      <th>1</th>\n",
       "      <td>1</td>\n",
       "      <td>4.8</td>\n",
       "      <td>26</td>\n",
       "      <td>white</td>\n",
       "      <td>75.0</td>\n",
       "      <td>José Pariente Verdejo</td>\n",
       "      <td>11.33</td>\n",
       "      <td>Spain</td>\n",
       "      <td>13.0</td>\n",
       "      <td>2021.0</td>\n",
       "      <td>https://www.decantalo.com/uk/en/jose-pariente-...</td>\n",
       "      <td>1.0</td>\n",
       "      <td>4.8</td>\n",
       "      <td>11.33</td>\n",
       "      <td>1.054230</td>\n",
       "      <td>ESP</td>\n",
       "    </tr>\n",
       "    <tr>\n",
       "      <th>2</th>\n",
       "      <td>2</td>\n",
       "      <td>4.8</td>\n",
       "      <td>15</td>\n",
       "      <td>white</td>\n",
       "      <td>75.0</td>\n",
       "      <td>The Flower and the Bee</td>\n",
       "      <td>10.85</td>\n",
       "      <td>Spain</td>\n",
       "      <td>13.0</td>\n",
       "      <td>2021.0</td>\n",
       "      <td>https://www.decantalo.com/uk/en/the-flower-and...</td>\n",
       "      <td>1.0</td>\n",
       "      <td>4.8</td>\n",
       "      <td>10.85</td>\n",
       "      <td>1.035430</td>\n",
       "      <td>ESP</td>\n",
       "    </tr>\n",
       "    <tr>\n",
       "      <th>3</th>\n",
       "      <td>3</td>\n",
       "      <td>5.0</td>\n",
       "      <td>2</td>\n",
       "      <td>white</td>\n",
       "      <td>75.0</td>\n",
       "      <td>Can Sumoi Xarel·lo</td>\n",
       "      <td>13.64</td>\n",
       "      <td>Spain</td>\n",
       "      <td>14.0</td>\n",
       "      <td>2021.0</td>\n",
       "      <td>https://www.decantalo.com/uk/en/can-sumoi-xare...</td>\n",
       "      <td>1.0</td>\n",
       "      <td>0.0</td>\n",
       "      <td>13.64</td>\n",
       "      <td>1.134814</td>\n",
       "      <td>ESP</td>\n",
       "    </tr>\n",
       "    <tr>\n",
       "      <th>4</th>\n",
       "      <td>4</td>\n",
       "      <td>4.8</td>\n",
       "      <td>6</td>\n",
       "      <td>white</td>\n",
       "      <td>75.0</td>\n",
       "      <td>Martín Codax Albariño</td>\n",
       "      <td>13.73</td>\n",
       "      <td>Spain</td>\n",
       "      <td>12.0</td>\n",
       "      <td>2021.0</td>\n",
       "      <td>https://www.decantalo.com/uk/en/martin-codax-a...</td>\n",
       "      <td>1.0</td>\n",
       "      <td>4.8</td>\n",
       "      <td>13.73</td>\n",
       "      <td>1.137671</td>\n",
       "      <td>ESP</td>\n",
       "    </tr>\n",
       "    <tr>\n",
       "      <th>...</th>\n",
       "      <td>...</td>\n",
       "      <td>...</td>\n",
       "      <td>...</td>\n",
       "      <td>...</td>\n",
       "      <td>...</td>\n",
       "      <td>...</td>\n",
       "      <td>...</td>\n",
       "      <td>...</td>\n",
       "      <td>...</td>\n",
       "      <td>...</td>\n",
       "      <td>...</td>\n",
       "      <td>...</td>\n",
       "      <td>...</td>\n",
       "      <td>...</td>\n",
       "      <td>...</td>\n",
       "      <td>...</td>\n",
       "    </tr>\n",
       "    <tr>\n",
       "      <th>7238</th>\n",
       "      <td>7254</td>\n",
       "      <td>5.0</td>\n",
       "      <td>2</td>\n",
       "      <td>vermouth</td>\n",
       "      <td>75.0</td>\n",
       "      <td>Punt E Mes Vermouth</td>\n",
       "      <td>16.82</td>\n",
       "      <td>unknown</td>\n",
       "      <td>16.0</td>\n",
       "      <td>NaN</td>\n",
       "      <td>https://www.decantalo.com/uk/en/punt-e-mes-ver...</td>\n",
       "      <td>NaN</td>\n",
       "      <td>0.0</td>\n",
       "      <td>16.82</td>\n",
       "      <td>1.225826</td>\n",
       "      <td>unknown</td>\n",
       "    </tr>\n",
       "    <tr>\n",
       "      <th>7239</th>\n",
       "      <td>7255</td>\n",
       "      <td>0.0</td>\n",
       "      <td>0</td>\n",
       "      <td>vermouth</td>\n",
       "      <td>75.0</td>\n",
       "      <td>El Bandarra blanco</td>\n",
       "      <td>14.03</td>\n",
       "      <td>Spain</td>\n",
       "      <td>15.0</td>\n",
       "      <td>NaN</td>\n",
       "      <td>https://www.decantalo.com/uk/en/el-bandarra-bl...</td>\n",
       "      <td>NaN</td>\n",
       "      <td>0.0</td>\n",
       "      <td>14.03</td>\n",
       "      <td>1.147058</td>\n",
       "      <td>ESP</td>\n",
       "    </tr>\n",
       "    <tr>\n",
       "      <th>7240</th>\n",
       "      <td>7256</td>\n",
       "      <td>5.0</td>\n",
       "      <td>1</td>\n",
       "      <td>vermouth</td>\n",
       "      <td>75.0</td>\n",
       "      <td>Vermouth Belsazar Dry</td>\n",
       "      <td>19.26</td>\n",
       "      <td>unknown</td>\n",
       "      <td>19.0</td>\n",
       "      <td>NaN</td>\n",
       "      <td>https://www.decantalo.com/uk/en/vermouth-belsa...</td>\n",
       "      <td>NaN</td>\n",
       "      <td>0.0</td>\n",
       "      <td>19.26</td>\n",
       "      <td>1.284656</td>\n",
       "      <td>unknown</td>\n",
       "    </tr>\n",
       "    <tr>\n",
       "      <th>7241</th>\n",
       "      <td>7257</td>\n",
       "      <td>5.0</td>\n",
       "      <td>2</td>\n",
       "      <td>vermouth</td>\n",
       "      <td>75.0</td>\n",
       "      <td>Vermut El Bandarra</td>\n",
       "      <td>14.03</td>\n",
       "      <td>Spain</td>\n",
       "      <td>15.0</td>\n",
       "      <td>NaN</td>\n",
       "      <td>https://www.decantalo.com/uk/en/vermut-el-band...</td>\n",
       "      <td>NaN</td>\n",
       "      <td>0.0</td>\n",
       "      <td>14.03</td>\n",
       "      <td>1.147058</td>\n",
       "      <td>ESP</td>\n",
       "    </tr>\n",
       "    <tr>\n",
       "      <th>7242</th>\n",
       "      <td>7258</td>\n",
       "      <td>0.0</td>\n",
       "      <td>0</td>\n",
       "      <td>vermouth</td>\n",
       "      <td>75.0</td>\n",
       "      <td>Vermut Les Cousins Donzell</td>\n",
       "      <td>13.60</td>\n",
       "      <td>Spain</td>\n",
       "      <td>15.5</td>\n",
       "      <td>NaN</td>\n",
       "      <td>https://www.decantalo.com/uk/en/vermut-les-cou...</td>\n",
       "      <td>NaN</td>\n",
       "      <td>0.0</td>\n",
       "      <td>13.60</td>\n",
       "      <td>1.133539</td>\n",
       "      <td>ESP</td>\n",
       "    </tr>\n",
       "  </tbody>\n",
       "</table>\n",
       "<p>7243 rows × 16 columns</p>\n",
       "</div>"
      ],
      "text/plain": [
       "      index  rating  num_review wine_type  size                        name  \\\n",
       "0         0     4.9          52     white  75.0        Enate Chardonnay 234   \n",
       "1         1     4.8          26     white  75.0       José Pariente Verdejo   \n",
       "2         2     4.8          15     white  75.0      The Flower and the Bee   \n",
       "3         3     5.0           2     white  75.0          Can Sumoi Xarel·lo   \n",
       "4         4     4.8           6     white  75.0       Martín Codax Albariño   \n",
       "...     ...     ...         ...       ...   ...                         ...   \n",
       "7238   7254     5.0           2  vermouth  75.0         Punt E Mes Vermouth   \n",
       "7239   7255     0.0           0  vermouth  75.0          El Bandarra blanco   \n",
       "7240   7256     5.0           1  vermouth  75.0       Vermouth Belsazar Dry   \n",
       "7241   7257     5.0           2  vermouth  75.0          Vermut El Bandarra   \n",
       "7242   7258     0.0           0  vermouth  75.0  Vermut Les Cousins Donzell   \n",
       "\n",
       "      price  country   abv    year  \\\n",
       "0     10.55    Spain  13.5  2021.0   \n",
       "1     11.33    Spain  13.0  2021.0   \n",
       "2     10.85    Spain  13.0  2021.0   \n",
       "3     13.64    Spain  14.0  2021.0   \n",
       "4     13.73    Spain  12.0  2021.0   \n",
       "...     ...      ...   ...     ...   \n",
       "7238  16.82  unknown  16.0     NaN   \n",
       "7239  14.03    Spain  15.0     NaN   \n",
       "7240  19.26  unknown  19.0     NaN   \n",
       "7241  14.03    Spain  15.0     NaN   \n",
       "7242  13.60    Spain  15.5     NaN   \n",
       "\n",
       "                                                    url  age  score  \\\n",
       "0     https://www.decantalo.com/uk/en/enate-chardonn...  1.0    4.9   \n",
       "1     https://www.decantalo.com/uk/en/jose-pariente-...  1.0    4.8   \n",
       "2     https://www.decantalo.com/uk/en/the-flower-and...  1.0    4.8   \n",
       "3     https://www.decantalo.com/uk/en/can-sumoi-xare...  1.0    0.0   \n",
       "4     https://www.decantalo.com/uk/en/martin-codax-a...  1.0    4.8   \n",
       "...                                                 ...  ...    ...   \n",
       "7238  https://www.decantalo.com/uk/en/punt-e-mes-ver...  NaN    0.0   \n",
       "7239  https://www.decantalo.com/uk/en/el-bandarra-bl...  NaN    0.0   \n",
       "7240  https://www.decantalo.com/uk/en/vermouth-belsa...  NaN    0.0   \n",
       "7241  https://www.decantalo.com/uk/en/vermut-el-band...  NaN    0.0   \n",
       "7242  https://www.decantalo.com/uk/en/vermut-les-cou...  NaN    0.0   \n",
       "\n",
       "      scaledprice  logprice countrycode  \n",
       "0           10.55  1.023252         ESP  \n",
       "1           11.33  1.054230         ESP  \n",
       "2           10.85  1.035430         ESP  \n",
       "3           13.64  1.134814         ESP  \n",
       "4           13.73  1.137671         ESP  \n",
       "...           ...       ...         ...  \n",
       "7238        16.82  1.225826     unknown  \n",
       "7239        14.03  1.147058         ESP  \n",
       "7240        19.26  1.284656     unknown  \n",
       "7241        14.03  1.147058         ESP  \n",
       "7242        13.60  1.133539         ESP  \n",
       "\n",
       "[7243 rows x 16 columns]"
      ]
     },
     "execution_count": 194,
     "metadata": {},
     "output_type": "execute_result"
    }
   ],
   "source": [
    "decantalo"
   ]
  },
  {
   "cell_type": "code",
   "execution_count": 195,
   "metadata": {},
   "outputs": [
    {
     "data": {
      "text/html": [
       "<div>\n",
       "<style scoped>\n",
       "    .dataframe tbody tr th:only-of-type {\n",
       "        vertical-align: middle;\n",
       "    }\n",
       "\n",
       "    .dataframe tbody tr th {\n",
       "        vertical-align: top;\n",
       "    }\n",
       "\n",
       "    .dataframe thead th {\n",
       "        text-align: right;\n",
       "    }\n",
       "</style>\n",
       "<table border=\"1\" class=\"dataframe\">\n",
       "  <thead>\n",
       "    <tr style=\"text-align: right;\">\n",
       "      <th></th>\n",
       "      <th>index</th>\n",
       "      <th>rating</th>\n",
       "      <th>num_review</th>\n",
       "      <th>wine_type</th>\n",
       "      <th>size(cL)</th>\n",
       "      <th>name</th>\n",
       "      <th>price</th>\n",
       "      <th>country</th>\n",
       "      <th>abv</th>\n",
       "      <th>year</th>\n",
       "      <th>url</th>\n",
       "      <th>age</th>\n",
       "      <th>score</th>\n",
       "      <th>scaled_price</th>\n",
       "      <th>logprice</th>\n",
       "      <th>countrycode</th>\n",
       "    </tr>\n",
       "  </thead>\n",
       "  <tbody>\n",
       "    <tr>\n",
       "      <th>0</th>\n",
       "      <td>0</td>\n",
       "      <td>4.9</td>\n",
       "      <td>52</td>\n",
       "      <td>white</td>\n",
       "      <td>75.0</td>\n",
       "      <td>Enate Chardonnay 234</td>\n",
       "      <td>10.55</td>\n",
       "      <td>Spain</td>\n",
       "      <td>13.5</td>\n",
       "      <td>2021.0</td>\n",
       "      <td>https://www.decantalo.com/uk/en/enate-chardonn...</td>\n",
       "      <td>1.0</td>\n",
       "      <td>4.9</td>\n",
       "      <td>10.55</td>\n",
       "      <td>1.023252</td>\n",
       "      <td>ESP</td>\n",
       "    </tr>\n",
       "    <tr>\n",
       "      <th>1</th>\n",
       "      <td>1</td>\n",
       "      <td>4.8</td>\n",
       "      <td>26</td>\n",
       "      <td>white</td>\n",
       "      <td>75.0</td>\n",
       "      <td>José Pariente Verdejo</td>\n",
       "      <td>11.33</td>\n",
       "      <td>Spain</td>\n",
       "      <td>13.0</td>\n",
       "      <td>2021.0</td>\n",
       "      <td>https://www.decantalo.com/uk/en/jose-pariente-...</td>\n",
       "      <td>1.0</td>\n",
       "      <td>4.8</td>\n",
       "      <td>11.33</td>\n",
       "      <td>1.054230</td>\n",
       "      <td>ESP</td>\n",
       "    </tr>\n",
       "    <tr>\n",
       "      <th>2</th>\n",
       "      <td>2</td>\n",
       "      <td>4.8</td>\n",
       "      <td>15</td>\n",
       "      <td>white</td>\n",
       "      <td>75.0</td>\n",
       "      <td>The Flower and the Bee</td>\n",
       "      <td>10.85</td>\n",
       "      <td>Spain</td>\n",
       "      <td>13.0</td>\n",
       "      <td>2021.0</td>\n",
       "      <td>https://www.decantalo.com/uk/en/the-flower-and...</td>\n",
       "      <td>1.0</td>\n",
       "      <td>4.8</td>\n",
       "      <td>10.85</td>\n",
       "      <td>1.035430</td>\n",
       "      <td>ESP</td>\n",
       "    </tr>\n",
       "    <tr>\n",
       "      <th>3</th>\n",
       "      <td>3</td>\n",
       "      <td>5.0</td>\n",
       "      <td>2</td>\n",
       "      <td>white</td>\n",
       "      <td>75.0</td>\n",
       "      <td>Can Sumoi Xarel·lo</td>\n",
       "      <td>13.64</td>\n",
       "      <td>Spain</td>\n",
       "      <td>14.0</td>\n",
       "      <td>2021.0</td>\n",
       "      <td>https://www.decantalo.com/uk/en/can-sumoi-xare...</td>\n",
       "      <td>1.0</td>\n",
       "      <td>0.0</td>\n",
       "      <td>13.64</td>\n",
       "      <td>1.134814</td>\n",
       "      <td>ESP</td>\n",
       "    </tr>\n",
       "    <tr>\n",
       "      <th>4</th>\n",
       "      <td>4</td>\n",
       "      <td>4.8</td>\n",
       "      <td>6</td>\n",
       "      <td>white</td>\n",
       "      <td>75.0</td>\n",
       "      <td>Martín Codax Albariño</td>\n",
       "      <td>13.73</td>\n",
       "      <td>Spain</td>\n",
       "      <td>12.0</td>\n",
       "      <td>2021.0</td>\n",
       "      <td>https://www.decantalo.com/uk/en/martin-codax-a...</td>\n",
       "      <td>1.0</td>\n",
       "      <td>4.8</td>\n",
       "      <td>13.73</td>\n",
       "      <td>1.137671</td>\n",
       "      <td>ESP</td>\n",
       "    </tr>\n",
       "    <tr>\n",
       "      <th>...</th>\n",
       "      <td>...</td>\n",
       "      <td>...</td>\n",
       "      <td>...</td>\n",
       "      <td>...</td>\n",
       "      <td>...</td>\n",
       "      <td>...</td>\n",
       "      <td>...</td>\n",
       "      <td>...</td>\n",
       "      <td>...</td>\n",
       "      <td>...</td>\n",
       "      <td>...</td>\n",
       "      <td>...</td>\n",
       "      <td>...</td>\n",
       "      <td>...</td>\n",
       "      <td>...</td>\n",
       "      <td>...</td>\n",
       "    </tr>\n",
       "    <tr>\n",
       "      <th>7238</th>\n",
       "      <td>7254</td>\n",
       "      <td>5.0</td>\n",
       "      <td>2</td>\n",
       "      <td>vermouth</td>\n",
       "      <td>75.0</td>\n",
       "      <td>Punt E Mes Vermouth</td>\n",
       "      <td>16.82</td>\n",
       "      <td>unknown</td>\n",
       "      <td>16.0</td>\n",
       "      <td>NaN</td>\n",
       "      <td>https://www.decantalo.com/uk/en/punt-e-mes-ver...</td>\n",
       "      <td>NaN</td>\n",
       "      <td>0.0</td>\n",
       "      <td>16.82</td>\n",
       "      <td>1.225826</td>\n",
       "      <td>unknown</td>\n",
       "    </tr>\n",
       "    <tr>\n",
       "      <th>7239</th>\n",
       "      <td>7255</td>\n",
       "      <td>0.0</td>\n",
       "      <td>0</td>\n",
       "      <td>vermouth</td>\n",
       "      <td>75.0</td>\n",
       "      <td>El Bandarra blanco</td>\n",
       "      <td>14.03</td>\n",
       "      <td>Spain</td>\n",
       "      <td>15.0</td>\n",
       "      <td>NaN</td>\n",
       "      <td>https://www.decantalo.com/uk/en/el-bandarra-bl...</td>\n",
       "      <td>NaN</td>\n",
       "      <td>0.0</td>\n",
       "      <td>14.03</td>\n",
       "      <td>1.147058</td>\n",
       "      <td>ESP</td>\n",
       "    </tr>\n",
       "    <tr>\n",
       "      <th>7240</th>\n",
       "      <td>7256</td>\n",
       "      <td>5.0</td>\n",
       "      <td>1</td>\n",
       "      <td>vermouth</td>\n",
       "      <td>75.0</td>\n",
       "      <td>Vermouth Belsazar Dry</td>\n",
       "      <td>19.26</td>\n",
       "      <td>unknown</td>\n",
       "      <td>19.0</td>\n",
       "      <td>NaN</td>\n",
       "      <td>https://www.decantalo.com/uk/en/vermouth-belsa...</td>\n",
       "      <td>NaN</td>\n",
       "      <td>0.0</td>\n",
       "      <td>19.26</td>\n",
       "      <td>1.284656</td>\n",
       "      <td>unknown</td>\n",
       "    </tr>\n",
       "    <tr>\n",
       "      <th>7241</th>\n",
       "      <td>7257</td>\n",
       "      <td>5.0</td>\n",
       "      <td>2</td>\n",
       "      <td>vermouth</td>\n",
       "      <td>75.0</td>\n",
       "      <td>Vermut El Bandarra</td>\n",
       "      <td>14.03</td>\n",
       "      <td>Spain</td>\n",
       "      <td>15.0</td>\n",
       "      <td>NaN</td>\n",
       "      <td>https://www.decantalo.com/uk/en/vermut-el-band...</td>\n",
       "      <td>NaN</td>\n",
       "      <td>0.0</td>\n",
       "      <td>14.03</td>\n",
       "      <td>1.147058</td>\n",
       "      <td>ESP</td>\n",
       "    </tr>\n",
       "    <tr>\n",
       "      <th>7242</th>\n",
       "      <td>7258</td>\n",
       "      <td>0.0</td>\n",
       "      <td>0</td>\n",
       "      <td>vermouth</td>\n",
       "      <td>75.0</td>\n",
       "      <td>Vermut Les Cousins Donzell</td>\n",
       "      <td>13.60</td>\n",
       "      <td>Spain</td>\n",
       "      <td>15.5</td>\n",
       "      <td>NaN</td>\n",
       "      <td>https://www.decantalo.com/uk/en/vermut-les-cou...</td>\n",
       "      <td>NaN</td>\n",
       "      <td>0.0</td>\n",
       "      <td>13.60</td>\n",
       "      <td>1.133539</td>\n",
       "      <td>ESP</td>\n",
       "    </tr>\n",
       "  </tbody>\n",
       "</table>\n",
       "<p>7243 rows × 16 columns</p>\n",
       "</div>"
      ],
      "text/plain": [
       "      index  rating  num_review wine_type  size(cL)  \\\n",
       "0         0     4.9          52     white      75.0   \n",
       "1         1     4.8          26     white      75.0   \n",
       "2         2     4.8          15     white      75.0   \n",
       "3         3     5.0           2     white      75.0   \n",
       "4         4     4.8           6     white      75.0   \n",
       "...     ...     ...         ...       ...       ...   \n",
       "7238   7254     5.0           2  vermouth      75.0   \n",
       "7239   7255     0.0           0  vermouth      75.0   \n",
       "7240   7256     5.0           1  vermouth      75.0   \n",
       "7241   7257     5.0           2  vermouth      75.0   \n",
       "7242   7258     0.0           0  vermouth      75.0   \n",
       "\n",
       "                            name  price  country   abv    year  \\\n",
       "0           Enate Chardonnay 234  10.55    Spain  13.5  2021.0   \n",
       "1          José Pariente Verdejo  11.33    Spain  13.0  2021.0   \n",
       "2         The Flower and the Bee  10.85    Spain  13.0  2021.0   \n",
       "3             Can Sumoi Xarel·lo  13.64    Spain  14.0  2021.0   \n",
       "4          Martín Codax Albariño  13.73    Spain  12.0  2021.0   \n",
       "...                          ...    ...      ...   ...     ...   \n",
       "7238         Punt E Mes Vermouth  16.82  unknown  16.0     NaN   \n",
       "7239          El Bandarra blanco  14.03    Spain  15.0     NaN   \n",
       "7240       Vermouth Belsazar Dry  19.26  unknown  19.0     NaN   \n",
       "7241          Vermut El Bandarra  14.03    Spain  15.0     NaN   \n",
       "7242  Vermut Les Cousins Donzell  13.60    Spain  15.5     NaN   \n",
       "\n",
       "                                                    url  age  score  \\\n",
       "0     https://www.decantalo.com/uk/en/enate-chardonn...  1.0    4.9   \n",
       "1     https://www.decantalo.com/uk/en/jose-pariente-...  1.0    4.8   \n",
       "2     https://www.decantalo.com/uk/en/the-flower-and...  1.0    4.8   \n",
       "3     https://www.decantalo.com/uk/en/can-sumoi-xare...  1.0    0.0   \n",
       "4     https://www.decantalo.com/uk/en/martin-codax-a...  1.0    4.8   \n",
       "...                                                 ...  ...    ...   \n",
       "7238  https://www.decantalo.com/uk/en/punt-e-mes-ver...  NaN    0.0   \n",
       "7239  https://www.decantalo.com/uk/en/el-bandarra-bl...  NaN    0.0   \n",
       "7240  https://www.decantalo.com/uk/en/vermouth-belsa...  NaN    0.0   \n",
       "7241  https://www.decantalo.com/uk/en/vermut-el-band...  NaN    0.0   \n",
       "7242  https://www.decantalo.com/uk/en/vermut-les-cou...  NaN    0.0   \n",
       "\n",
       "      scaled_price  logprice countrycode  \n",
       "0            10.55  1.023252         ESP  \n",
       "1            11.33  1.054230         ESP  \n",
       "2            10.85  1.035430         ESP  \n",
       "3            13.64  1.134814         ESP  \n",
       "4            13.73  1.137671         ESP  \n",
       "...            ...       ...         ...  \n",
       "7238         16.82  1.225826     unknown  \n",
       "7239         14.03  1.147058         ESP  \n",
       "7240         19.26  1.284656     unknown  \n",
       "7241         14.03  1.147058         ESP  \n",
       "7242         13.60  1.133539         ESP  \n",
       "\n",
       "[7243 rows x 16 columns]"
      ]
     },
     "execution_count": 195,
     "metadata": {},
     "output_type": "execute_result"
    }
   ],
   "source": [
    "# Rename the column name for convenience\n",
    "decantalo.rename(columns={\"size\" : \"size(cL)\", \"scaledprice\" : \"scaled_price\" }, inplace=True)\n",
    "decantalo"
   ]
  },
  {
   "cell_type": "code",
   "execution_count": 196,
   "metadata": {},
   "outputs": [
    {
     "name": "stdout",
     "output_type": "stream",
     "text": [
      "<class 'pandas.core.frame.DataFrame'>\n",
      "RangeIndex: 7243 entries, 0 to 7242\n",
      "Data columns (total 16 columns):\n",
      " #   Column        Non-Null Count  Dtype  \n",
      "---  ------        --------------  -----  \n",
      " 0   index         7243 non-null   int64  \n",
      " 1   rating        7243 non-null   float64\n",
      " 2   num_review    7243 non-null   int64  \n",
      " 3   wine_type     7243 non-null   object \n",
      " 4   size(cL)      7243 non-null   float64\n",
      " 5   name          7243 non-null   object \n",
      " 6   price         5819 non-null   float64\n",
      " 7   country       7243 non-null   object \n",
      " 8   abv           7243 non-null   float64\n",
      " 9   year          6855 non-null   float64\n",
      " 10  url           7243 non-null   object \n",
      " 11  age           6855 non-null   float64\n",
      " 12  score         7243 non-null   float64\n",
      " 13  scaled_price  5819 non-null   float64\n",
      " 14  logprice      5819 non-null   float64\n",
      " 15  countrycode   7243 non-null   object \n",
      "dtypes: float64(9), int64(2), object(5)\n",
      "memory usage: 905.5+ KB\n"
     ]
    }
   ],
   "source": [
    "decantalo.info()"
   ]
  },
  {
   "cell_type": "code",
   "execution_count": 197,
   "metadata": {},
   "outputs": [
    {
     "data": {
      "text/html": [
       "<div>\n",
       "<style scoped>\n",
       "    .dataframe tbody tr th:only-of-type {\n",
       "        vertical-align: middle;\n",
       "    }\n",
       "\n",
       "    .dataframe tbody tr th {\n",
       "        vertical-align: top;\n",
       "    }\n",
       "\n",
       "    .dataframe thead th {\n",
       "        text-align: right;\n",
       "    }\n",
       "</style>\n",
       "<table border=\"1\" class=\"dataframe\">\n",
       "  <thead>\n",
       "    <tr style=\"text-align: right;\">\n",
       "      <th></th>\n",
       "      <th>name</th>\n",
       "      <th>country</th>\n",
       "      <th>wine_type</th>\n",
       "      <th>year</th>\n",
       "      <th>scaled_price</th>\n",
       "      <th>score</th>\n",
       "      <th>num_review</th>\n",
       "      <th>abv</th>\n",
       "      <th>age</th>\n",
       "      <th>size(cL)</th>\n",
       "      <th>logprice</th>\n",
       "    </tr>\n",
       "  </thead>\n",
       "  <tbody>\n",
       "    <tr>\n",
       "      <th>0</th>\n",
       "      <td>Enate Chardonnay 234</td>\n",
       "      <td>Spain</td>\n",
       "      <td>white</td>\n",
       "      <td>2021.0</td>\n",
       "      <td>10.55</td>\n",
       "      <td>4.9</td>\n",
       "      <td>52</td>\n",
       "      <td>13.5</td>\n",
       "      <td>1.0</td>\n",
       "      <td>75.0</td>\n",
       "      <td>1.023252</td>\n",
       "    </tr>\n",
       "    <tr>\n",
       "      <th>1</th>\n",
       "      <td>José Pariente Verdejo</td>\n",
       "      <td>Spain</td>\n",
       "      <td>white</td>\n",
       "      <td>2021.0</td>\n",
       "      <td>11.33</td>\n",
       "      <td>4.8</td>\n",
       "      <td>26</td>\n",
       "      <td>13.0</td>\n",
       "      <td>1.0</td>\n",
       "      <td>75.0</td>\n",
       "      <td>1.054230</td>\n",
       "    </tr>\n",
       "    <tr>\n",
       "      <th>2</th>\n",
       "      <td>The Flower and the Bee</td>\n",
       "      <td>Spain</td>\n",
       "      <td>white</td>\n",
       "      <td>2021.0</td>\n",
       "      <td>10.85</td>\n",
       "      <td>4.8</td>\n",
       "      <td>15</td>\n",
       "      <td>13.0</td>\n",
       "      <td>1.0</td>\n",
       "      <td>75.0</td>\n",
       "      <td>1.035430</td>\n",
       "    </tr>\n",
       "    <tr>\n",
       "      <th>3</th>\n",
       "      <td>Can Sumoi Xarel·lo</td>\n",
       "      <td>Spain</td>\n",
       "      <td>white</td>\n",
       "      <td>2021.0</td>\n",
       "      <td>13.64</td>\n",
       "      <td>0.0</td>\n",
       "      <td>2</td>\n",
       "      <td>14.0</td>\n",
       "      <td>1.0</td>\n",
       "      <td>75.0</td>\n",
       "      <td>1.134814</td>\n",
       "    </tr>\n",
       "    <tr>\n",
       "      <th>4</th>\n",
       "      <td>Martín Codax Albariño</td>\n",
       "      <td>Spain</td>\n",
       "      <td>white</td>\n",
       "      <td>2021.0</td>\n",
       "      <td>13.73</td>\n",
       "      <td>4.8</td>\n",
       "      <td>6</td>\n",
       "      <td>12.0</td>\n",
       "      <td>1.0</td>\n",
       "      <td>75.0</td>\n",
       "      <td>1.137671</td>\n",
       "    </tr>\n",
       "  </tbody>\n",
       "</table>\n",
       "</div>"
      ],
      "text/plain": [
       "                     name country wine_type    year  scaled_price  score  \\\n",
       "0    Enate Chardonnay 234   Spain     white  2021.0         10.55    4.9   \n",
       "1   José Pariente Verdejo   Spain     white  2021.0         11.33    4.8   \n",
       "2  The Flower and the Bee   Spain     white  2021.0         10.85    4.8   \n",
       "3      Can Sumoi Xarel·lo   Spain     white  2021.0         13.64    0.0   \n",
       "4   Martín Codax Albariño   Spain     white  2021.0         13.73    4.8   \n",
       "\n",
       "   num_review   abv  age  size(cL)  logprice  \n",
       "0          52  13.5  1.0      75.0  1.023252  \n",
       "1          26  13.0  1.0      75.0  1.054230  \n",
       "2          15  13.0  1.0      75.0  1.035430  \n",
       "3           2  14.0  1.0      75.0  1.134814  \n",
       "4           6  12.0  1.0      75.0  1.137671  "
      ]
     },
     "execution_count": 197,
     "metadata": {},
     "output_type": "execute_result"
    }
   ],
   "source": [
    "Decantlo = decantalo[[\"name\",\"country\",\"wine_type\", \"year\", \"scaled_price\", \"score\", \"num_review\",\"abv\", \"age\", \"size(cL)\", \"logprice\" ]]\n",
    "Decantlo.head()"
   ]
  },
  {
   "cell_type": "code",
   "execution_count": 198,
   "metadata": {},
   "outputs": [],
   "source": [
    "Decantlo.to_csv(\"clean_Decantlo.csv\")"
   ]
  }
 ],
 "metadata": {
  "kernelspec": {
   "display_name": "Python 3.9.12 ('base')",
   "language": "python",
   "name": "python3"
  },
  "language_info": {
   "codemirror_mode": {
    "name": "ipython",
    "version": 3
   },
   "file_extension": ".py",
   "mimetype": "text/x-python",
   "name": "python",
   "nbconvert_exporter": "python",
   "pygments_lexer": "ipython3",
   "version": "3.9.12"
  },
  "orig_nbformat": 4,
  "vscode": {
   "interpreter": {
    "hash": "c4810e5ef94893f62232b82c9378d42b66028c68d0e31ef36649990c07969913"
   }
  }
 },
 "nbformat": 4,
 "nbformat_minor": 2
}
