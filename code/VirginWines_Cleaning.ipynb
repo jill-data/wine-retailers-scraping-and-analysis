{
 "cells": [
  {
   "cell_type": "code",
   "execution_count": 253,
   "metadata": {},
   "outputs": [],
   "source": [
    "#import packages\n",
    "import pandas as pd\n",
    "import numpy as np\n",
    "import matplotlib.pyplot as plt\n",
    "import seaborn as sns\n",
    "from sklearn.impute import SimpleImputer"
   ]
  },
  {
   "cell_type": "code",
   "execution_count": 254,
   "metadata": {},
   "outputs": [
    {
     "data": {
      "text/html": [
       "<div>\n",
       "<style scoped>\n",
       "    .dataframe tbody tr th:only-of-type {\n",
       "        vertical-align: middle;\n",
       "    }\n",
       "\n",
       "    .dataframe tbody tr th {\n",
       "        vertical-align: top;\n",
       "    }\n",
       "\n",
       "    .dataframe thead th {\n",
       "        text-align: right;\n",
       "    }\n",
       "</style>\n",
       "<table border=\"1\" class=\"dataframe\">\n",
       "  <thead>\n",
       "    <tr style=\"text-align: right;\">\n",
       "      <th></th>\n",
       "      <th>name</th>\n",
       "      <th>year</th>\n",
       "      <th>abv</th>\n",
       "      <th>size</th>\n",
       "      <th>grape type</th>\n",
       "      <th>country</th>\n",
       "      <th>wine_type</th>\n",
       "      <th>style</th>\n",
       "      <th>at its best</th>\n",
       "      <th>wine maker</th>\n",
       "      <th>price per bottle</th>\n",
       "      <th>num_review</th>\n",
       "      <th>rating</th>\n",
       "      <th>url</th>\n",
       "    </tr>\n",
       "  </thead>\n",
       "  <tbody>\n",
       "    <tr>\n",
       "      <th>0</th>\n",
       "      <td>Modernist Pinot Noir 2020</td>\n",
       "      <td>2020</td>\n",
       "      <td>12.50%</td>\n",
       "      <td>75cl</td>\n",
       "      <td>Pinot Noir</td>\n",
       "      <td>Germany</td>\n",
       "      <td>Red</td>\n",
       "      <td>Light Reds</td>\n",
       "      <td>Now - End 2024</td>\n",
       "      <td>Dirk Roth</td>\n",
       "      <td>11.99</td>\n",
       "      <td>234</td>\n",
       "      <td>3.7 out of 5 stars from 234 customers</td>\n",
       "      <td>https://www.virginwines.co.uk/wine/Z3955810263...</td>\n",
       "    </tr>\n",
       "    <tr>\n",
       "      <th>1</th>\n",
       "      <td>Brio Pinot Grigio 2021</td>\n",
       "      <td>2021</td>\n",
       "      <td>12.50%</td>\n",
       "      <td>75cl</td>\n",
       "      <td>Pinot Grigio</td>\n",
       "      <td>Italy</td>\n",
       "      <td>White</td>\n",
       "      <td>Fruity Whites</td>\n",
       "      <td>Now - End 2024</td>\n",
       "      <td>Ivano Emiliani</td>\n",
       "      <td>10.99</td>\n",
       "      <td>9</td>\n",
       "      <td>4.4 out of 5 stars from 9 customers</td>\n",
       "      <td>https://www.virginwines.co.uk/wine/Z4194810141...</td>\n",
       "    </tr>\n",
       "    <tr>\n",
       "      <th>2</th>\n",
       "      <td>Ripper Shiraz 2021</td>\n",
       "      <td>2021</td>\n",
       "      <td>14.00%</td>\n",
       "      <td>75cl</td>\n",
       "      <td>Shiraz / Syrah</td>\n",
       "      <td>Australia</td>\n",
       "      <td>Red</td>\n",
       "      <td>Full Bodied Reds</td>\n",
       "      <td>Now - End 2024</td>\n",
       "      <td>David King</td>\n",
       "      <td>10.99</td>\n",
       "      <td>1138</td>\n",
       "      <td>4.3 out of 5 stars from 1138 customers</td>\n",
       "      <td>https://www.virginwines.co.uk/wine/Z4040910141...</td>\n",
       "    </tr>\n",
       "    <tr>\n",
       "      <th>3</th>\n",
       "      <td>Senti Prosecco Extra Dry NV</td>\n",
       "      <td>NV</td>\n",
       "      <td>11.00%</td>\n",
       "      <td>75cl</td>\n",
       "      <td>Prosecco (Glera)</td>\n",
       "      <td>Italy</td>\n",
       "      <td>Sparkling</td>\n",
       "      <td>Prosecco</td>\n",
       "      <td>Within 1 year of purchase</td>\n",
       "      <td>Umberto Menini</td>\n",
       "      <td>12.99</td>\n",
       "      <td>3167</td>\n",
       "      <td>4.3 out of 5 stars from 3167 customers</td>\n",
       "      <td>https://www.virginwines.co.uk/wine/Z3725610246...</td>\n",
       "    </tr>\n",
       "    <tr>\n",
       "      <th>4</th>\n",
       "      <td>Billy Bosch Highwire Chenin Blanc 2021</td>\n",
       "      <td>2021</td>\n",
       "      <td>12.00%</td>\n",
       "      <td>75cl</td>\n",
       "      <td>Chenin Blanc</td>\n",
       "      <td>South Africa</td>\n",
       "      <td>White</td>\n",
       "      <td>Dry and Crisp Whites</td>\n",
       "      <td>Now - End 2024</td>\n",
       "      <td>Willie Stofberg</td>\n",
       "      <td>10.99</td>\n",
       "      <td>1096</td>\n",
       "      <td>4.2 out of 5 stars from 1096 customers</td>\n",
       "      <td>https://www.virginwines.co.uk/wine/Z3964010141...</td>\n",
       "    </tr>\n",
       "  </tbody>\n",
       "</table>\n",
       "</div>"
      ],
      "text/plain": [
       "                                     name  year     abv  size  \\\n",
       "0               Modernist Pinot Noir 2020  2020  12.50%  75cl   \n",
       "1                  Brio Pinot Grigio 2021  2021  12.50%  75cl   \n",
       "2                      Ripper Shiraz 2021  2021  14.00%  75cl   \n",
       "3             Senti Prosecco Extra Dry NV    NV  11.00%  75cl   \n",
       "4  Billy Bosch Highwire Chenin Blanc 2021  2021  12.00%  75cl   \n",
       "\n",
       "         grape type       country  wine_type                 style  \\\n",
       "0        Pinot Noir       Germany        Red            Light Reds   \n",
       "1      Pinot Grigio         Italy      White         Fruity Whites   \n",
       "2    Shiraz / Syrah     Australia        Red      Full Bodied Reds   \n",
       "3  Prosecco (Glera)         Italy  Sparkling              Prosecco   \n",
       "4      Chenin Blanc  South Africa      White  Dry and Crisp Whites   \n",
       "\n",
       "                 at its best       wine maker  price per bottle  num_review  \\\n",
       "0             Now - End 2024        Dirk Roth             11.99         234   \n",
       "1             Now - End 2024   Ivano Emiliani             10.99           9   \n",
       "2             Now - End 2024       David King             10.99        1138   \n",
       "3  Within 1 year of purchase   Umberto Menini             12.99        3167   \n",
       "4             Now - End 2024  Willie Stofberg             10.99        1096   \n",
       "\n",
       "                                   rating  \\\n",
       "0   3.7 out of 5 stars from 234 customers   \n",
       "1     4.4 out of 5 stars from 9 customers   \n",
       "2  4.3 out of 5 stars from 1138 customers   \n",
       "3  4.3 out of 5 stars from 3167 customers   \n",
       "4  4.2 out of 5 stars from 1096 customers   \n",
       "\n",
       "                                                 url  \n",
       "0  https://www.virginwines.co.uk/wine/Z3955810263...  \n",
       "1  https://www.virginwines.co.uk/wine/Z4194810141...  \n",
       "2  https://www.virginwines.co.uk/wine/Z4040910141...  \n",
       "3  https://www.virginwines.co.uk/wine/Z3725610246...  \n",
       "4  https://www.virginwines.co.uk/wine/Z3964010141...  "
      ]
     },
     "execution_count": 254,
     "metadata": {},
     "output_type": "execute_result"
    }
   ],
   "source": [
    "#import packages\n",
    "path = \"virginwines_listings.csv\"\n",
    "virgin = pd.read_csv(path, sep = \",\")\n",
    "virgin.head()"
   ]
  },
  {
   "cell_type": "code",
   "execution_count": 255,
   "metadata": {},
   "outputs": [
    {
     "name": "stdout",
     "output_type": "stream",
     "text": [
      "<class 'pandas.core.frame.DataFrame'>\n",
      "RangeIndex: 699 entries, 0 to 698\n",
      "Data columns (total 14 columns):\n",
      " #   Column            Non-Null Count  Dtype  \n",
      "---  ------            --------------  -----  \n",
      " 0   name              699 non-null    object \n",
      " 1   year              699 non-null    object \n",
      " 2   abv               699 non-null    object \n",
      " 3   size              699 non-null    object \n",
      " 4   grape type        699 non-null    object \n",
      " 5   country           699 non-null    object \n",
      " 6   wine_type         699 non-null    object \n",
      " 7   style             698 non-null    object \n",
      " 8   at its best       699 non-null    object \n",
      " 9   wine maker        690 non-null    object \n",
      " 10  price per bottle  699 non-null    float64\n",
      " 11  num_review        699 non-null    int64  \n",
      " 12  rating            699 non-null    object \n",
      " 13  url               699 non-null    object \n",
      "dtypes: float64(1), int64(1), object(12)\n",
      "memory usage: 76.6+ KB\n"
     ]
    }
   ],
   "source": [
    "virgin.info()"
   ]
  },
  {
   "cell_type": "code",
   "execution_count": 256,
   "metadata": {},
   "outputs": [
    {
     "data": {
      "text/plain": [
       "array(['2020', '2021', 'Non Vintage', '2019', '2018', '2016', '2014',\n",
       "       '2022', '2015', '2017', '2001', '2010', '2012', '2013', '2004',\n",
       "       '2009'], dtype=object)"
      ]
     },
     "execution_count": 256,
     "metadata": {},
     "output_type": "execute_result"
    }
   ],
   "source": [
    "virgin['year'] = virgin['year'].str.replace(\"NV\",\"Non Vintage\")\n",
    "virgin['year'].unique()"
   ]
  },
  {
   "cell_type": "code",
   "execution_count": 257,
   "metadata": {},
   "outputs": [
    {
     "data": {
      "text/plain": [
       "array([12.5, 14. , 11. , 12. , 13.5, 13. , 15.5,  9.5, 15. , 14.5, 10.5,\n",
       "       11.5,  0. ,  7. ,  7.5,  8. , 20.5, 18.5,  0.1,  0.5, 20. , 17.5,\n",
       "        9. ,  5. , 16.5, 10. , 16. , 19. , 19.5])"
      ]
     },
     "execution_count": 257,
     "metadata": {},
     "output_type": "execute_result"
    }
   ],
   "source": [
    "virgin['abv'] = virgin[\"abv\"].apply(lambda x: x[0:-1])\n",
    "virgin[\"abv\"] = virgin[\"abv\"].apply(pd.to_numeric, errors = \"coerce\")\n",
    "virgin['abv'].unique()"
   ]
  },
  {
   "cell_type": "code",
   "execution_count": 258,
   "metadata": {},
   "outputs": [
    {
     "name": "stderr",
     "output_type": "stream",
     "text": [
      "C:\\Users\\aparn\\AppData\\Local\\Temp\\ipykernel_15860\\1874331495.py:1: FutureWarning: The default value of regex will change from True to False in a future version.\n",
      "  virgin['size'] = virgin['size'].str.replace(\"Magnum1.5L\",'150cl')\n"
     ]
    },
    {
     "data": {
      "text/plain": [
       "array([ 75. ,  37.5,  50. , 150. ])"
      ]
     },
     "execution_count": 258,
     "metadata": {},
     "output_type": "execute_result"
    }
   ],
   "source": [
    "virgin['size'] = virgin['size'].str.replace(\"Magnum1.5L\",'150cl')\n",
    "virgin['size'] = virgin['size'].apply(lambda x: x[0:-2])\n",
    "virgin['size'] = virgin['size'].apply(pd.to_numeric, errors = \"coerce\")\n",
    "virgin['size'].unique()"
   ]
  },
  {
   "cell_type": "code",
   "execution_count": 259,
   "metadata": {},
   "outputs": [
    {
     "data": {
      "text/plain": [
       "array(['Germany', 'Italy', 'Australia', 'South Africa', 'France', 'Chile',\n",
       "       'New Zealand', 'Spain', 'USA', 'Austria', 'Portugal',\n",
       "       'United Kingdom', 'Lebanon', 'Hungary', 'Greece', 'Argentina',\n",
       "       'Romania', 'Canada', 'Turkey'], dtype=object)"
      ]
     },
     "execution_count": 259,
     "metadata": {},
     "output_type": "execute_result"
    }
   ],
   "source": [
    "virgin['country'] = virgin['country'].str.replace(\"England\",\"United Kingdom\")\n",
    "virgin['country'].unique()"
   ]
  },
  {
   "cell_type": "code",
   "execution_count": 260,
   "metadata": {},
   "outputs": [
    {
     "data": {
      "text/plain": [
       "array(['Red', 'White', 'Sparkling', 'Rose', 'Low / Alcohol Free Wines',\n",
       "       'Sherry', 'Fortified'], dtype=object)"
      ]
     },
     "execution_count": 260,
     "metadata": {},
     "output_type": "execute_result"
    }
   ],
   "source": [
    "#drop the un-relevant wine types\n",
    "\n",
    "#replacing special char with alpha values\n",
    "virgin.replace(\"Rosé\", \"Rose\", inplace=True)\n",
    "\n",
    "# take note of the required ones\n",
    "selected_wines = ['Red', 'White', 'Rose', 'Sparkling', 'Fortified', 'Sherry', 'Low / Alcohol Free Wines']\n",
    "\n",
    "# use .isin() to select only those rows that have the wines from the selected list\n",
    "virgin1 = virgin[virgin['wine_type'].isin(selected_wines)]\n",
    "\n",
    "virgin1[\"wine_type\"].unique()\n"
   ]
  },
  {
   "cell_type": "code",
   "execution_count": 261,
   "metadata": {},
   "outputs": [
    {
     "name": "stdout",
     "output_type": "stream",
     "text": [
      "<class 'pandas.core.frame.DataFrame'>\n",
      "Int64Index: 686 entries, 0 to 698\n",
      "Data columns (total 14 columns):\n",
      " #   Column            Non-Null Count  Dtype  \n",
      "---  ------            --------------  -----  \n",
      " 0   name              686 non-null    object \n",
      " 1   year              686 non-null    object \n",
      " 2   abv               686 non-null    float64\n",
      " 3   size              686 non-null    float64\n",
      " 4   grape type        686 non-null    object \n",
      " 5   country           686 non-null    object \n",
      " 6   wine_type         686 non-null    object \n",
      " 7   style             685 non-null    object \n",
      " 8   at its best       686 non-null    object \n",
      " 9   wine maker        677 non-null    object \n",
      " 10  price per bottle  686 non-null    float64\n",
      " 11  num_review        686 non-null    int64  \n",
      " 12  rating            686 non-null    object \n",
      " 13  url               686 non-null    object \n",
      "dtypes: float64(3), int64(1), object(10)\n",
      "memory usage: 80.4+ KB\n"
     ]
    }
   ],
   "source": [
    "virgin = virgin1\n",
    "virgin.info()"
   ]
  },
  {
   "cell_type": "markdown",
   "metadata": {},
   "source": [
    "Plot a histogram of the `age` column of the dataset. Do the values look reasonable to you? Do the same for `salary`."
   ]
  },
  {
   "cell_type": "code",
   "execution_count": 262,
   "metadata": {},
   "outputs": [],
   "source": [
    "# rename column to price for ease of use\n",
    "virgin.rename(columns={\"price per bottle\" : \"price\"}, inplace=True)"
   ]
  },
  {
   "cell_type": "code",
   "execution_count": 263,
   "metadata": {},
   "outputs": [],
   "source": [
    "virgin['rating']= virgin.loc[:,\"rating\"].str.split('\\s+').str[0]\n",
    "virgin['rating']\n",
    "virgin['rating'] = virgin['rating'].apply(pd.to_numeric, errors = \"coerce\")"
   ]
  },
  {
   "cell_type": "code",
   "execution_count": 264,
   "metadata": {},
   "outputs": [
    {
     "name": "stdout",
     "output_type": "stream",
     "text": [
      "False\n",
      "Empty DataFrame\n",
      "Columns: [name, year, abv, size, grape type, country, wine_type, style, at its best, wine maker, price, num_review, rating, url]\n",
      "Index: []\n"
     ]
    }
   ],
   "source": [
    "dups = virgin.duplicated() #checks each row of the dataset and returns TRUE or FALSE depending on whether it is a duplicate\n",
    "print(dups.any()) #returns TRUE if there is any value in dups that is equal to TRUE\n",
    "print(virgin[dups]) #returns the problematic row"
   ]
  },
  {
   "cell_type": "code",
   "execution_count": 265,
   "metadata": {},
   "outputs": [
    {
     "name": "stdout",
     "output_type": "stream",
     "text": [
      "<class 'pandas.core.frame.DataFrame'>\n",
      "Int64Index: 686 entries, 0 to 698\n",
      "Data columns (total 14 columns):\n",
      " #   Column       Non-Null Count  Dtype  \n",
      "---  ------       --------------  -----  \n",
      " 0   name         686 non-null    object \n",
      " 1   year         686 non-null    object \n",
      " 2   abv          686 non-null    float64\n",
      " 3   size         686 non-null    float64\n",
      " 4   grape type   686 non-null    object \n",
      " 5   country      686 non-null    object \n",
      " 6   wine_type    686 non-null    object \n",
      " 7   style        685 non-null    object \n",
      " 8   at its best  686 non-null    object \n",
      " 9   wine maker   677 non-null    object \n",
      " 10  price        686 non-null    float64\n",
      " 11  num_review   686 non-null    int64  \n",
      " 12  rating       686 non-null    float64\n",
      " 13  url          686 non-null    object \n",
      "dtypes: float64(4), int64(1), object(9)\n",
      "memory usage: 80.4+ KB\n"
     ]
    }
   ],
   "source": [
    "virgin.info()"
   ]
  },
  {
   "cell_type": "markdown",
   "metadata": {},
   "source": [
    "Use the function `.unique()` to take a look at the values taken on by `education`, `years_since_promotion`, and `exit`."
   ]
  },
  {
   "cell_type": "code",
   "execution_count": 266,
   "metadata": {},
   "outputs": [
    {
     "data": {
      "text/plain": [
       "name           False\n",
       "year           False\n",
       "abv            False\n",
       "size           False\n",
       "grape type     False\n",
       "country        False\n",
       "wine_type      False\n",
       "style           True\n",
       "at its best    False\n",
       "wine maker      True\n",
       "price          False\n",
       "num_review     False\n",
       "rating         False\n",
       "url            False\n",
       "dtype: bool"
      ]
     },
     "execution_count": 266,
     "metadata": {},
     "output_type": "execute_result"
    }
   ],
   "source": [
    "virgin.isna().any()"
   ]
  },
  {
   "cell_type": "code",
   "execution_count": 267,
   "metadata": {},
   "outputs": [
    {
     "data": {
      "text/plain": [
       "name           0\n",
       "year           0\n",
       "abv            0\n",
       "size           0\n",
       "grape type     0\n",
       "country        0\n",
       "wine_type      0\n",
       "style          1\n",
       "at its best    0\n",
       "wine maker     9\n",
       "price          0\n",
       "num_review     0\n",
       "rating         0\n",
       "url            0\n",
       "dtype: int64"
      ]
     },
     "execution_count": 267,
     "metadata": {},
     "output_type": "execute_result"
    }
   ],
   "source": [
    "virgin.isna().sum()"
   ]
  },
  {
   "cell_type": "code",
   "execution_count": 268,
   "metadata": {},
   "outputs": [
    {
     "data": {
      "text/plain": [
       "name           686\n",
       "year            15\n",
       "abv             27\n",
       "size             3\n",
       "grape type      96\n",
       "country         18\n",
       "wine_type        7\n",
       "style           22\n",
       "at its best     33\n",
       "wine maker     264\n",
       "price           66\n",
       "num_review     345\n",
       "rating          28\n",
       "url            686\n",
       "dtype: int64"
      ]
     },
     "execution_count": 268,
     "metadata": {},
     "output_type": "execute_result"
    }
   ],
   "source": [
    "virgin.nunique()"
   ]
  },
  {
   "cell_type": "markdown",
   "metadata": {},
   "source": [
    "Use the function `.duplicated()` and conditioning to to detect if there are any duplicates."
   ]
  },
  {
   "cell_type": "code",
   "execution_count": 269,
   "metadata": {
    "scrolled": true
   },
   "outputs": [
    {
     "data": {
      "text/plain": [
       "array([3.7, 4.4, 4.3, 4.2, 4.6, 4.1, 4.5, 5. , 3.8, 3.9, 4. , 0. , 3.2,\n",
       "       1. , 4.8, 2.2, 4.7, 3. , 3.5, 2.5, 2.9, 2.8, 3.4, 3.1, 3.6, 2.7,\n",
       "       4.9, 2.3])"
      ]
     },
     "execution_count": 269,
     "metadata": {},
     "output_type": "execute_result"
    },
    {
     "data": {
      "image/png": "[encoded data removed]",
      "text/plain": [
       "<Figure size 720x720 with 1 Axes>"
      ]
     },
     "metadata": {},
     "output_type": "display_data"
    }
   ],
   "source": [
    "sns.set(rc={\"figure.figsize\":(10,10)})\n",
    "sns.histplot(virgin[\"rating\"])\n",
    "virgin[\"rating\"].unique()"
   ]
  },
  {
   "cell_type": "markdown",
   "metadata": {},
   "source": [
    "Use the function `.drop_duplicates(inplace=True)` to obtain a new dataset with no duplicates."
   ]
  },
  {
   "cell_type": "code",
   "execution_count": 270,
   "metadata": {},
   "outputs": [
    {
     "data": {
      "text/plain": [
       "array(['Red', 'White', 'Sparkling', 'Rose', 'Low / Alcohol Free Wines',\n",
       "       'Sherry', 'Fortified'], dtype=object)"
      ]
     },
     "execution_count": 270,
     "metadata": {},
     "output_type": "execute_result"
    },
    {
     "data": {
      "image/png": "[encoded data removed]",
      "text/plain": [
       "<Figure size 720x720 with 1 Axes>"
      ]
     },
     "metadata": {},
     "output_type": "display_data"
    }
   ],
   "source": [
    "sns.set(rc={\"figure.figsize\":(10,10)})\n",
    "sns.histplot(virgin[\"wine_type\"])\n",
    "virgin[\"wine_type\"].unique()"
   ]
  },
  {
   "cell_type": "code",
   "execution_count": 271,
   "metadata": {},
   "outputs": [
    {
     "data": {
      "text/plain": [
       "array([ 75.,  50., 150.])"
      ]
     },
     "execution_count": 271,
     "metadata": {},
     "output_type": "execute_result"
    },
    {
     "data": {
      "image/png": "[encoded data removed]",
      "text/plain": [
       "<Figure size 504x504 with 1 Axes>"
      ]
     },
     "metadata": {},
     "output_type": "display_data"
    }
   ],
   "source": [
    "# Histogram plots for size\n",
    "sns.set(rc={\"figure.figsize\":(7,7)})\n",
    "\n",
    "sns.histplot(virgin[\"size\"], kde=False, bins=5)\n",
    "virgin[\"size\"].unique()"
   ]
  },
  {
   "cell_type": "markdown",
   "metadata": {},
   "source": [
    "Drop any columns with only one value using `.drop(columns=['name1','name2'])`."
   ]
  },
  {
   "cell_type": "code",
   "execution_count": 272,
   "metadata": {},
   "outputs": [
    {
     "data": {
      "text/plain": [
       "<AxesSubplot:xlabel='abv', ylabel='Count'>"
      ]
     },
     "execution_count": 272,
     "metadata": {},
     "output_type": "execute_result"
    },
    {
     "data": {
      "image/png": "[encoded data removed]",
      "text/plain": [
       "<Figure size 504x504 with 1 Axes>"
      ]
     },
     "metadata": {},
     "output_type": "display_data"
    }
   ],
   "source": [
    "# Histogram plot of ABV\n",
    "\n",
    "sns.set(rc={\"figure.figsize\":(7,7)})\n",
    "\n",
    "sns.histplot(virgin[\"abv\"], kde=False,bins=5)"
   ]
  },
  {
   "cell_type": "code",
   "execution_count": 273,
   "metadata": {},
   "outputs": [
    {
     "data": {
      "text/plain": [
       "<AxesSubplot:xlabel='year', ylabel='Count'>"
      ]
     },
     "execution_count": 273,
     "metadata": {},
     "output_type": "execute_result"
    },
    {
     "data": {
      "image/png": "[encoded data removed]",
      "text/plain": [
       "<Figure size 720x720 with 1 Axes>"
      ]
     },
     "metadata": {},
     "output_type": "display_data"
    }
   ],
   "source": [
    "# Histogram plot of year\n",
    "\n",
    "virgin[\"year\"].isna().sum()/len(virgin[\"year\"])*100\n",
    "sns.set(rc={\"figure.figsize\":(10,10)})\n",
    "\n",
    "sns.histplot(virgin[\"year\"], bins=10)\n",
    "\n",
    "# As only 5% is missing, we will keep it as is and can use other column values for analysis "
   ]
  },
  {
   "cell_type": "code",
   "execution_count": 274,
   "metadata": {},
   "outputs": [],
   "source": [
    "virgin = virgin.reset_index()"
   ]
  },
  {
   "cell_type": "code",
   "execution_count": 275,
   "metadata": {},
   "outputs": [
    {
     "name": "stdout",
     "output_type": "stream",
     "text": [
      "<class 'pandas.core.frame.DataFrame'>\n",
      "RangeIndex: 686 entries, 0 to 685\n",
      "Data columns (total 1 columns):\n",
      " #   Column  Non-Null Count  Dtype  \n",
      "---  ------  --------------  -----  \n",
      " 0   year    612 non-null    float64\n",
      "dtypes: float64(1)\n",
      "memory usage: 5.5 KB\n"
     ]
    }
   ],
   "source": [
    "year2 = virgin[\"year\"].apply(pd.to_numeric, errors = \"coerce\")\n",
    "# Feature Engineering\n",
    "\n",
    "virgin2 = pd.DataFrame(year2)\n",
    "virgin2.info()\n",
    "virgin.loc[:, \"age\"] = 2022 - virgin2['year']"
   ]
  },
  {
   "cell_type": "code",
   "execution_count": 276,
   "metadata": {},
   "outputs": [],
   "source": [
    "\n",
    "# Creating a column with ratings >5\n",
    "for i, num in enumerate(virgin[\"num_review\"]):\n",
    "    if num > 5:\n",
    "        virgin.loc[i, \"score\"] = virgin.loc[i, \"rating\"]\n",
    "    else:\n",
    "        virgin.loc[i, \"score\"] = 0"
   ]
  },
  {
   "cell_type": "code",
   "execution_count": 277,
   "metadata": {},
   "outputs": [
    {
     "name": "stdout",
     "output_type": "stream",
     "text": [
      "<class 'pandas.core.frame.DataFrame'>\n",
      "RangeIndex: 686 entries, 0 to 685\n",
      "Data columns (total 17 columns):\n",
      " #   Column       Non-Null Count  Dtype  \n",
      "---  ------       --------------  -----  \n",
      " 0   index        686 non-null    int64  \n",
      " 1   name         686 non-null    object \n",
      " 2   year         686 non-null    object \n",
      " 3   abv          686 non-null    float64\n",
      " 4   size         686 non-null    float64\n",
      " 5   grape type   686 non-null    object \n",
      " 6   country      686 non-null    object \n",
      " 7   wine_type    686 non-null    object \n",
      " 8   style        685 non-null    object \n",
      " 9   at its best  686 non-null    object \n",
      " 10  wine maker   677 non-null    object \n",
      " 11  price        686 non-null    float64\n",
      " 12  num_review   686 non-null    int64  \n",
      " 13  rating       686 non-null    float64\n",
      " 14  url          686 non-null    object \n",
      " 15  age          612 non-null    float64\n",
      " 16  score        686 non-null    float64\n",
      "dtypes: float64(6), int64(2), object(9)\n",
      "memory usage: 91.2+ KB\n"
     ]
    }
   ],
   "source": [
    "virgin.info()"
   ]
  },
  {
   "cell_type": "code",
   "execution_count": 278,
   "metadata": {},
   "outputs": [],
   "source": [
    "# Impute size to most frequent value\n",
    "\n",
    "impute = SimpleImputer(missing_values=np.nan, strategy=\"most_frequent\")\n",
    "virgin[[\"size\"]]=impute.fit_transform(virgin[[\"size\"]])\n",
    "\n",
    "\n",
    "# To scale size\n",
    "for i, size in enumerate(virgin[\"size\"]):\n",
    "    virgin.loc[i, \"scaledprice\"] = virgin.loc[i, \"price\"] * 75 / size\n",
    "\n",
    "virgin.loc[virgin[\"size\"] != 75, [\"size\", \"price\", \"scaledprice\"]]\n",
    "\n",
    "# Creating a new column log price as it is skewed\n",
    "virgin.loc[:, \"logprice\"] = np.log10(virgin.loc[:,\"scaledprice\"])"
   ]
  },
  {
   "cell_type": "code",
   "execution_count": 279,
   "metadata": {},
   "outputs": [
    {
     "data": {
      "text/html": [
       "<div>\n",
       "<style scoped>\n",
       "    .dataframe tbody tr th:only-of-type {\n",
       "        vertical-align: middle;\n",
       "    }\n",
       "\n",
       "    .dataframe tbody tr th {\n",
       "        vertical-align: top;\n",
       "    }\n",
       "\n",
       "    .dataframe thead th {\n",
       "        text-align: right;\n",
       "    }\n",
       "</style>\n",
       "<table border=\"1\" class=\"dataframe\">\n",
       "  <thead>\n",
       "    <tr style=\"text-align: right;\">\n",
       "      <th></th>\n",
       "      <th>index</th>\n",
       "      <th>name</th>\n",
       "      <th>year</th>\n",
       "      <th>abv</th>\n",
       "      <th>size</th>\n",
       "      <th>grape type</th>\n",
       "      <th>country</th>\n",
       "      <th>wine_type</th>\n",
       "      <th>style</th>\n",
       "      <th>at its best</th>\n",
       "      <th>wine maker</th>\n",
       "      <th>price</th>\n",
       "      <th>num_review</th>\n",
       "      <th>rating</th>\n",
       "      <th>url</th>\n",
       "      <th>age</th>\n",
       "      <th>score</th>\n",
       "      <th>scaledprice</th>\n",
       "      <th>logprice</th>\n",
       "      <th>countrycode</th>\n",
       "    </tr>\n",
       "  </thead>\n",
       "  <tbody>\n",
       "    <tr>\n",
       "      <th>0</th>\n",
       "      <td>0</td>\n",
       "      <td>Modernist Pinot Noir 2020</td>\n",
       "      <td>2020</td>\n",
       "      <td>12.5</td>\n",
       "      <td>75.0</td>\n",
       "      <td>Pinot Noir</td>\n",
       "      <td>Germany</td>\n",
       "      <td>Red</td>\n",
       "      <td>Light Reds</td>\n",
       "      <td>Now - End 2024</td>\n",
       "      <td>Dirk Roth</td>\n",
       "      <td>11.99</td>\n",
       "      <td>234</td>\n",
       "      <td>3.7</td>\n",
       "      <td>https://www.virginwines.co.uk/wine/Z3955810263...</td>\n",
       "      <td>2.0</td>\n",
       "      <td>3.7</td>\n",
       "      <td>11.99</td>\n",
       "      <td>1.078819</td>\n",
       "      <td>DEU</td>\n",
       "    </tr>\n",
       "    <tr>\n",
       "      <th>1</th>\n",
       "      <td>1</td>\n",
       "      <td>Brio Pinot Grigio 2021</td>\n",
       "      <td>2021</td>\n",
       "      <td>12.5</td>\n",
       "      <td>75.0</td>\n",
       "      <td>Pinot Grigio</td>\n",
       "      <td>Italy</td>\n",
       "      <td>White</td>\n",
       "      <td>Fruity Whites</td>\n",
       "      <td>Now - End 2024</td>\n",
       "      <td>Ivano Emiliani</td>\n",
       "      <td>10.99</td>\n",
       "      <td>9</td>\n",
       "      <td>4.4</td>\n",
       "      <td>https://www.virginwines.co.uk/wine/Z4194810141...</td>\n",
       "      <td>1.0</td>\n",
       "      <td>4.4</td>\n",
       "      <td>10.99</td>\n",
       "      <td>1.040998</td>\n",
       "      <td>ITA</td>\n",
       "    </tr>\n",
       "    <tr>\n",
       "      <th>2</th>\n",
       "      <td>2</td>\n",
       "      <td>Ripper Shiraz 2021</td>\n",
       "      <td>2021</td>\n",
       "      <td>14.0</td>\n",
       "      <td>75.0</td>\n",
       "      <td>Shiraz / Syrah</td>\n",
       "      <td>Australia</td>\n",
       "      <td>Red</td>\n",
       "      <td>Full Bodied Reds</td>\n",
       "      <td>Now - End 2024</td>\n",
       "      <td>David King</td>\n",
       "      <td>10.99</td>\n",
       "      <td>1138</td>\n",
       "      <td>4.3</td>\n",
       "      <td>https://www.virginwines.co.uk/wine/Z4040910141...</td>\n",
       "      <td>1.0</td>\n",
       "      <td>4.3</td>\n",
       "      <td>10.99</td>\n",
       "      <td>1.040998</td>\n",
       "      <td>AUS</td>\n",
       "    </tr>\n",
       "    <tr>\n",
       "      <th>3</th>\n",
       "      <td>3</td>\n",
       "      <td>Senti Prosecco Extra Dry NV</td>\n",
       "      <td>Non Vintage</td>\n",
       "      <td>11.0</td>\n",
       "      <td>75.0</td>\n",
       "      <td>Prosecco (Glera)</td>\n",
       "      <td>Italy</td>\n",
       "      <td>Sparkling</td>\n",
       "      <td>Prosecco</td>\n",
       "      <td>Within 1 year of purchase</td>\n",
       "      <td>Umberto Menini</td>\n",
       "      <td>12.99</td>\n",
       "      <td>3167</td>\n",
       "      <td>4.3</td>\n",
       "      <td>https://www.virginwines.co.uk/wine/Z3725610246...</td>\n",
       "      <td>NaN</td>\n",
       "      <td>4.3</td>\n",
       "      <td>12.99</td>\n",
       "      <td>1.113609</td>\n",
       "      <td>ITA</td>\n",
       "    </tr>\n",
       "    <tr>\n",
       "      <th>4</th>\n",
       "      <td>4</td>\n",
       "      <td>Billy Bosch Highwire Chenin Blanc 2021</td>\n",
       "      <td>2021</td>\n",
       "      <td>12.0</td>\n",
       "      <td>75.0</td>\n",
       "      <td>Chenin Blanc</td>\n",
       "      <td>South Africa</td>\n",
       "      <td>White</td>\n",
       "      <td>Dry and Crisp Whites</td>\n",
       "      <td>Now - End 2024</td>\n",
       "      <td>Willie Stofberg</td>\n",
       "      <td>10.99</td>\n",
       "      <td>1096</td>\n",
       "      <td>4.2</td>\n",
       "      <td>https://www.virginwines.co.uk/wine/Z3964010141...</td>\n",
       "      <td>1.0</td>\n",
       "      <td>4.2</td>\n",
       "      <td>10.99</td>\n",
       "      <td>1.040998</td>\n",
       "      <td>ZAF</td>\n",
       "    </tr>\n",
       "  </tbody>\n",
       "</table>\n",
       "</div>"
      ],
      "text/plain": [
       "   index                                    name         year   abv  size  \\\n",
       "0      0               Modernist Pinot Noir 2020         2020  12.5  75.0   \n",
       "1      1                  Brio Pinot Grigio 2021         2021  12.5  75.0   \n",
       "2      2                      Ripper Shiraz 2021         2021  14.0  75.0   \n",
       "3      3             Senti Prosecco Extra Dry NV  Non Vintage  11.0  75.0   \n",
       "4      4  Billy Bosch Highwire Chenin Blanc 2021         2021  12.0  75.0   \n",
       "\n",
       "         grape type       country  wine_type                 style  \\\n",
       "0        Pinot Noir       Germany        Red            Light Reds   \n",
       "1      Pinot Grigio         Italy      White         Fruity Whites   \n",
       "2    Shiraz / Syrah     Australia        Red      Full Bodied Reds   \n",
       "3  Prosecco (Glera)         Italy  Sparkling              Prosecco   \n",
       "4      Chenin Blanc  South Africa      White  Dry and Crisp Whites   \n",
       "\n",
       "                 at its best       wine maker  price  num_review  rating  \\\n",
       "0             Now - End 2024        Dirk Roth  11.99         234     3.7   \n",
       "1             Now - End 2024   Ivano Emiliani  10.99           9     4.4   \n",
       "2             Now - End 2024       David King  10.99        1138     4.3   \n",
       "3  Within 1 year of purchase   Umberto Menini  12.99        3167     4.3   \n",
       "4             Now - End 2024  Willie Stofberg  10.99        1096     4.2   \n",
       "\n",
       "                                                 url  age  score  scaledprice  \\\n",
       "0  https://www.virginwines.co.uk/wine/Z3955810263...  2.0    3.7        11.99   \n",
       "1  https://www.virginwines.co.uk/wine/Z4194810141...  1.0    4.4        10.99   \n",
       "2  https://www.virginwines.co.uk/wine/Z4040910141...  1.0    4.3        10.99   \n",
       "3  https://www.virginwines.co.uk/wine/Z3725610246...  NaN    4.3        12.99   \n",
       "4  https://www.virginwines.co.uk/wine/Z3964010141...  1.0    4.2        10.99   \n",
       "\n",
       "   logprice countrycode  \n",
       "0  1.078819         DEU  \n",
       "1  1.040998         ITA  \n",
       "2  1.040998         AUS  \n",
       "3  1.113609         ITA  \n",
       "4  1.040998         ZAF  "
      ]
     },
     "execution_count": 279,
     "metadata": {},
     "output_type": "execute_result"
    }
   ],
   "source": [
    "# creating country codes\n",
    "import pycountry\n",
    "\n",
    "# create a dict f country name and their codes \n",
    "countries = {}\n",
    "for country in pycountry.countries:\n",
    "    countries[country.name] = country.alpha_3\n",
    "\n",
    "virgin[\"countrycode\"] = [countries.get(c, \"unknown\") for c in virgin[\"country\"]]\n",
    "virgin.head()"
   ]
  },
  {
   "cell_type": "code",
   "execution_count": 280,
   "metadata": {},
   "outputs": [
    {
     "data": {
      "text/plain": [
       "<AxesSubplot:>"
      ]
     },
     "execution_count": 280,
     "metadata": {},
     "output_type": "execute_result"
    },
    {
     "data": {
      "image/png": "[encoded data removed]",
      "text/plain": [
       "<Figure size 504x504 with 1 Axes>"
      ]
     },
     "metadata": {},
     "output_type": "display_data"
    }
   ],
   "source": [
    "# price visualisation (log plot of price as the data is skewed)\n",
    "sns.set(rc={\"figure.figsize\":(7,7)})\n",
    "\n",
    "sns.boxplot(data=np.log10(virgin[\"scaledprice\"]), color= \"red\")"
   ]
  },
  {
   "cell_type": "code",
   "execution_count": 281,
   "metadata": {},
   "outputs": [
    {
     "data": {
      "text/plain": [
       "<AxesSubplot:xlabel='Count', ylabel='country'>"
      ]
     },
     "execution_count": 281,
     "metadata": {},
     "output_type": "execute_result"
    },
    {
     "data": {
      "image/png": "[encoded data removed]",
      "text/plain": [
       "<Figure size 720x720 with 1 Axes>"
      ]
     },
     "metadata": {},
     "output_type": "display_data"
    }
   ],
   "source": [
    "# Countries visualisation\n",
    "sns.set(rc={\"figure.figsize\":(10,10)})\n",
    "\n",
    "sns.histplot(data=virgin, y=\"country\", hue=\"country\")"
   ]
  },
  {
   "cell_type": "code",
   "execution_count": 282,
   "metadata": {},
   "outputs": [
    {
     "data": {
      "text/plain": [
       "<AxesSubplot:xlabel='wine_type', ylabel='num_review'>"
      ]
     },
     "execution_count": 282,
     "metadata": {},
     "output_type": "execute_result"
    },
    {
     "data": {
      "image/png": "[encoded data removed]",
      "text/plain": [
       "<Figure size 720x720 with 1 Axes>"
      ]
     },
     "metadata": {},
     "output_type": "display_data"
    }
   ],
   "source": [
    "# Countries visualisation\n",
    "\n",
    "sns.set(rc={\"figure.figsize\":(10,10)})\n",
    "\n",
    "sns.histplot(data=virgin, x = \"wine_type\", y=\"num_review\", hue=\"wine_type\")"
   ]
  },
  {
   "cell_type": "code",
   "execution_count": 283,
   "metadata": {},
   "outputs": [
    {
     "data": {
      "text/plain": [
       "<AxesSubplot:xlabel='wine_type', ylabel='logprice'>"
      ]
     },
     "execution_count": 283,
     "metadata": {},
     "output_type": "execute_result"
    },
    {
     "data": {
      "image/png": "[encoded data removed]",
      "text/plain": [
       "<Figure size 720x504 with 1 Axes>"
      ]
     },
     "metadata": {},
     "output_type": "display_data"
    }
   ],
   "source": [
    "# plot wine type vs price\n",
    "\n",
    "sns.set(rc={\"figure.figsize\":(10,7)})\n",
    "\n",
    "sns.boxplot(\n",
    "    data=virgin,\n",
    "    x=\"wine_type\", y=\"logprice\", hue=\"wine_type\"\n",
    ")"
   ]
  },
  {
   "cell_type": "code",
   "execution_count": 284,
   "metadata": {},
   "outputs": [
    {
     "data": {
      "text/plain": [
       "<seaborn.axisgrid.FacetGrid at 0x1c0d8a15f70>"
      ]
     },
     "execution_count": 284,
     "metadata": {},
     "output_type": "execute_result"
    },
    {
     "data": {
      "image/png": "[encoded data removed]",
      "text/plain": [
       "<Figure size 864x288 with 1 Axes>"
      ]
     },
     "metadata": {},
     "output_type": "display_data"
    }
   ],
   "source": [
    "# plot country vs review ratings\n",
    "\n",
    "sns.catplot(data=virgin.loc[virgin[\"countrycode\"]!=\"unknown\"], x=\"countrycode\", y=\"score\", height=4, aspect=3)"
   ]
  },
  {
   "cell_type": "code",
   "execution_count": 285,
   "metadata": {},
   "outputs": [
    {
     "data": {
      "text/plain": [
       "Text(0.5, 0, 'LogPrice')"
      ]
     },
     "execution_count": 285,
     "metadata": {},
     "output_type": "execute_result"
    },
    {
     "data": {
      "image/png": "[encoded data removed]",
      "text/plain": [
       "<Figure size 720x504 with 1 Axes>"
      ]
     },
     "metadata": {},
     "output_type": "display_data"
    }
   ],
   "source": [
    "# Plot log price vs age and rating\n",
    "\n",
    "from mpl_toolkits import mplot3d\n",
    "\n",
    "fig = plt.figure()\n",
    "ax = plt.axes(projection='3d')\n",
    "\n",
    "ax.plot3D(virgin[\"score\"], virgin[\"age\"], virgin[\"logprice\"], '.')\n",
    "ax.set_xlabel(\"Rating\")\n",
    "ax.set_ylabel(\"Age\")\n",
    "ax.set_zlabel(\"LogPrice\")"
   ]
  },
  {
   "cell_type": "code",
   "execution_count": 286,
   "metadata": {},
   "outputs": [
    {
     "data": {
      "text/html": [
       "<div>\n",
       "<style scoped>\n",
       "    .dataframe tbody tr th:only-of-type {\n",
       "        vertical-align: middle;\n",
       "    }\n",
       "\n",
       "    .dataframe tbody tr th {\n",
       "        vertical-align: top;\n",
       "    }\n",
       "\n",
       "    .dataframe thead th {\n",
       "        text-align: right;\n",
       "    }\n",
       "</style>\n",
       "<table border=\"1\" class=\"dataframe\">\n",
       "  <thead>\n",
       "    <tr style=\"text-align: right;\">\n",
       "      <th></th>\n",
       "      <th>index</th>\n",
       "      <th>name</th>\n",
       "      <th>year</th>\n",
       "      <th>abv</th>\n",
       "      <th>size</th>\n",
       "      <th>grape type</th>\n",
       "      <th>country</th>\n",
       "      <th>wine_type</th>\n",
       "      <th>style</th>\n",
       "      <th>at its best</th>\n",
       "      <th>wine maker</th>\n",
       "      <th>price</th>\n",
       "      <th>num_review</th>\n",
       "      <th>rating</th>\n",
       "      <th>url</th>\n",
       "      <th>age</th>\n",
       "      <th>score</th>\n",
       "      <th>scaledprice</th>\n",
       "      <th>logprice</th>\n",
       "      <th>countrycode</th>\n",
       "    </tr>\n",
       "  </thead>\n",
       "  <tbody>\n",
       "    <tr>\n",
       "      <th>0</th>\n",
       "      <td>0</td>\n",
       "      <td>Modernist Pinot Noir 2020</td>\n",
       "      <td>2020</td>\n",
       "      <td>12.5</td>\n",
       "      <td>75.0</td>\n",
       "      <td>Pinot Noir</td>\n",
       "      <td>Germany</td>\n",
       "      <td>Red</td>\n",
       "      <td>Light Reds</td>\n",
       "      <td>Now - End 2024</td>\n",
       "      <td>Dirk Roth</td>\n",
       "      <td>11.99</td>\n",
       "      <td>234</td>\n",
       "      <td>3.7</td>\n",
       "      <td>https://www.virginwines.co.uk/wine/Z3955810263...</td>\n",
       "      <td>2.0</td>\n",
       "      <td>3.7</td>\n",
       "      <td>11.99</td>\n",
       "      <td>1.078819</td>\n",
       "      <td>DEU</td>\n",
       "    </tr>\n",
       "    <tr>\n",
       "      <th>1</th>\n",
       "      <td>1</td>\n",
       "      <td>Brio Pinot Grigio 2021</td>\n",
       "      <td>2021</td>\n",
       "      <td>12.5</td>\n",
       "      <td>75.0</td>\n",
       "      <td>Pinot Grigio</td>\n",
       "      <td>Italy</td>\n",
       "      <td>White</td>\n",
       "      <td>Fruity Whites</td>\n",
       "      <td>Now - End 2024</td>\n",
       "      <td>Ivano Emiliani</td>\n",
       "      <td>10.99</td>\n",
       "      <td>9</td>\n",
       "      <td>4.4</td>\n",
       "      <td>https://www.virginwines.co.uk/wine/Z4194810141...</td>\n",
       "      <td>1.0</td>\n",
       "      <td>4.4</td>\n",
       "      <td>10.99</td>\n",
       "      <td>1.040998</td>\n",
       "      <td>ITA</td>\n",
       "    </tr>\n",
       "    <tr>\n",
       "      <th>2</th>\n",
       "      <td>2</td>\n",
       "      <td>Ripper Shiraz 2021</td>\n",
       "      <td>2021</td>\n",
       "      <td>14.0</td>\n",
       "      <td>75.0</td>\n",
       "      <td>Shiraz / Syrah</td>\n",
       "      <td>Australia</td>\n",
       "      <td>Red</td>\n",
       "      <td>Full Bodied Reds</td>\n",
       "      <td>Now - End 2024</td>\n",
       "      <td>David King</td>\n",
       "      <td>10.99</td>\n",
       "      <td>1138</td>\n",
       "      <td>4.3</td>\n",
       "      <td>https://www.virginwines.co.uk/wine/Z4040910141...</td>\n",
       "      <td>1.0</td>\n",
       "      <td>4.3</td>\n",
       "      <td>10.99</td>\n",
       "      <td>1.040998</td>\n",
       "      <td>AUS</td>\n",
       "    </tr>\n",
       "    <tr>\n",
       "      <th>3</th>\n",
       "      <td>3</td>\n",
       "      <td>Senti Prosecco Extra Dry NV</td>\n",
       "      <td>Non Vintage</td>\n",
       "      <td>11.0</td>\n",
       "      <td>75.0</td>\n",
       "      <td>Prosecco (Glera)</td>\n",
       "      <td>Italy</td>\n",
       "      <td>Sparkling</td>\n",
       "      <td>Prosecco</td>\n",
       "      <td>Within 1 year of purchase</td>\n",
       "      <td>Umberto Menini</td>\n",
       "      <td>12.99</td>\n",
       "      <td>3167</td>\n",
       "      <td>4.3</td>\n",
       "      <td>https://www.virginwines.co.uk/wine/Z3725610246...</td>\n",
       "      <td>NaN</td>\n",
       "      <td>4.3</td>\n",
       "      <td>12.99</td>\n",
       "      <td>1.113609</td>\n",
       "      <td>ITA</td>\n",
       "    </tr>\n",
       "    <tr>\n",
       "      <th>4</th>\n",
       "      <td>4</td>\n",
       "      <td>Billy Bosch Highwire Chenin Blanc 2021</td>\n",
       "      <td>2021</td>\n",
       "      <td>12.0</td>\n",
       "      <td>75.0</td>\n",
       "      <td>Chenin Blanc</td>\n",
       "      <td>South Africa</td>\n",
       "      <td>White</td>\n",
       "      <td>Dry and Crisp Whites</td>\n",
       "      <td>Now - End 2024</td>\n",
       "      <td>Willie Stofberg</td>\n",
       "      <td>10.99</td>\n",
       "      <td>1096</td>\n",
       "      <td>4.2</td>\n",
       "      <td>https://www.virginwines.co.uk/wine/Z3964010141...</td>\n",
       "      <td>1.0</td>\n",
       "      <td>4.2</td>\n",
       "      <td>10.99</td>\n",
       "      <td>1.040998</td>\n",
       "      <td>ZAF</td>\n",
       "    </tr>\n",
       "  </tbody>\n",
       "</table>\n",
       "</div>"
      ],
      "text/plain": [
       "   index                                    name         year   abv  size  \\\n",
       "0      0               Modernist Pinot Noir 2020         2020  12.5  75.0   \n",
       "1      1                  Brio Pinot Grigio 2021         2021  12.5  75.0   \n",
       "2      2                      Ripper Shiraz 2021         2021  14.0  75.0   \n",
       "3      3             Senti Prosecco Extra Dry NV  Non Vintage  11.0  75.0   \n",
       "4      4  Billy Bosch Highwire Chenin Blanc 2021         2021  12.0  75.0   \n",
       "\n",
       "         grape type       country  wine_type                 style  \\\n",
       "0        Pinot Noir       Germany        Red            Light Reds   \n",
       "1      Pinot Grigio         Italy      White         Fruity Whites   \n",
       "2    Shiraz / Syrah     Australia        Red      Full Bodied Reds   \n",
       "3  Prosecco (Glera)         Italy  Sparkling              Prosecco   \n",
       "4      Chenin Blanc  South Africa      White  Dry and Crisp Whites   \n",
       "\n",
       "                 at its best       wine maker  price  num_review  rating  \\\n",
       "0             Now - End 2024        Dirk Roth  11.99         234     3.7   \n",
       "1             Now - End 2024   Ivano Emiliani  10.99           9     4.4   \n",
       "2             Now - End 2024       David King  10.99        1138     4.3   \n",
       "3  Within 1 year of purchase   Umberto Menini  12.99        3167     4.3   \n",
       "4             Now - End 2024  Willie Stofberg  10.99        1096     4.2   \n",
       "\n",
       "                                                 url  age  score  scaledprice  \\\n",
       "0  https://www.virginwines.co.uk/wine/Z3955810263...  2.0    3.7        11.99   \n",
       "1  https://www.virginwines.co.uk/wine/Z4194810141...  1.0    4.4        10.99   \n",
       "2  https://www.virginwines.co.uk/wine/Z4040910141...  1.0    4.3        10.99   \n",
       "3  https://www.virginwines.co.uk/wine/Z3725610246...  NaN    4.3        12.99   \n",
       "4  https://www.virginwines.co.uk/wine/Z3964010141...  1.0    4.2        10.99   \n",
       "\n",
       "   logprice countrycode  \n",
       "0  1.078819         DEU  \n",
       "1  1.040998         ITA  \n",
       "2  1.040998         AUS  \n",
       "3  1.113609         ITA  \n",
       "4  1.040998         ZAF  "
      ]
     },
     "execution_count": 286,
     "metadata": {},
     "output_type": "execute_result"
    }
   ],
   "source": [
    "virgin.head()"
   ]
  },
  {
   "cell_type": "code",
   "execution_count": 287,
   "metadata": {},
   "outputs": [
    {
     "data": {
      "text/html": [
       "<div>\n",
       "<style scoped>\n",
       "    .dataframe tbody tr th:only-of-type {\n",
       "        vertical-align: middle;\n",
       "    }\n",
       "\n",
       "    .dataframe tbody tr th {\n",
       "        vertical-align: top;\n",
       "    }\n",
       "\n",
       "    .dataframe thead th {\n",
       "        text-align: right;\n",
       "    }\n",
       "</style>\n",
       "<table border=\"1\" class=\"dataframe\">\n",
       "  <thead>\n",
       "    <tr style=\"text-align: right;\">\n",
       "      <th></th>\n",
       "      <th>name</th>\n",
       "      <th>wine_type</th>\n",
       "      <th>country</th>\n",
       "      <th>year</th>\n",
       "      <th>price</th>\n",
       "      <th>scaledprice</th>\n",
       "      <th>score</th>\n",
       "      <th>num_review</th>\n",
       "      <th>abv</th>\n",
       "      <th>size</th>\n",
       "      <th>age</th>\n",
       "      <th>logprice</th>\n",
       "    </tr>\n",
       "  </thead>\n",
       "  <tbody>\n",
       "    <tr>\n",
       "      <th>0</th>\n",
       "      <td>Modernist Pinot Noir 2020</td>\n",
       "      <td>Red</td>\n",
       "      <td>Germany</td>\n",
       "      <td>2020</td>\n",
       "      <td>11.99</td>\n",
       "      <td>11.99</td>\n",
       "      <td>3.7</td>\n",
       "      <td>234</td>\n",
       "      <td>12.5</td>\n",
       "      <td>75.0</td>\n",
       "      <td>2.0</td>\n",
       "      <td>1.078819</td>\n",
       "    </tr>\n",
       "    <tr>\n",
       "      <th>1</th>\n",
       "      <td>Brio Pinot Grigio 2021</td>\n",
       "      <td>White</td>\n",
       "      <td>Italy</td>\n",
       "      <td>2021</td>\n",
       "      <td>10.99</td>\n",
       "      <td>10.99</td>\n",
       "      <td>4.4</td>\n",
       "      <td>9</td>\n",
       "      <td>12.5</td>\n",
       "      <td>75.0</td>\n",
       "      <td>1.0</td>\n",
       "      <td>1.040998</td>\n",
       "    </tr>\n",
       "    <tr>\n",
       "      <th>2</th>\n",
       "      <td>Ripper Shiraz 2021</td>\n",
       "      <td>Red</td>\n",
       "      <td>Australia</td>\n",
       "      <td>2021</td>\n",
       "      <td>10.99</td>\n",
       "      <td>10.99</td>\n",
       "      <td>4.3</td>\n",
       "      <td>1138</td>\n",
       "      <td>14.0</td>\n",
       "      <td>75.0</td>\n",
       "      <td>1.0</td>\n",
       "      <td>1.040998</td>\n",
       "    </tr>\n",
       "    <tr>\n",
       "      <th>3</th>\n",
       "      <td>Senti Prosecco Extra Dry NV</td>\n",
       "      <td>Sparkling</td>\n",
       "      <td>Italy</td>\n",
       "      <td>Non Vintage</td>\n",
       "      <td>12.99</td>\n",
       "      <td>12.99</td>\n",
       "      <td>4.3</td>\n",
       "      <td>3167</td>\n",
       "      <td>11.0</td>\n",
       "      <td>75.0</td>\n",
       "      <td>NaN</td>\n",
       "      <td>1.113609</td>\n",
       "    </tr>\n",
       "    <tr>\n",
       "      <th>4</th>\n",
       "      <td>Billy Bosch Highwire Chenin Blanc 2021</td>\n",
       "      <td>White</td>\n",
       "      <td>South Africa</td>\n",
       "      <td>2021</td>\n",
       "      <td>10.99</td>\n",
       "      <td>10.99</td>\n",
       "      <td>4.2</td>\n",
       "      <td>1096</td>\n",
       "      <td>12.0</td>\n",
       "      <td>75.0</td>\n",
       "      <td>1.0</td>\n",
       "      <td>1.040998</td>\n",
       "    </tr>\n",
       "    <tr>\n",
       "      <th>5</th>\n",
       "      <td>The Black Pig McLaren Vale Shiraz 2019</td>\n",
       "      <td>Red</td>\n",
       "      <td>Australia</td>\n",
       "      <td>2019</td>\n",
       "      <td>13.99</td>\n",
       "      <td>13.99</td>\n",
       "      <td>4.6</td>\n",
       "      <td>3317</td>\n",
       "      <td>14.0</td>\n",
       "      <td>75.0</td>\n",
       "      <td>3.0</td>\n",
       "      <td>1.145818</td>\n",
       "    </tr>\n",
       "    <tr>\n",
       "      <th>6</th>\n",
       "      <td>Champagne Gremillet Brut Selection NV</td>\n",
       "      <td>Sparkling</td>\n",
       "      <td>France</td>\n",
       "      <td>Non Vintage</td>\n",
       "      <td>27.99</td>\n",
       "      <td>27.99</td>\n",
       "      <td>4.4</td>\n",
       "      <td>394</td>\n",
       "      <td>12.0</td>\n",
       "      <td>75.0</td>\n",
       "      <td>NaN</td>\n",
       "      <td>1.447003</td>\n",
       "    </tr>\n",
       "    <tr>\n",
       "      <th>7</th>\n",
       "      <td>El Nubarron Carmenere 2021</td>\n",
       "      <td>Red</td>\n",
       "      <td>Chile</td>\n",
       "      <td>2021</td>\n",
       "      <td>10.99</td>\n",
       "      <td>10.99</td>\n",
       "      <td>4.2</td>\n",
       "      <td>150</td>\n",
       "      <td>13.5</td>\n",
       "      <td>75.0</td>\n",
       "      <td>1.0</td>\n",
       "      <td>1.040998</td>\n",
       "    </tr>\n",
       "    <tr>\n",
       "      <th>8</th>\n",
       "      <td>Savvie Marlborough Sauvignon Blanc 2021</td>\n",
       "      <td>White</td>\n",
       "      <td>New Zealand</td>\n",
       "      <td>2021</td>\n",
       "      <td>14.99</td>\n",
       "      <td>14.99</td>\n",
       "      <td>4.4</td>\n",
       "      <td>24</td>\n",
       "      <td>13.0</td>\n",
       "      <td>75.0</td>\n",
       "      <td>1.0</td>\n",
       "      <td>1.175802</td>\n",
       "    </tr>\n",
       "    <tr>\n",
       "      <th>9</th>\n",
       "      <td>Jose Rose 2021</td>\n",
       "      <td>Rose</td>\n",
       "      <td>Spain</td>\n",
       "      <td>2021</td>\n",
       "      <td>8.99</td>\n",
       "      <td>8.99</td>\n",
       "      <td>4.1</td>\n",
       "      <td>150</td>\n",
       "      <td>12.0</td>\n",
       "      <td>75.0</td>\n",
       "      <td>1.0</td>\n",
       "      <td>0.953760</td>\n",
       "    </tr>\n",
       "    <tr>\n",
       "      <th>10</th>\n",
       "      <td>Perez Cruz Single Vineyard La Higuera Block 2020</td>\n",
       "      <td>Red</td>\n",
       "      <td>Chile</td>\n",
       "      <td>2020</td>\n",
       "      <td>21.99</td>\n",
       "      <td>21.99</td>\n",
       "      <td>4.5</td>\n",
       "      <td>4156</td>\n",
       "      <td>13.5</td>\n",
       "      <td>75.0</td>\n",
       "      <td>2.0</td>\n",
       "      <td>1.342225</td>\n",
       "    </tr>\n",
       "    <tr>\n",
       "      <th>11</th>\n",
       "      <td>Senti Prosecco Rose Extra Dry NV</td>\n",
       "      <td>Sparkling</td>\n",
       "      <td>Italy</td>\n",
       "      <td>Non Vintage</td>\n",
       "      <td>14.99</td>\n",
       "      <td>14.99</td>\n",
       "      <td>4.4</td>\n",
       "      <td>257</td>\n",
       "      <td>11.0</td>\n",
       "      <td>75.0</td>\n",
       "      <td>NaN</td>\n",
       "      <td>1.175802</td>\n",
       "    </tr>\n",
       "    <tr>\n",
       "      <th>12</th>\n",
       "      <td>Villa des Croix Picpoul de Pinet 2021</td>\n",
       "      <td>White</td>\n",
       "      <td>France</td>\n",
       "      <td>2021</td>\n",
       "      <td>14.99</td>\n",
       "      <td>14.99</td>\n",
       "      <td>0.0</td>\n",
       "      <td>1</td>\n",
       "      <td>12.5</td>\n",
       "      <td>75.0</td>\n",
       "      <td>1.0</td>\n",
       "      <td>1.175802</td>\n",
       "    </tr>\n",
       "    <tr>\n",
       "      <th>13</th>\n",
       "      <td>Black Flag Winemakers Old Vine Grenache 2018</td>\n",
       "      <td>Red</td>\n",
       "      <td>Australia</td>\n",
       "      <td>2018</td>\n",
       "      <td>25.99</td>\n",
       "      <td>25.99</td>\n",
       "      <td>4.5</td>\n",
       "      <td>49</td>\n",
       "      <td>14.0</td>\n",
       "      <td>75.0</td>\n",
       "      <td>4.0</td>\n",
       "      <td>1.414806</td>\n",
       "    </tr>\n",
       "    <tr>\n",
       "      <th>14</th>\n",
       "      <td>The Black Pig Sauvignon Blanc 2021</td>\n",
       "      <td>White</td>\n",
       "      <td>Australia</td>\n",
       "      <td>2021</td>\n",
       "      <td>12.99</td>\n",
       "      <td>12.99</td>\n",
       "      <td>4.4</td>\n",
       "      <td>4991</td>\n",
       "      <td>12.0</td>\n",
       "      <td>75.0</td>\n",
       "      <td>1.0</td>\n",
       "      <td>1.113609</td>\n",
       "    </tr>\n",
       "    <tr>\n",
       "      <th>15</th>\n",
       "      <td>Gypsy Lee Rose White Zinfandel 2020</td>\n",
       "      <td>Rose</td>\n",
       "      <td>USA</td>\n",
       "      <td>2020</td>\n",
       "      <td>9.99</td>\n",
       "      <td>9.99</td>\n",
       "      <td>3.8</td>\n",
       "      <td>1594</td>\n",
       "      <td>11.0</td>\n",
       "      <td>75.0</td>\n",
       "      <td>2.0</td>\n",
       "      <td>0.999565</td>\n",
       "    </tr>\n",
       "    <tr>\n",
       "      <th>16</th>\n",
       "      <td>El Nubarron Semillon 2021</td>\n",
       "      <td>White</td>\n",
       "      <td>Chile</td>\n",
       "      <td>2021</td>\n",
       "      <td>10.99</td>\n",
       "      <td>10.99</td>\n",
       "      <td>4.1</td>\n",
       "      <td>82</td>\n",
       "      <td>12.0</td>\n",
       "      <td>75.0</td>\n",
       "      <td>1.0</td>\n",
       "      <td>1.040998</td>\n",
       "    </tr>\n",
       "    <tr>\n",
       "      <th>17</th>\n",
       "      <td>Hielo y Fuego Merlot 2021</td>\n",
       "      <td>Red</td>\n",
       "      <td>Chile</td>\n",
       "      <td>2021</td>\n",
       "      <td>10.99</td>\n",
       "      <td>10.99</td>\n",
       "      <td>3.9</td>\n",
       "      <td>1157</td>\n",
       "      <td>13.0</td>\n",
       "      <td>75.0</td>\n",
       "      <td>1.0</td>\n",
       "      <td>1.040998</td>\n",
       "    </tr>\n",
       "    <tr>\n",
       "      <th>18</th>\n",
       "      <td>Hummingbird Verdelho 2021</td>\n",
       "      <td>White</td>\n",
       "      <td>Australia</td>\n",
       "      <td>2021</td>\n",
       "      <td>9.99</td>\n",
       "      <td>9.99</td>\n",
       "      <td>4.2</td>\n",
       "      <td>2723</td>\n",
       "      <td>12.5</td>\n",
       "      <td>75.0</td>\n",
       "      <td>1.0</td>\n",
       "      <td>0.999565</td>\n",
       "    </tr>\n",
       "    <tr>\n",
       "      <th>19</th>\n",
       "      <td>Ombra Prosecco Frizzante NV</td>\n",
       "      <td>Sparkling</td>\n",
       "      <td>Italy</td>\n",
       "      <td>Non Vintage</td>\n",
       "      <td>12.99</td>\n",
       "      <td>12.99</td>\n",
       "      <td>4.1</td>\n",
       "      <td>710</td>\n",
       "      <td>11.0</td>\n",
       "      <td>75.0</td>\n",
       "      <td>NaN</td>\n",
       "      <td>1.113609</td>\n",
       "    </tr>\n",
       "  </tbody>\n",
       "</table>\n",
       "</div>"
      ],
      "text/plain": [
       "                                                name  wine_type       country  \\\n",
       "0                          Modernist Pinot Noir 2020        Red       Germany   \n",
       "1                             Brio Pinot Grigio 2021      White         Italy   \n",
       "2                                 Ripper Shiraz 2021        Red     Australia   \n",
       "3                        Senti Prosecco Extra Dry NV  Sparkling         Italy   \n",
       "4             Billy Bosch Highwire Chenin Blanc 2021      White  South Africa   \n",
       "5             The Black Pig McLaren Vale Shiraz 2019        Red     Australia   \n",
       "6              Champagne Gremillet Brut Selection NV  Sparkling        France   \n",
       "7                         El Nubarron Carmenere 2021        Red         Chile   \n",
       "8            Savvie Marlborough Sauvignon Blanc 2021      White   New Zealand   \n",
       "9                                     Jose Rose 2021       Rose         Spain   \n",
       "10  Perez Cruz Single Vineyard La Higuera Block 2020        Red         Chile   \n",
       "11                  Senti Prosecco Rose Extra Dry NV  Sparkling         Italy   \n",
       "12             Villa des Croix Picpoul de Pinet 2021      White        France   \n",
       "13      Black Flag Winemakers Old Vine Grenache 2018        Red     Australia   \n",
       "14                The Black Pig Sauvignon Blanc 2021      White     Australia   \n",
       "15               Gypsy Lee Rose White Zinfandel 2020       Rose           USA   \n",
       "16                         El Nubarron Semillon 2021      White         Chile   \n",
       "17                         Hielo y Fuego Merlot 2021        Red         Chile   \n",
       "18                         Hummingbird Verdelho 2021      White     Australia   \n",
       "19                       Ombra Prosecco Frizzante NV  Sparkling         Italy   \n",
       "\n",
       "           year  price  scaledprice  score  num_review   abv  size  age  \\\n",
       "0          2020  11.99        11.99    3.7         234  12.5  75.0  2.0   \n",
       "1          2021  10.99        10.99    4.4           9  12.5  75.0  1.0   \n",
       "2          2021  10.99        10.99    4.3        1138  14.0  75.0  1.0   \n",
       "3   Non Vintage  12.99        12.99    4.3        3167  11.0  75.0  NaN   \n",
       "4          2021  10.99        10.99    4.2        1096  12.0  75.0  1.0   \n",
       "5          2019  13.99        13.99    4.6        3317  14.0  75.0  3.0   \n",
       "6   Non Vintage  27.99        27.99    4.4         394  12.0  75.0  NaN   \n",
       "7          2021  10.99        10.99    4.2         150  13.5  75.0  1.0   \n",
       "8          2021  14.99        14.99    4.4          24  13.0  75.0  1.0   \n",
       "9          2021   8.99         8.99    4.1         150  12.0  75.0  1.0   \n",
       "10         2020  21.99        21.99    4.5        4156  13.5  75.0  2.0   \n",
       "11  Non Vintage  14.99        14.99    4.4         257  11.0  75.0  NaN   \n",
       "12         2021  14.99        14.99    0.0           1  12.5  75.0  1.0   \n",
       "13         2018  25.99        25.99    4.5          49  14.0  75.0  4.0   \n",
       "14         2021  12.99        12.99    4.4        4991  12.0  75.0  1.0   \n",
       "15         2020   9.99         9.99    3.8        1594  11.0  75.0  2.0   \n",
       "16         2021  10.99        10.99    4.1          82  12.0  75.0  1.0   \n",
       "17         2021  10.99        10.99    3.9        1157  13.0  75.0  1.0   \n",
       "18         2021   9.99         9.99    4.2        2723  12.5  75.0  1.0   \n",
       "19  Non Vintage  12.99        12.99    4.1         710  11.0  75.0  NaN   \n",
       "\n",
       "    logprice  \n",
       "0   1.078819  \n",
       "1   1.040998  \n",
       "2   1.040998  \n",
       "3   1.113609  \n",
       "4   1.040998  \n",
       "5   1.145818  \n",
       "6   1.447003  \n",
       "7   1.040998  \n",
       "8   1.175802  \n",
       "9   0.953760  \n",
       "10  1.342225  \n",
       "11  1.175802  \n",
       "12  1.175802  \n",
       "13  1.414806  \n",
       "14  1.113609  \n",
       "15  0.999565  \n",
       "16  1.040998  \n",
       "17  1.040998  \n",
       "18  0.999565  \n",
       "19  1.113609  "
      ]
     },
     "execution_count": 287,
     "metadata": {},
     "output_type": "execute_result"
    }
   ],
   "source": [
    "virgin_to_merge = virgin[['name', 'wine_type', 'country', 'year','price','scaledprice', 'score', 'num_review', 'abv', 'size','age','logprice']]\n",
    "virgin_to_merge.head(20)"
   ]
  },
  {
   "cell_type": "code",
   "execution_count": 289,
   "metadata": {},
   "outputs": [
    {
     "name": "stderr",
     "output_type": "stream",
     "text": [
      "C:\\Users\\aparn\\AppData\\Local\\Temp\\ipykernel_15860\\2349312985.py:2: SettingWithCopyWarning: \n",
      "A value is trying to be set on a copy of a slice from a DataFrame\n",
      "\n",
      "See the caveats in the documentation: https://pandas.pydata.org/pandas-docs/stable/user_guide/indexing.html#returning-a-view-versus-a-copy\n",
      "  virgin_to_merge.rename(columns={'size' : 'size(cL)'}, inplace=True)\n"
     ]
    },
    {
     "data": {
      "text/html": [
       "<div>\n",
       "<style scoped>\n",
       "    .dataframe tbody tr th:only-of-type {\n",
       "        vertical-align: middle;\n",
       "    }\n",
       "\n",
       "    .dataframe tbody tr th {\n",
       "        vertical-align: top;\n",
       "    }\n",
       "\n",
       "    .dataframe thead th {\n",
       "        text-align: right;\n",
       "    }\n",
       "</style>\n",
       "<table border=\"1\" class=\"dataframe\">\n",
       "  <thead>\n",
       "    <tr style=\"text-align: right;\">\n",
       "      <th></th>\n",
       "      <th>name</th>\n",
       "      <th>wine_type</th>\n",
       "      <th>country</th>\n",
       "      <th>year</th>\n",
       "      <th>price</th>\n",
       "      <th>scaledprice</th>\n",
       "      <th>score</th>\n",
       "      <th>num_review</th>\n",
       "      <th>abv</th>\n",
       "      <th>size(cL)</th>\n",
       "      <th>age</th>\n",
       "      <th>logprice</th>\n",
       "    </tr>\n",
       "  </thead>\n",
       "  <tbody>\n",
       "    <tr>\n",
       "      <th>0</th>\n",
       "      <td>Modernist Pinot Noir 2020</td>\n",
       "      <td>Red</td>\n",
       "      <td>Germany</td>\n",
       "      <td>2020</td>\n",
       "      <td>11.99</td>\n",
       "      <td>11.99</td>\n",
       "      <td>3.7</td>\n",
       "      <td>234</td>\n",
       "      <td>12.5</td>\n",
       "      <td>75.0</td>\n",
       "      <td>2.0</td>\n",
       "      <td>1.078819</td>\n",
       "    </tr>\n",
       "    <tr>\n",
       "      <th>1</th>\n",
       "      <td>Brio Pinot Grigio 2021</td>\n",
       "      <td>White</td>\n",
       "      <td>Italy</td>\n",
       "      <td>2021</td>\n",
       "      <td>10.99</td>\n",
       "      <td>10.99</td>\n",
       "      <td>4.4</td>\n",
       "      <td>9</td>\n",
       "      <td>12.5</td>\n",
       "      <td>75.0</td>\n",
       "      <td>1.0</td>\n",
       "      <td>1.040998</td>\n",
       "    </tr>\n",
       "    <tr>\n",
       "      <th>2</th>\n",
       "      <td>Ripper Shiraz 2021</td>\n",
       "      <td>Red</td>\n",
       "      <td>Australia</td>\n",
       "      <td>2021</td>\n",
       "      <td>10.99</td>\n",
       "      <td>10.99</td>\n",
       "      <td>4.3</td>\n",
       "      <td>1138</td>\n",
       "      <td>14.0</td>\n",
       "      <td>75.0</td>\n",
       "      <td>1.0</td>\n",
       "      <td>1.040998</td>\n",
       "    </tr>\n",
       "    <tr>\n",
       "      <th>3</th>\n",
       "      <td>Senti Prosecco Extra Dry NV</td>\n",
       "      <td>Sparkling</td>\n",
       "      <td>Italy</td>\n",
       "      <td>Non Vintage</td>\n",
       "      <td>12.99</td>\n",
       "      <td>12.99</td>\n",
       "      <td>4.3</td>\n",
       "      <td>3167</td>\n",
       "      <td>11.0</td>\n",
       "      <td>75.0</td>\n",
       "      <td>NaN</td>\n",
       "      <td>1.113609</td>\n",
       "    </tr>\n",
       "    <tr>\n",
       "      <th>4</th>\n",
       "      <td>Billy Bosch Highwire Chenin Blanc 2021</td>\n",
       "      <td>White</td>\n",
       "      <td>South Africa</td>\n",
       "      <td>2021</td>\n",
       "      <td>10.99</td>\n",
       "      <td>10.99</td>\n",
       "      <td>4.2</td>\n",
       "      <td>1096</td>\n",
       "      <td>12.0</td>\n",
       "      <td>75.0</td>\n",
       "      <td>1.0</td>\n",
       "      <td>1.040998</td>\n",
       "    </tr>\n",
       "  </tbody>\n",
       "</table>\n",
       "</div>"
      ],
      "text/plain": [
       "                                     name  wine_type       country  \\\n",
       "0               Modernist Pinot Noir 2020        Red       Germany   \n",
       "1                  Brio Pinot Grigio 2021      White         Italy   \n",
       "2                      Ripper Shiraz 2021        Red     Australia   \n",
       "3             Senti Prosecco Extra Dry NV  Sparkling         Italy   \n",
       "4  Billy Bosch Highwire Chenin Blanc 2021      White  South Africa   \n",
       "\n",
       "          year  price  scaledprice  score  num_review   abv  size(cL)  age  \\\n",
       "0         2020  11.99        11.99    3.7         234  12.5      75.0  2.0   \n",
       "1         2021  10.99        10.99    4.4           9  12.5      75.0  1.0   \n",
       "2         2021  10.99        10.99    4.3        1138  14.0      75.0  1.0   \n",
       "3  Non Vintage  12.99        12.99    4.3        3167  11.0      75.0  NaN   \n",
       "4         2021  10.99        10.99    4.2        1096  12.0      75.0  1.0   \n",
       "\n",
       "   logprice  \n",
       "0  1.078819  \n",
       "1  1.040998  \n",
       "2  1.040998  \n",
       "3  1.113609  \n",
       "4  1.040998  "
      ]
     },
     "execution_count": 289,
     "metadata": {},
     "output_type": "execute_result"
    }
   ],
   "source": [
    "# rename column to size for ease of use\n",
    "virgin_to_merge.rename(columns={'size' : 'size(cL)'}, inplace=True)\n",
    "virgin_to_merge.head()"
   ]
  },
  {
   "cell_type": "code",
   "execution_count": 290,
   "metadata": {},
   "outputs": [],
   "source": [
    "virgin_to_merge.to_csv('virgin_to_merge.csv')"
   ]
  }
 ],
 "metadata": {
  "kernelspec": {
   "display_name": "Python 3.9.12 ('base')",
   "language": "python",
   "name": "python3"
  },
  "language_info": {
   "codemirror_mode": {
    "name": "ipython",
    "version": 3
   },
   "file_extension": ".py",
   "mimetype": "text/x-python",
   "name": "python",
   "nbconvert_exporter": "python",
   "pygments_lexer": "ipython3",
   "version": "3.9.12"
  },
  "vscode": {
   "interpreter": {
    "hash": "d71a953461ef8512bf8c46eb6fc2f9e581b856ead0007056e27a33224d52d358"
   }
  }
 },
 "nbformat": 4,
 "nbformat_minor": 4
}
